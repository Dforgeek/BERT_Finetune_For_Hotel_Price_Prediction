{
 "cells": [
  {
   "cell_type": "markdown",
   "id": "90034cd1",
   "metadata": {
    "papermill": {
     "duration": 0.008515,
     "end_time": "2023-12-27T00:04:35.046804",
     "exception": false,
     "start_time": "2023-12-27T00:04:35.038289",
     "status": "completed"
    },
    "tags": []
   },
   "source": [
    "### Задача регрессии, или как у меня времени на генерацию не хватило\n",
    "Взял [dataset](https://github.com/itmo-ml-lab-ML-course/parser-Dforgeek) первой лабы "
   ]
  },
  {
   "cell_type": "code",
   "execution_count": 1,
   "id": "c521af98",
   "metadata": {
    "ExecuteTime": {
     "end_time": "2023-12-26T18:24:51.120124Z",
     "start_time": "2023-12-26T18:24:50.890291100Z"
    },
    "collapsed": true,
    "execution": {
     "iopub.execute_input": "2023-12-27T00:04:35.064258Z",
     "iopub.status.busy": "2023-12-27T00:04:35.063907Z",
     "iopub.status.idle": "2023-12-27T00:04:40.638449Z",
     "shell.execute_reply": "2023-12-27T00:04:40.637481Z"
    },
    "jupyter": {
     "outputs_hidden": true
    },
    "papermill": {
     "duration": 5.586197,
     "end_time": "2023-12-27T00:04:40.641014",
     "exception": false,
     "start_time": "2023-12-27T00:04:35.054817",
     "status": "completed"
    },
    "tags": []
   },
   "outputs": [
    {
     "name": "stderr",
     "output_type": "stream",
     "text": [
      "/opt/conda/lib/python3.10/site-packages/scipy/__init__.py:146: UserWarning: A NumPy version >=1.16.5 and <1.23.0 is required for this version of SciPy (detected version 1.24.3\n",
      "  warnings.warn(f\"A NumPy version >={np_minversion} and <{np_maxversion}\"\n"
     ]
    }
   ],
   "source": [
    "import pandas as pd\n",
    "import numpy as np\n",
    "import torch.nn.functional as F\n",
    "import matplotlib.pyplot as plt\n",
    "from nltk.corpus import stopwords\n",
    "from nltk.tokenize import word_tokenize\n",
    "from collections import Counter\n",
    "import nltk\n",
    "import torch\n",
    "from torch.utils.data import Dataset, DataLoader"
   ]
  },
  {
   "cell_type": "code",
   "execution_count": 2,
   "id": "54bffb88",
   "metadata": {
    "ExecuteTime": {
     "end_time": "2023-12-26T18:24:51.225176200Z",
     "start_time": "2023-12-26T18:24:50.909112500Z"
    },
    "collapsed": false,
    "execution": {
     "iopub.execute_input": "2023-12-27T00:04:40.658600Z",
     "iopub.status.busy": "2023-12-27T00:04:40.658227Z",
     "iopub.status.idle": "2023-12-27T00:04:41.043830Z",
     "shell.execute_reply": "2023-12-27T00:04:41.042914Z"
    },
    "papermill": {
     "duration": 0.396836,
     "end_time": "2023-12-27T00:04:41.046083",
     "exception": false,
     "start_time": "2023-12-27T00:04:40.649247",
     "status": "completed"
    },
    "tags": []
   },
   "outputs": [
    {
     "data": {
      "text/html": [
       "<div>\n",
       "<style scoped>\n",
       "    .dataframe tbody tr th:only-of-type {\n",
       "        vertical-align: middle;\n",
       "    }\n",
       "\n",
       "    .dataframe tbody tr th {\n",
       "        vertical-align: top;\n",
       "    }\n",
       "\n",
       "    .dataframe thead th {\n",
       "        text-align: right;\n",
       "    }\n",
       "</style>\n",
       "<table border=\"1\" class=\"dataframe\">\n",
       "  <thead>\n",
       "    <tr style=\"text-align: right;\">\n",
       "      <th></th>\n",
       "      <th>Hotel Name</th>\n",
       "      <th>Is Top Stays</th>\n",
       "      <th>Center Distance</th>\n",
       "      <th>Metro Distance</th>\n",
       "      <th>Price</th>\n",
       "      <th>Rating</th>\n",
       "      <th>Number of Reviews</th>\n",
       "      <th>Description</th>\n",
       "      <th>Индивидуальная регистрация заезда и отъезда</th>\n",
       "      <th>Компьютер</th>\n",
       "      <th>...</th>\n",
       "      <th>Упакованные ланчи</th>\n",
       "      <th>Бесплатный Wi-Fi</th>\n",
       "      <th>Доступ в интернет</th>\n",
       "      <th>Трансфер</th>\n",
       "      <th>Трансфер от аэропорта</th>\n",
       "      <th>Персонал говорит на английском</th>\n",
       "      <th>Персонал говорит на русском</th>\n",
       "      <th>Парковка</th>\n",
       "      <th>Размещение подходит для семей/детей</th>\n",
       "      <th>Размещение с домашними животными не допускается</th>\n",
       "    </tr>\n",
       "  </thead>\n",
       "  <tbody>\n",
       "    <tr>\n",
       "      <th>0</th>\n",
       "      <td>Апартаменты Премиум на Стрелке Васильевского</td>\n",
       "      <td>True</td>\n",
       "      <td>1.4</td>\n",
       "      <td>0.605</td>\n",
       "      <td>6800</td>\n",
       "      <td>9.9</td>\n",
       "      <td>12</td>\n",
       "      <td>Выбор туристов, которые хотят везде чувствоват...</td>\n",
       "      <td>True</td>\n",
       "      <td>False</td>\n",
       "      <td>...</td>\n",
       "      <td>False</td>\n",
       "      <td>True</td>\n",
       "      <td>False</td>\n",
       "      <td>False</td>\n",
       "      <td>False</td>\n",
       "      <td>False</td>\n",
       "      <td>False</td>\n",
       "      <td>True</td>\n",
       "      <td>True</td>\n",
       "      <td>False</td>\n",
       "    </tr>\n",
       "    <tr>\n",
       "      <th>1</th>\n",
       "      <td>Апартаменты Антресоль</td>\n",
       "      <td>True</td>\n",
       "      <td>1.7</td>\n",
       "      <td>0.415</td>\n",
       "      <td>2300</td>\n",
       "      <td>9.3</td>\n",
       "      <td>89</td>\n",
       "      <td>Подходящий вариант для большой компании: апарт...</td>\n",
       "      <td>False</td>\n",
       "      <td>False</td>\n",
       "      <td>...</td>\n",
       "      <td>False</td>\n",
       "      <td>False</td>\n",
       "      <td>True</td>\n",
       "      <td>False</td>\n",
       "      <td>False</td>\n",
       "      <td>False</td>\n",
       "      <td>False</td>\n",
       "      <td>True</td>\n",
       "      <td>False</td>\n",
       "      <td>True</td>\n",
       "    </tr>\n",
       "    <tr>\n",
       "      <th>2</th>\n",
       "      <td>Апартаменты 15 комнат Петербургская квартира</td>\n",
       "      <td>True</td>\n",
       "      <td>2.5</td>\n",
       "      <td>0.281</td>\n",
       "      <td>1800</td>\n",
       "      <td>8.4</td>\n",
       "      <td>41</td>\n",
       "      <td>Залог хорошего отдыха — чувствовать себя в нов...</td>\n",
       "      <td>False</td>\n",
       "      <td>False</td>\n",
       "      <td>...</td>\n",
       "      <td>False</td>\n",
       "      <td>False</td>\n",
       "      <td>True</td>\n",
       "      <td>False</td>\n",
       "      <td>False</td>\n",
       "      <td>False</td>\n",
       "      <td>False</td>\n",
       "      <td>False</td>\n",
       "      <td>True</td>\n",
       "      <td>False</td>\n",
       "    </tr>\n",
       "    <tr>\n",
       "      <th>3</th>\n",
       "      <td>Апартаменты Art Mayak</td>\n",
       "      <td>True</td>\n",
       "      <td>2.2</td>\n",
       "      <td>0.797</td>\n",
       "      <td>10400</td>\n",
       "      <td>10.0</td>\n",
       "      <td>7</td>\n",
       "      <td>Апартаменты «Art Mayak» расположены в Санкт-Пе...</td>\n",
       "      <td>True</td>\n",
       "      <td>False</td>\n",
       "      <td>...</td>\n",
       "      <td>False</td>\n",
       "      <td>True</td>\n",
       "      <td>False</td>\n",
       "      <td>False</td>\n",
       "      <td>False</td>\n",
       "      <td>False</td>\n",
       "      <td>False</td>\n",
       "      <td>True</td>\n",
       "      <td>True</td>\n",
       "      <td>True</td>\n",
       "    </tr>\n",
       "    <tr>\n",
       "      <th>4</th>\n",
       "      <td>Отель ARTSTUDIO Nevsky</td>\n",
       "      <td>True</td>\n",
       "      <td>2.9</td>\n",
       "      <td>0.355</td>\n",
       "      <td>5600</td>\n",
       "      <td>8.5</td>\n",
       "      <td>187</td>\n",
       "      <td>Отель бизнес-класса «ARTSTUDIO Nevsky» располо...</td>\n",
       "      <td>True</td>\n",
       "      <td>False</td>\n",
       "      <td>...</td>\n",
       "      <td>False</td>\n",
       "      <td>True</td>\n",
       "      <td>False</td>\n",
       "      <td>True</td>\n",
       "      <td>True</td>\n",
       "      <td>False</td>\n",
       "      <td>False</td>\n",
       "      <td>True</td>\n",
       "      <td>True</td>\n",
       "      <td>False</td>\n",
       "    </tr>\n",
       "  </tbody>\n",
       "</table>\n",
       "<p>5 rows × 51 columns</p>\n",
       "</div>"
      ],
      "text/plain": [
       "                                     Hotel Name  Is Top Stays  \\\n",
       "0  Апартаменты Премиум на Стрелке Васильевского          True   \n",
       "1                         Апартаменты Антресоль          True   \n",
       "2  Апартаменты 15 комнат Петербургская квартира          True   \n",
       "3                         Апартаменты Art Mayak          True   \n",
       "4                        Отель ARTSTUDIO Nevsky          True   \n",
       "\n",
       "   Center Distance  Metro Distance  Price  Rating  Number of Reviews  \\\n",
       "0              1.4           0.605   6800     9.9                 12   \n",
       "1              1.7           0.415   2300     9.3                 89   \n",
       "2              2.5           0.281   1800     8.4                 41   \n",
       "3              2.2           0.797  10400    10.0                  7   \n",
       "4              2.9           0.355   5600     8.5                187   \n",
       "\n",
       "                                         Description  \\\n",
       "0  Выбор туристов, которые хотят везде чувствоват...   \n",
       "1  Подходящий вариант для большой компании: апарт...   \n",
       "2  Залог хорошего отдыха — чувствовать себя в нов...   \n",
       "3  Апартаменты «Art Mayak» расположены в Санкт-Пе...   \n",
       "4  Отель бизнес-класса «ARTSTUDIO Nevsky» располо...   \n",
       "\n",
       "   Индивидуальная регистрация заезда и отъезда  Компьютер  ...  \\\n",
       "0                                         True      False  ...   \n",
       "1                                        False      False  ...   \n",
       "2                                        False      False  ...   \n",
       "3                                         True      False  ...   \n",
       "4                                         True      False  ...   \n",
       "\n",
       "   Упакованные ланчи  Бесплатный Wi-Fi  Доступ в интернет  Трансфер  \\\n",
       "0              False              True              False     False   \n",
       "1              False             False               True     False   \n",
       "2              False             False               True     False   \n",
       "3              False              True              False     False   \n",
       "4              False              True              False      True   \n",
       "\n",
       "   Трансфер от аэропорта  Персонал говорит на английском  \\\n",
       "0                  False                           False   \n",
       "1                  False                           False   \n",
       "2                  False                           False   \n",
       "3                  False                           False   \n",
       "4                   True                           False   \n",
       "\n",
       "   Персонал говорит на русском  Парковка  Размещение подходит для семей/детей  \\\n",
       "0                        False      True                                 True   \n",
       "1                        False      True                                False   \n",
       "2                        False     False                                 True   \n",
       "3                        False      True                                 True   \n",
       "4                        False      True                                 True   \n",
       "\n",
       "   Размещение с домашними животными не допускается  \n",
       "0                                            False  \n",
       "1                                             True  \n",
       "2                                            False  \n",
       "3                                             True  \n",
       "4                                            False  \n",
       "\n",
       "[5 rows x 51 columns]"
      ]
     },
     "execution_count": 2,
     "metadata": {},
     "output_type": "execute_result"
    }
   ],
   "source": [
    "df = pd.read_csv(\"/kaggle/input/hotel-data/hotel_data.csv\").convert_dtypes()\n",
    "df.head()"
   ]
  },
  {
   "cell_type": "code",
   "execution_count": 3,
   "id": "ba8040f8",
   "metadata": {
    "ExecuteTime": {
     "end_time": "2023-12-26T18:24:51.227178300Z",
     "start_time": "2023-12-26T18:24:51.196207200Z"
    },
    "collapsed": false,
    "execution": {
     "iopub.execute_input": "2023-12-27T00:04:41.064675Z",
     "iopub.status.busy": "2023-12-27T00:04:41.064364Z",
     "iopub.status.idle": "2023-12-27T00:04:41.093720Z",
     "shell.execute_reply": "2023-12-27T00:04:41.092449Z"
    },
    "papermill": {
     "duration": 0.040754,
     "end_time": "2023-12-27T00:04:41.095684",
     "exception": false,
     "start_time": "2023-12-27T00:04:41.054930",
     "status": "completed"
    },
    "tags": []
   },
   "outputs": [
    {
     "name": "stdout",
     "output_type": "stream",
     "text": [
      "<class 'pandas.core.frame.DataFrame'>\n",
      "RangeIndex: 12619 entries, 0 to 12618\n",
      "Data columns (total 51 columns):\n",
      " #   Column                                           Non-Null Count  Dtype  \n",
      "---  ------                                           --------------  -----  \n",
      " 0   Hotel Name                                       12619 non-null  string \n",
      " 1   Is Top Stays                                     12619 non-null  boolean\n",
      " 2   Center Distance                                  12619 non-null  Float64\n",
      " 3   Metro Distance                                   12619 non-null  Float64\n",
      " 4   Price                                            12604 non-null  Int64  \n",
      " 5   Rating                                           6498 non-null   Float64\n",
      " 6   Number of Reviews                                6313 non-null   Int64  \n",
      " 7   Description                                      12517 non-null  string \n",
      " 8   Индивидуальная регистрация заезда и отъезда      12619 non-null  boolean\n",
      " 9   Компьютер                                        12619 non-null  boolean\n",
      " 10  Бесплатная общественная парковка поблизости      12619 non-null  boolean\n",
      " 11  Круглосуточная стойка регистрации                12619 non-null  boolean\n",
      " 12  Магазины                                         12619 non-null  boolean\n",
      " 13  Отель для некурящих                              12619 non-null  boolean\n",
      " 14  Отопление                                        12619 non-null  boolean\n",
      " 15  Поздняя регистрация выезда                       12619 non-null  boolean\n",
      " 16  Пресса                                           12619 non-null  boolean\n",
      " 17  Ранняя регистрация заезда                        12619 non-null  boolean\n",
      " 18  Стиральная машина                                12619 non-null  boolean\n",
      " 19  Терраса                                          12619 non-null  boolean\n",
      " 20  Ускоренная регистрация заезда                    12619 non-null  boolean\n",
      " 21  Кабельное телевидение                            12619 non-null  boolean\n",
      " 22  Номера для некурящих                             12619 non-null  boolean\n",
      " 23  Обслуживание номеров                             12619 non-null  boolean\n",
      " 24  Сейф (в номере)                                  12619 non-null  boolean\n",
      " 25  Семейные номера                                  12619 non-null  boolean\n",
      " 26  Телевизор                                        12619 non-null  boolean\n",
      " 27  Халат                                            12619 non-null  boolean\n",
      " 28  Холодильник                                      12619 non-null  boolean\n",
      " 29  Гладильные принадлежности                        12619 non-null  boolean\n",
      " 30  Гладильные услуги (оплачивается отдельно)        12619 non-null  boolean\n",
      " 31  Телефон                                          12619 non-null  boolean\n",
      " 32  Фен (по запросу)                                 12619 non-null  boolean\n",
      " 33  Хранение багажа                                  12619 non-null  boolean\n",
      " 34  Бар                                              12619 non-null  boolean\n",
      " 35  Бесплатный чай/кофе                              12619 non-null  boolean\n",
      " 36  Диетическое меню (по запросу)                    12619 non-null  boolean\n",
      " 37  Завтрак                                          12619 non-null  boolean\n",
      " 38  Завтрак в номер                                  12619 non-null  boolean\n",
      " 39  Кафе                                             12619 non-null  boolean\n",
      " 40  Микроволновая печь                               12619 non-null  boolean\n",
      " 41  Упакованные ланчи                                12619 non-null  boolean\n",
      " 42  Бесплатный Wi-Fi                                 12619 non-null  boolean\n",
      " 43  Доступ в интернет                                12619 non-null  boolean\n",
      " 44  Трансфер                                         12619 non-null  boolean\n",
      " 45  Трансфер от аэропорта                            12619 non-null  boolean\n",
      " 46  Персонал говорит на английском                   12619 non-null  boolean\n",
      " 47  Персонал говорит на русском                      12619 non-null  boolean\n",
      " 48  Парковка                                         12619 non-null  boolean\n",
      " 49  Размещение подходит для семей/детей              12619 non-null  boolean\n",
      " 50  Размещение с домашними животными не допускается  12619 non-null  boolean\n",
      "dtypes: Float64(3), Int64(2), boolean(44), string(2)\n",
      "memory usage: 1.8 MB\n"
     ]
    }
   ],
   "source": [
    "df.info()"
   ]
  },
  {
   "cell_type": "markdown",
   "id": "d3b3bb77",
   "metadata": {
    "papermill": {
     "duration": 0.008554,
     "end_time": "2023-12-27T00:04:41.113074",
     "exception": false,
     "start_time": "2023-12-27T00:04:41.104520",
     "status": "completed"
    },
    "tags": []
   },
   "source": [
    "Предобработка из третьей лабы числовых признаков"
   ]
  },
  {
   "cell_type": "code",
   "execution_count": 4,
   "id": "34657b07",
   "metadata": {
    "ExecuteTime": {
     "end_time": "2023-12-26T18:24:51.323287Z",
     "start_time": "2023-12-26T18:24:51.223233400Z"
    },
    "collapsed": false,
    "execution": {
     "iopub.execute_input": "2023-12-27T00:04:41.132037Z",
     "iopub.status.busy": "2023-12-27T00:04:41.131734Z",
     "iopub.status.idle": "2023-12-27T00:04:41.170114Z",
     "shell.execute_reply": "2023-12-27T00:04:41.169162Z"
    },
    "papermill": {
     "duration": 0.051102,
     "end_time": "2023-12-27T00:04:41.172879",
     "exception": false,
     "start_time": "2023-12-27T00:04:41.121777",
     "status": "completed"
    },
    "tags": []
   },
   "outputs": [],
   "source": [
    "df['Description'] = df['Description'].fillna(\"Нет описания\")\n",
    "\n",
    "df.columns = df.columns.str.replace(' ', '_')\n",
    "bool_cols = df.select_dtypes(include=['bool']).columns\n",
    "df[bool_cols] = df[bool_cols].astype(int)\n",
    "df = df.dropna(subset=['Price'])\n",
    "df = df.fillna(0)"
   ]
  },
  {
   "cell_type": "code",
   "execution_count": 5,
   "id": "478e9d76",
   "metadata": {
    "ExecuteTime": {
     "end_time": "2023-12-26T18:24:51.399176Z",
     "start_time": "2023-12-26T18:24:51.274178100Z"
    },
    "collapsed": false,
    "execution": {
     "iopub.execute_input": "2023-12-27T00:04:41.192335Z",
     "iopub.status.busy": "2023-12-27T00:04:41.192039Z",
     "iopub.status.idle": "2023-12-27T00:04:41.213229Z",
     "shell.execute_reply": "2023-12-27T00:04:41.212353Z"
    },
    "papermill": {
     "duration": 0.033156,
     "end_time": "2023-12-27T00:04:41.215238",
     "exception": false,
     "start_time": "2023-12-27T00:04:41.182082",
     "status": "completed"
    },
    "tags": []
   },
   "outputs": [
    {
     "data": {
      "text/plain": [
       "(0.0, 8000.0, 677, 5.3713106950174545)"
      ]
     },
     "execution_count": 5,
     "metadata": {},
     "output_type": "execute_result"
    }
   ],
   "source": [
    "Q1 = df['Price'].quantile(0.25)\n",
    "Q3 = df['Price'].quantile(0.75)\n",
    "IQR = Q3 - Q1\n",
    "\n",
    "lower_bound = Q1 - 1.5 * IQR\n",
    "upper_bound = Q3 + 1.5 * IQR\n",
    "\n",
    "outliers = df[(df['Price'] < lower_bound) | (df['Price'] > upper_bound)]\n",
    "percentage_outliers = (len(outliers) / len(df)) * 100\n",
    "df = df[df['Price'] <= upper_bound]\n",
    "\n",
    "lower_bound, upper_bound, len(outliers), percentage_outliers"
   ]
  },
  {
   "cell_type": "code",
   "execution_count": 6,
   "id": "cb67d2e9",
   "metadata": {
    "ExecuteTime": {
     "end_time": "2023-12-26T18:24:51.401175600Z",
     "start_time": "2023-12-26T18:24:51.312175900Z"
    },
    "collapsed": false,
    "execution": {
     "iopub.execute_input": "2023-12-27T00:04:41.234991Z",
     "iopub.status.busy": "2023-12-27T00:04:41.234631Z",
     "iopub.status.idle": "2023-12-27T00:04:41.250747Z",
     "shell.execute_reply": "2023-12-27T00:04:41.249630Z"
    },
    "papermill": {
     "duration": 0.028253,
     "end_time": "2023-12-27T00:04:41.252774",
     "exception": false,
     "start_time": "2023-12-27T00:04:41.224521",
     "status": "completed"
    },
    "tags": []
   },
   "outputs": [],
   "source": [
    "df['Rural_Hotel'] = df['Center_Distance'].apply(lambda x: 1 if x > 12.5 else 0)\n",
    "df['Unpopular'] = (df['Number_of_Reviews'] < 3).astype(int)\n"
   ]
  },
  {
   "cell_type": "markdown",
   "id": "49b7f069",
   "metadata": {
    "papermill": {
     "duration": 0.009088,
     "end_time": "2023-12-27T00:04:41.271062",
     "exception": false,
     "start_time": "2023-12-27T00:04:41.261974",
     "status": "completed"
    },
    "tags": []
   },
   "source": [
    "### Анализ"
   ]
  },
  {
   "cell_type": "code",
   "execution_count": 7,
   "id": "9c69cb74",
   "metadata": {
    "ExecuteTime": {
     "end_time": "2023-12-26T18:25:04.887788Z",
     "start_time": "2023-12-26T18:24:51.332175600Z"
    },
    "collapsed": false,
    "execution": {
     "iopub.execute_input": "2023-12-27T00:04:41.291782Z",
     "iopub.status.busy": "2023-12-27T00:04:41.291166Z",
     "iopub.status.idle": "2023-12-27T00:04:58.745008Z",
     "shell.execute_reply": "2023-12-27T00:04:58.744176Z"
    },
    "papermill": {
     "duration": 17.467457,
     "end_time": "2023-12-27T00:04:58.748050",
     "exception": false,
     "start_time": "2023-12-27T00:04:41.280593",
     "status": "completed"
    },
    "tags": []
   },
   "outputs": [
    {
     "name": "stdout",
     "output_type": "stream",
     "text": [
      "[nltk_data] Downloading package stopwords to /usr/share/nltk_data...\n",
      "[nltk_data]   Package stopwords is already up-to-date!\n",
      "[nltk_data] Downloading package punkt to /usr/share/nltk_data...\n",
      "[nltk_data]   Package punkt is already up-to-date!\n"
     ]
    },
    {
     "data": {
      "image/png": "[encoded data removed]",
      "text/plain": [
       "<Figure size 1000x600 with 1 Axes>"
      ]
     },
     "metadata": {},
     "output_type": "display_data"
    },
    {
     "name": "stdout",
     "output_type": "stream",
     "text": [
      "Среднее кол-во слов: 42.42231910790643\n",
      "Среднее кол-во символов: 257.49073530644756\n",
      "Частые слова: [('апартаменты', 18508), ('города', 11390), ('рядом', 11118), ('центра', 10696), ('км', 8286), ('находятся', 7397), ('неподалёку', 6766), ('апартаментами', 6749), ('прогуляться', 5421), ('отель', 4505), ('находится', 4242), ('расположены', 3812), ('располагаются', 3610), ('дома', 3063), ('чувствовать', 2712), ('выбор', 2708), ('туристов', 2696), ('площадь', 2696), ('собор', 2689), ('вариант', 2615), ('отдыха', 2499), ('лавра', 2308), ('улица', 2291), ('зодчего', 2161), ('росси', 2161), ('театр', 2134), ('расположен', 2112), ('мариинский', 2103), ('располагается', 1940), ('отелем', 1886), ('подходящий', 1822), ('проспект', 1810), ('петропавловская', 1791), ('крепость', 1789), ('казанский', 1751), ('доступности', 1657), ('компании', 1633), ('сад', 1509), ('пешей', 1496), ('новом', 1390), ('которые', 1370), ('хотят', 1368), ('везде', 1368), ('месте', 1353), ('большой', 1346), ('залог', 1344), ('хорошего', 1344), ('путешествующих', 1324), ('семьёй', 1323), ('уюта', 1313)]\n"
     ]
    }
   ],
   "source": [
    "from nltk import word_tokenize\n",
    "from nltk.corpus import stopwords\n",
    "import nltk\n",
    "\n",
    "nltk.download('stopwords')\n",
    "nltk.download('punkt')\n",
    "stop_words = set(stopwords.words('russian'))\n",
    "df['word_count'] = df['Description'].apply(lambda x: len(word_tokenize(x)))\n",
    "df['char_count'] = df['Description'].apply(len)\n",
    "\n",
    "all_words = ' '.join(df['Description']).lower()\n",
    "tokens = word_tokenize(all_words)\n",
    "tokens = [word for word in tokens if word.isalpha() and word not in stop_words]\n",
    "frequency = Counter(tokens)\n",
    "\n",
    "plt.figure(figsize=(10, 6))\n",
    "plt.hist(df['word_count'], bins=20, color='blue', edgecolor='black')\n",
    "plt.title('Распределение количества слов в описании отеля')\n",
    "plt.xlabel('Кол-во слов')\n",
    "plt.ylabel('Кол-во описаний')\n",
    "plt.show()\n",
    "\n",
    "print(\"Среднее кол-во слов:\", df['word_count'].mean())\n",
    "print(\"Среднее кол-во символов:\", df['char_count'].mean())\n",
    "print(\"Частые слова:\", frequency.most_common(50))"
   ]
  },
  {
   "cell_type": "markdown",
   "id": "9f26591c",
   "metadata": {
    "ExecuteTime": {
     "end_time": "2023-12-26T11:52:51.940071700Z",
     "start_time": "2023-12-26T11:52:51.939072900Z"
    },
    "papermill": {
     "duration": 0.009509,
     "end_time": "2023-12-27T00:04:58.767998",
     "exception": false,
     "start_time": "2023-12-27T00:04:58.758489",
     "status": "completed"
    },
    "tags": []
   },
   "source": [
    "##### Это всё, конечно, очень круто. Только фактически действительно важно понимать сейчас - сколько у меня есть токенов в каждом примере. ruBERT, если я ничего не путаю, ограничен контекстом в 512 токенов. Было бы неприятно выходить за этот предел."
   ]
  },
  {
   "cell_type": "code",
   "execution_count": 8,
   "id": "cf161298",
   "metadata": {
    "ExecuteTime": {
     "end_time": "2023-12-26T18:25:05.450719300Z",
     "start_time": "2023-12-26T18:25:04.882715400Z"
    },
    "collapsed": false,
    "execution": {
     "iopub.execute_input": "2023-12-27T00:04:58.788733Z",
     "iopub.status.busy": "2023-12-27T00:04:58.788427Z",
     "iopub.status.idle": "2023-12-27T00:05:01.570216Z",
     "shell.execute_reply": "2023-12-27T00:05:01.569186Z"
    },
    "papermill": {
     "duration": 2.794956,
     "end_time": "2023-12-27T00:05:01.572716",
     "exception": false,
     "start_time": "2023-12-27T00:04:58.777760",
     "status": "completed"
    },
    "tags": []
   },
   "outputs": [
    {
     "data": {
      "application/vnd.jupyter.widget-view+json": {
       "model_id": "0fc5503da1814d06a241959e199a18f4",
       "version_major": 2,
       "version_minor": 0
      },
      "text/plain": [
       "tokenizer_config.json:   0%|          | 0.00/24.0 [00:00<?, ?B/s]"
      ]
     },
     "metadata": {},
     "output_type": "display_data"
    },
    {
     "data": {
      "application/vnd.jupyter.widget-view+json": {
       "model_id": "61762be2ee8440728d7e95049590975a",
       "version_major": 2,
       "version_minor": 0
      },
      "text/plain": [
       "vocab.txt:   0%|          | 0.00/1.65M [00:00<?, ?B/s]"
      ]
     },
     "metadata": {},
     "output_type": "display_data"
    },
    {
     "data": {
      "application/vnd.jupyter.widget-view+json": {
       "model_id": "f604504f877445eba830fc36b9716633",
       "version_major": 2,
       "version_minor": 0
      },
      "text/plain": [
       "special_tokens_map.json:   0%|          | 0.00/112 [00:00<?, ?B/s]"
      ]
     },
     "metadata": {},
     "output_type": "display_data"
    },
    {
     "data": {
      "application/vnd.jupyter.widget-view+json": {
       "model_id": "fe6d739bfb464f528f4e444126de2ac0",
       "version_major": 2,
       "version_minor": 0
      },
      "text/plain": [
       "config.json:   0%|          | 0.00/642 [00:00<?, ?B/s]"
      ]
     },
     "metadata": {},
     "output_type": "display_data"
    }
   ],
   "source": [
    "from transformers import BertTokenizer\n",
    "\n",
    "tokenizer = BertTokenizer.from_pretrained('DeepPavlov/rubert-base-cased')"
   ]
  },
  {
   "cell_type": "code",
   "execution_count": 9,
   "id": "3c21cd33",
   "metadata": {
    "ExecuteTime": {
     "end_time": "2023-12-26T18:25:16.855741600Z",
     "start_time": "2023-12-26T18:25:05.455714800Z"
    },
    "collapsed": false,
    "execution": {
     "iopub.execute_input": "2023-12-27T00:05:01.596321Z",
     "iopub.status.busy": "2023-12-27T00:05:01.595819Z",
     "iopub.status.idle": "2023-12-27T00:05:17.735244Z",
     "shell.execute_reply": "2023-12-27T00:05:17.734325Z"
    },
    "papermill": {
     "duration": 16.153817,
     "end_time": "2023-12-27T00:05:17.737571",
     "exception": false,
     "start_time": "2023-12-27T00:05:01.583754",
     "status": "completed"
    },
    "tags": []
   },
   "outputs": [],
   "source": [
    "\n",
    "def count_bert_tokens(text):\n",
    "    bert_tokens = tokenizer.tokenize(text)\n",
    "    return len(bert_tokens)\n",
    "\n",
    "\n",
    "df['bert_token_count'] = df['Description'].apply(lambda x: len(tokenizer.tokenize(x)))\n"
   ]
  },
  {
   "cell_type": "code",
   "execution_count": 10,
   "id": "d365b333",
   "metadata": {
    "ExecuteTime": {
     "end_time": "2023-12-26T18:25:17.254837100Z",
     "start_time": "2023-12-26T18:25:16.868838Z"
    },
    "collapsed": false,
    "execution": {
     "iopub.execute_input": "2023-12-27T00:05:17.760890Z",
     "iopub.status.busy": "2023-12-27T00:05:17.760586Z",
     "iopub.status.idle": "2023-12-27T00:05:18.130831Z",
     "shell.execute_reply": "2023-12-27T00:05:18.129921Z"
    },
    "papermill": {
     "duration": 0.384274,
     "end_time": "2023-12-27T00:05:18.132903",
     "exception": false,
     "start_time": "2023-12-27T00:05:17.748629",
     "status": "completed"
    },
    "tags": []
   },
   "outputs": [
    {
     "name": "stdout",
     "output_type": "stream",
     "text": [
      "Max tokens: 146\n",
      "Mean tokens: 53.85293871048881\n"
     ]
    },
    {
     "data": {
      "image/png": "[encoded data removed]",
      "text/plain": [
       "<Figure size 1000x600 with 1 Axes>"
      ]
     },
     "metadata": {},
     "output_type": "display_data"
    }
   ],
   "source": [
    "print(\"Max tokens:\", df['bert_token_count'].max())\n",
    "print(\"Mean tokens:\", df['bert_token_count'].mean())\n",
    "plt.figure(figsize=(10, 6))\n",
    "plt.hist(df['bert_token_count'], bins=50, color='orange', edgecolor='black')\n",
    "plt.title('Распределение кол-ва токенов')\n",
    "plt.xlabel('Кол-во токенов')\n",
    "plt.ylabel('Кол-во текстов')\n",
    "plt.show()\n"
   ]
  },
  {
   "cell_type": "markdown",
   "id": "d11adb6c",
   "metadata": {
    "ExecuteTime": {
     "start_time": "2023-12-26T11:52:51.945072300Z"
    },
    "papermill": {
     "duration": 0.011172,
     "end_time": "2023-12-27T00:05:18.155737",
     "exception": false,
     "start_time": "2023-12-27T00:05:18.144565",
     "status": "completed"
    },
    "tags": []
   },
   "source": [
    "Нормально, берта нам за глаза."
   ]
  },
  {
   "cell_type": "code",
   "execution_count": 11,
   "id": "43d2aaf6",
   "metadata": {
    "ExecuteTime": {
     "end_time": "2023-12-26T18:25:17.511384100Z",
     "start_time": "2023-12-26T18:25:17.252838300Z"
    },
    "collapsed": false,
    "execution": {
     "iopub.execute_input": "2023-12-27T00:05:18.179625Z",
     "iopub.status.busy": "2023-12-27T00:05:18.179102Z",
     "iopub.status.idle": "2023-12-27T00:05:18.199851Z",
     "shell.execute_reply": "2023-12-27T00:05:18.198602Z"
    },
    "papermill": {
     "duration": 0.035034,
     "end_time": "2023-12-27T00:05:18.201832",
     "exception": false,
     "start_time": "2023-12-27T00:05:18.166798",
     "status": "completed"
    },
    "tags": []
   },
   "outputs": [
    {
     "name": "stdout",
     "output_type": "stream",
     "text": [
      "<class 'pandas.core.frame.DataFrame'>\n",
      "Index: 11927 entries, 0 to 12618\n",
      "Data columns (total 56 columns):\n",
      " #   Column                                           Non-Null Count  Dtype  \n",
      "---  ------                                           --------------  -----  \n",
      " 0   Hotel_Name                                       11927 non-null  string \n",
      " 1   Is_Top_Stays                                     11927 non-null  int64  \n",
      " 2   Center_Distance                                  11927 non-null  Float64\n",
      " 3   Metro_Distance                                   11927 non-null  Float64\n",
      " 4   Price                                            11927 non-null  Int64  \n",
      " 5   Rating                                           11927 non-null  Float64\n",
      " 6   Number_of_Reviews                                11927 non-null  Int64  \n",
      " 7   Description                                      11927 non-null  string \n",
      " 8   Индивидуальная_регистрация_заезда_и_отъезда      11927 non-null  int64  \n",
      " 9   Компьютер                                        11927 non-null  int64  \n",
      " 10  Бесплатная_общественная_парковка_поблизости      11927 non-null  int64  \n",
      " 11  Круглосуточная_стойка_регистрации                11927 non-null  int64  \n",
      " 12  Магазины                                         11927 non-null  int64  \n",
      " 13  Отель_для_некурящих                              11927 non-null  int64  \n",
      " 14  Отопление                                        11927 non-null  int64  \n",
      " 15  Поздняя_регистрация_выезда                       11927 non-null  int64  \n",
      " 16  Пресса                                           11927 non-null  int64  \n",
      " 17  Ранняя_регистрация_заезда                        11927 non-null  int64  \n",
      " 18  Стиральная_машина                                11927 non-null  int64  \n",
      " 19  Терраса                                          11927 non-null  int64  \n",
      " 20  Ускоренная_регистрация_заезда                    11927 non-null  int64  \n",
      " 21  Кабельное_телевидение                            11927 non-null  int64  \n",
      " 22  Номера_для_некурящих                             11927 non-null  int64  \n",
      " 23  Обслуживание_номеров                             11927 non-null  int64  \n",
      " 24  Сейф_(в_номере)                                  11927 non-null  int64  \n",
      " 25  Семейные_номера                                  11927 non-null  int64  \n",
      " 26  Телевизор                                        11927 non-null  int64  \n",
      " 27  Халат                                            11927 non-null  int64  \n",
      " 28  Холодильник                                      11927 non-null  int64  \n",
      " 29  Гладильные_принадлежности                        11927 non-null  int64  \n",
      " 30  Гладильные_услуги_(оплачивается_отдельно)        11927 non-null  int64  \n",
      " 31  Телефон                                          11927 non-null  int64  \n",
      " 32  Фен_(по_запросу)                                 11927 non-null  int64  \n",
      " 33  Хранение_багажа                                  11927 non-null  int64  \n",
      " 34  Бар                                              11927 non-null  int64  \n",
      " 35  Бесплатный_чай/кофе                              11927 non-null  int64  \n",
      " 36  Диетическое_меню_(по_запросу)                    11927 non-null  int64  \n",
      " 37  Завтрак                                          11927 non-null  int64  \n",
      " 38  Завтрак_в_номер                                  11927 non-null  int64  \n",
      " 39  Кафе                                             11927 non-null  int64  \n",
      " 40  Микроволновая_печь                               11927 non-null  int64  \n",
      " 41  Упакованные_ланчи                                11927 non-null  int64  \n",
      " 42  Бесплатный_Wi-Fi                                 11927 non-null  int64  \n",
      " 43  Доступ_в_интернет                                11927 non-null  int64  \n",
      " 44  Трансфер                                         11927 non-null  int64  \n",
      " 45  Трансфер_от_аэропорта                            11927 non-null  int64  \n",
      " 46  Персонал_говорит_на_английском                   11927 non-null  int64  \n",
      " 47  Персонал_говорит_на_русском                      11927 non-null  int64  \n",
      " 48  Парковка                                         11927 non-null  int64  \n",
      " 49  Размещение_подходит_для_семей/детей              11927 non-null  int64  \n",
      " 50  Размещение_с_домашними_животными_не_допускается  11927 non-null  int64  \n",
      " 51  Rural_Hotel                                      11927 non-null  int64  \n",
      " 52  Unpopular                                        11927 non-null  int64  \n",
      " 53  word_count                                       11927 non-null  int64  \n",
      " 54  char_count                                       11927 non-null  int64  \n",
      " 55  bert_token_count                                 11927 non-null  int64  \n",
      "dtypes: Float64(3), Int64(2), int64(49), string(2)\n",
      "memory usage: 5.2 MB\n"
     ]
    }
   ],
   "source": [
    "df.info()"
   ]
  },
  {
   "cell_type": "markdown",
   "id": "bef6542b",
   "metadata": {
    "papermill": {
     "duration": 0.011482,
     "end_time": "2023-12-27T00:05:18.224645",
     "exception": false,
     "start_time": "2023-12-27T00:05:18.213163",
     "status": "completed"
    },
    "tags": []
   },
   "source": [
    "### Скейлинг таргета"
   ]
  },
  {
   "cell_type": "code",
   "execution_count": 12,
   "id": "679e916e",
   "metadata": {
    "ExecuteTime": {
     "end_time": "2023-12-26T18:25:17.534372400Z",
     "start_time": "2023-12-26T18:25:17.284366700Z"
    },
    "collapsed": false,
    "execution": {
     "iopub.execute_input": "2023-12-27T00:05:18.248346Z",
     "iopub.status.busy": "2023-12-27T00:05:18.248071Z",
     "iopub.status.idle": "2023-12-27T00:05:18.257379Z",
     "shell.execute_reply": "2023-12-27T00:05:18.256728Z"
    },
    "papermill": {
     "duration": 0.023298,
     "end_time": "2023-12-27T00:05:18.259280",
     "exception": false,
     "start_time": "2023-12-27T00:05:18.235982",
     "status": "completed"
    },
    "tags": []
   },
   "outputs": [],
   "source": [
    "from sklearn.preprocessing import StandardScaler\n",
    "\n",
    "scaler = StandardScaler()\n",
    "df['Price'] = scaler.fit_transform(df[['Price']])"
   ]
  },
  {
   "cell_type": "markdown",
   "id": "3e8e4d0a",
   "metadata": {
    "papermill": {
     "duration": 0.01111,
     "end_time": "2023-12-27T00:05:18.282063",
     "exception": false,
     "start_time": "2023-12-27T00:05:18.270953",
     "status": "completed"
    },
    "tags": []
   },
   "source": [
    "#### Создание Dataset"
   ]
  },
  {
   "cell_type": "code",
   "execution_count": 13,
   "id": "6226cf6c",
   "metadata": {
    "ExecuteTime": {
     "end_time": "2023-12-26T18:37:42.577601300Z",
     "start_time": "2023-12-26T18:37:28.855494100Z"
    },
    "collapsed": false,
    "execution": {
     "iopub.execute_input": "2023-12-27T00:05:18.306133Z",
     "iopub.status.busy": "2023-12-27T00:05:18.305859Z",
     "iopub.status.idle": "2023-12-27T00:05:39.013357Z",
     "shell.execute_reply": "2023-12-27T00:05:39.012299Z"
    },
    "papermill": {
     "duration": 20.722476,
     "end_time": "2023-12-27T00:05:39.015902",
     "exception": false,
     "start_time": "2023-12-27T00:05:18.293426",
     "status": "completed"
    },
    "tags": []
   },
   "outputs": [],
   "source": [
    "from sklearn.model_selection import train_test_split\n",
    "from torch.utils.data import Dataset, DataLoader\n",
    "from sklearn.model_selection import train_test_split\n",
    "\n",
    "\n",
    "class HotelDataset(Dataset):\n",
    "    def __init__(self, dataframe, tokenizer, max_len=170):\n",
    "        self.df = dataframe\n",
    "        self.tokenizer = tokenizer\n",
    "        self.target = dataframe['Price']\n",
    "        self.numeric_features = dataframe.drop(columns=['Description', 'Hotel_Name', 'Price'])\n",
    "        self.max_len = max_len\n",
    "\n",
    "        self.text = dataframe['Description']\n",
    "        self.text_token_ids = []\n",
    "        self.attention_masks = []\n",
    "\n",
    "        for t in self.text:\n",
    "            encoded = tokenizer.encode_plus(\n",
    "                t,\n",
    "                add_special_tokens=True,\n",
    "                max_length=max_len,\n",
    "                padding='max_length',\n",
    "                return_attention_mask=True,\n",
    "                truncation=True,\n",
    "                return_tensors='pt'\n",
    "            )\n",
    "            self.text_token_ids.append(encoded['input_ids'])\n",
    "            self.attention_masks.append(encoded['attention_mask'])\n",
    "\n",
    "    def __len__(self):\n",
    "        return len(self.df)\n",
    "\n",
    "    def __getitem__(self, index):\n",
    "        return {\n",
    "            \"ids\": self.text_token_ids[index].squeeze(0),\n",
    "            \"attention_masks\": self.attention_masks[index].squeeze(0),\n",
    "            \"numeric_features\": torch.tensor(self.numeric_features.iloc[index].values, dtype=torch.float32),\n",
    "            \"target\": torch.tensor(self.target.iloc[index], dtype=torch.float32)\n",
    "        }\n",
    "\n",
    "    def get_numeric_features_count(self):\n",
    "        return len(self.numeric_features.columns)\n",
    "\n",
    "\n",
    "train_df, test_df = train_test_split(df, test_size=0.2, shuffle=True, random_state=42)\n",
    "\n",
    "train_dataset = HotelDataset(train_df, tokenizer)\n",
    "test_dataset = HotelDataset(test_df, tokenizer)\n"
   ]
  },
  {
   "cell_type": "markdown",
   "id": "56023e82",
   "metadata": {
    "papermill": {
     "duration": 0.011524,
     "end_time": "2023-12-27T00:05:39.042498",
     "exception": false,
     "start_time": "2023-12-27T00:05:39.030974",
     "status": "completed"
    },
    "tags": []
   },
   "source": [
    "#### Архитектура модели\n",
    "Возьму ruBERT для получения векторных вложений текста, но так как учитывать тупо текст - скучно, то я возьму ещё и все числовые данные из датасета. То есть будем конкатинировать вектор текстового описания со всеми числовыми признаками и пропускать через fully-connected слой. К тому же, что я нагенерил ещё данных: число символов, слов, токенов. Модели же не могут в мета-мышление, а я могу. А инфа теоретически может быть полезной, хоть я и выводил её в первую очередь для себя, а не для модели (понять длину текста хотел). "
   ]
  },
  {
   "cell_type": "code",
   "execution_count": 14,
   "id": "1370277d",
   "metadata": {
    "ExecuteTime": {
     "end_time": "2023-12-26T18:37:42.593328500Z",
     "start_time": "2023-12-26T18:37:42.584694Z"
    },
    "collapsed": false,
    "execution": {
     "iopub.execute_input": "2023-12-27T00:05:39.067152Z",
     "iopub.status.busy": "2023-12-27T00:05:39.066807Z",
     "iopub.status.idle": "2023-12-27T00:05:39.357080Z",
     "shell.execute_reply": "2023-12-27T00:05:39.356056Z"
    },
    "papermill": {
     "duration": 0.305275,
     "end_time": "2023-12-27T00:05:39.359383",
     "exception": false,
     "start_time": "2023-12-27T00:05:39.054108",
     "status": "completed"
    },
    "tags": []
   },
   "outputs": [],
   "source": [
    "import torch\n",
    "from torch import nn\n",
    "from transformers import BertModel\n",
    "\n",
    "\n",
    "class RegressionBert(nn.Module):\n",
    "    def __init__(self, base_bert, num_numeric_features):\n",
    "        super(RegressionBert, self).__init__()\n",
    "\n",
    "        self.bert = base_bert\n",
    "        self.regressor = nn.Sequential(\n",
    "            nn.Linear(self.bert.config.hidden_size + num_numeric_features, 1024),\n",
    "            nn.ReLU(),\n",
    "            nn.Dropout(0.1),\n",
    "            nn.Linear(1024, 1)\n",
    "        )\n",
    "\n",
    "    def forward(self, input_ids, attention_mask, numeric_features):\n",
    "        bert_output = self.bert(input_ids=input_ids, attention_mask=attention_mask)\n",
    "\n",
    "        combined = torch.cat((bert_output.pooler_output, numeric_features), 1)\n",
    "        output = self.regressor(combined)\n",
    "        return output\n",
    "\n",
    "\n"
   ]
  },
  {
   "cell_type": "markdown",
   "id": "6f44c84e",
   "metadata": {
    "papermill": {
     "duration": 0.011529,
     "end_time": "2023-12-27T00:05:39.447466",
     "exception": false,
     "start_time": "2023-12-27T00:05:39.435937",
     "status": "completed"
    },
    "tags": []
   },
   "source": [
    "### Цикл обучения"
   ]
  },
  {
   "cell_type": "code",
   "execution_count": 15,
   "id": "4912f77f",
   "metadata": {
    "ExecuteTime": {
     "end_time": "2023-12-26T18:51:53.191748900Z",
     "start_time": "2023-12-26T18:51:53.164746700Z"
    },
    "collapsed": false,
    "execution": {
     "iopub.execute_input": "2023-12-27T00:05:39.496090Z",
     "iopub.status.busy": "2023-12-27T00:05:39.494955Z",
     "iopub.status.idle": "2023-12-27T00:05:39.511260Z",
     "shell.execute_reply": "2023-12-27T00:05:39.510383Z"
    },
    "papermill": {
     "duration": 0.030972,
     "end_time": "2023-12-27T00:05:39.513095",
     "exception": false,
     "start_time": "2023-12-27T00:05:39.482123",
     "status": "completed"
    },
    "tags": []
   },
   "outputs": [],
   "source": [
    "from torch.optim import AdamW\n",
    "import os\n",
    "from tqdm import tqdm\n",
    "from transformers import get_linear_schedule_with_warmup\n",
    "\n",
    "\n",
    "def train(train_dataset, val_dataset, model, loss_function, device, batch_size, epochs=5, lr=2e-5, warmup_steps=200,\n",
    "          output_dir='/kaggle/working'):\n",
    "    model = model.to(device)\n",
    "\n",
    "    optimizer = AdamW(model.parameters(), lr=lr)\n",
    "    scheduler = get_linear_schedule_with_warmup(\n",
    "        optimizer=optimizer, num_training_steps=len(train_dataset) * epochs, num_warmup_steps=warmup_steps\n",
    "    )\n",
    "    train_dataloader = DataLoader(dataset=train_dataset, batch_size=batch_size, shuffle=True)\n",
    "    val_dataloader = DataLoader(dataset=val_dataset, batch_size=batch_size, shuffle=True)\n",
    "\n",
    "    best_val_loss = float('inf')\n",
    "    best_epoch = -1\n",
    "    train_losses = []\n",
    "    epoch_avg_train_losses = []\n",
    "    epoch_avg_val_losses = []\n",
    "\n",
    "    for epoch in range(epochs):\n",
    "        model.train()\n",
    "        print(f\"Training epoch {epoch}\")\n",
    "\n",
    "        train_loss = 0\n",
    "        progress_bar = tqdm(enumerate(train_dataloader), total=len(train_dataloader))\n",
    "\n",
    "        for idx, entry in progress_bar:\n",
    "            optimizer.zero_grad()\n",
    "\n",
    "            input_ids = entry['ids'].to(device)\n",
    "            attention_masks = entry['attention_masks'].to(device)\n",
    "            num_input = entry['numeric_features'].to(device)\n",
    "            target = entry['target'].to(device)\n",
    "\n",
    "            outputs = model(input_ids, attention_masks, num_input)\n",
    "\n",
    "            loss = loss_function(outputs.squeeze(), target.squeeze())  # мб squeeze()\n",
    "\n",
    "            train_loss += loss.item()\n",
    "            train_losses.append(loss.item())\n",
    "            tqdm_desc = f\"Epoch {epoch} - Train Loss: {train_loss / (idx + 1):.4f}\"\n",
    "            progress_bar.set_description(tqdm_desc)\n",
    "\n",
    "            loss.backward()\n",
    "            optimizer.step()\n",
    "            scheduler.step()\n",
    "        avg_train_loss = train_loss / len(train_dataloader)\n",
    "        epoch_avg_train_losses.append(avg_train_loss)\n",
    "        print(f\"Average train loss: {avg_train_loss}\")\n",
    "\n",
    "        model.eval()\n",
    "        val_loss = 0\n",
    "        with torch.no_grad():\n",
    "            for idx, entry in enumerate(val_dataloader):\n",
    "                input_ids = entry['ids'].to(device)\n",
    "                attention_masks = entry['attention_masks'].to(device)\n",
    "                num_input = entry['numeric_features'].to(device)\n",
    "                target = entry['target'].to(device)\n",
    "\n",
    "                outputs = model(input_ids, attention_masks, num_input)\n",
    "\n",
    "                val_loss += loss_function(outputs.squeeze(), target.squeeze())  # мб squeeze()\n",
    "\n",
    "        avg_val_loss = val_loss / len(val_dataloader)\n",
    "        epoch_avg_val_losses.append(avg_val_loss.to('cpu'))\n",
    "        print(f\"Average val loss: {avg_val_loss}\")\n",
    "        if avg_val_loss < best_val_loss:\n",
    "            best_val_loss = avg_val_loss\n",
    "            best_epoch = epoch\n",
    "            torch.save(\n",
    "                model.state_dict(),\n",
    "                os.path.join(output_dir, f\"val_loss-{epoch}.pt\"),\n",
    "            )\n",
    "            print(f\"New best loss!!! Model saved\")\n",
    "            \n",
    "        print(f\"Best loss epoch: {best_epoch};  Best loss: {best_val_loss}\")\n",
    "    return model, train_losses, epoch_avg_train_losses, epoch_avg_val_losses\n"
   ]
  },
  {
   "cell_type": "code",
   "execution_count": 16,
   "id": "ff9a5635",
   "metadata": {
    "ExecuteTime": {
     "end_time": "2023-12-26T18:53:50.074485700Z",
     "start_time": "2023-12-26T18:51:53.993866800Z"
    },
    "collapsed": false,
    "execution": {
     "iopub.execute_input": "2023-12-27T00:05:39.537988Z",
     "iopub.status.busy": "2023-12-27T00:05:39.537664Z",
     "iopub.status.idle": "2023-12-27T01:08:13.745829Z",
     "shell.execute_reply": "2023-12-27T01:08:13.744736Z"
    },
    "papermill": {
     "duration": 3754.222955,
     "end_time": "2023-12-27T01:08:13.747875",
     "exception": false,
     "start_time": "2023-12-27T00:05:39.524920",
     "status": "completed"
    },
    "tags": []
   },
   "outputs": [
    {
     "data": {
      "application/vnd.jupyter.widget-view+json": {
       "model_id": "25d12e887e404e6cb50180d6a06ee727",
       "version_major": 2,
       "version_minor": 0
      },
      "text/plain": [
       "pytorch_model.bin:   0%|          | 0.00/714M [00:00<?, ?B/s]"
      ]
     },
     "metadata": {},
     "output_type": "display_data"
    },
    {
     "name": "stderr",
     "output_type": "stream",
     "text": [
      "Some weights of the model checkpoint at DeepPavlov/rubert-base-cased were not used when initializing BertModel: ['cls.predictions.bias', 'cls.predictions.decoder.weight', 'cls.seq_relationship.bias', 'cls.predictions.transform.dense.weight', 'cls.seq_relationship.weight', 'cls.predictions.transform.LayerNorm.weight', 'cls.predictions.transform.LayerNorm.bias', 'cls.predictions.transform.dense.bias', 'cls.predictions.decoder.bias']\n",
      "- This IS expected if you are initializing BertModel from the checkpoint of a model trained on another task or with another architecture (e.g. initializing a BertForSequenceClassification model from a BertForPreTraining model).\n",
      "- This IS NOT expected if you are initializing BertModel from the checkpoint of a model that you expect to be exactly identical (initializing a BertForSequenceClassification model from a BertForSequenceClassification model).\n"
     ]
    },
    {
     "name": "stdout",
     "output_type": "stream",
     "text": [
      "Training epoch 0\n"
     ]
    },
    {
     "name": "stderr",
     "output_type": "stream",
     "text": [
      "Epoch 0 - Train Loss: 0.9315: 100%|██████████| 597/597 [02:54<00:00,  3.41it/s]\n"
     ]
    },
    {
     "name": "stdout",
     "output_type": "stream",
     "text": [
      "Average train loss: 0.9315376031638389\n",
      "Average val loss: 0.8512995839118958\n",
      "New best loss!!! Model saved\n",
      "Best loss epoch: 0;  Best loss: 0.8512995839118958\n",
      "Training epoch 1\n"
     ]
    },
    {
     "name": "stderr",
     "output_type": "stream",
     "text": [
      "Epoch 1 - Train Loss: 0.8219: 100%|██████████| 597/597 [02:52<00:00,  3.45it/s]\n"
     ]
    },
    {
     "name": "stdout",
     "output_type": "stream",
     "text": [
      "Average train loss: 0.8218580782413483\n",
      "Average val loss: 0.7704891562461853\n",
      "New best loss!!! Model saved\n",
      "Best loss epoch: 1;  Best loss: 0.7704891562461853\n",
      "Training epoch 2\n"
     ]
    },
    {
     "name": "stderr",
     "output_type": "stream",
     "text": [
      "Epoch 2 - Train Loss: 0.7784: 100%|██████████| 597/597 [02:52<00:00,  3.46it/s]\n"
     ]
    },
    {
     "name": "stdout",
     "output_type": "stream",
     "text": [
      "Average train loss: 0.7783713963263398\n",
      "Average val loss: 0.7989259362220764\n",
      "Best loss epoch: 1;  Best loss: 0.7704891562461853\n",
      "Training epoch 3\n"
     ]
    },
    {
     "name": "stderr",
     "output_type": "stream",
     "text": [
      "Epoch 3 - Train Loss: 0.7130: 100%|██████████| 597/597 [02:52<00:00,  3.45it/s]\n"
     ]
    },
    {
     "name": "stdout",
     "output_type": "stream",
     "text": [
      "Average train loss: 0.7129760940669969\n",
      "Average val loss: 0.7960628271102905\n",
      "Best loss epoch: 1;  Best loss: 0.7704891562461853\n",
      "Training epoch 4\n"
     ]
    },
    {
     "name": "stderr",
     "output_type": "stream",
     "text": [
      "Epoch 4 - Train Loss: 0.6668: 100%|██████████| 597/597 [02:52<00:00,  3.46it/s]\n"
     ]
    },
    {
     "name": "stdout",
     "output_type": "stream",
     "text": [
      "Average train loss: 0.6668274390138373\n",
      "Average val loss: 0.8048368096351624\n",
      "Best loss epoch: 1;  Best loss: 0.7704891562461853\n",
      "Training epoch 5\n"
     ]
    },
    {
     "name": "stderr",
     "output_type": "stream",
     "text": [
      "Epoch 5 - Train Loss: 0.6291: 100%|██████████| 597/597 [02:52<00:00,  3.46it/s]\n"
     ]
    },
    {
     "name": "stdout",
     "output_type": "stream",
     "text": [
      "Average train loss: 0.6290772976088563\n",
      "Average val loss: 0.7938774228096008\n",
      "Best loss epoch: 1;  Best loss: 0.7704891562461853\n",
      "Training epoch 6\n"
     ]
    },
    {
     "name": "stderr",
     "output_type": "stream",
     "text": [
      "Epoch 6 - Train Loss: 0.5901: 100%|██████████| 597/597 [02:52<00:00,  3.45it/s]\n"
     ]
    },
    {
     "name": "stdout",
     "output_type": "stream",
     "text": [
      "Average train loss: 0.5900752569113544\n",
      "Average val loss: 0.7527682781219482\n",
      "New best loss!!! Model saved\n",
      "Best loss epoch: 6;  Best loss: 0.7527682781219482\n",
      "Training epoch 7\n"
     ]
    },
    {
     "name": "stderr",
     "output_type": "stream",
     "text": [
      "Epoch 7 - Train Loss: 0.5433: 100%|██████████| 597/597 [02:52<00:00,  3.46it/s]\n"
     ]
    },
    {
     "name": "stdout",
     "output_type": "stream",
     "text": [
      "Average train loss: 0.5432881209468922\n",
      "Average val loss: 0.6723921895027161\n",
      "New best loss!!! Model saved\n",
      "Best loss epoch: 7;  Best loss: 0.6723921895027161\n",
      "Training epoch 8\n"
     ]
    },
    {
     "name": "stderr",
     "output_type": "stream",
     "text": [
      "Epoch 8 - Train Loss: 0.5155: 100%|██████████| 597/597 [02:52<00:00,  3.46it/s]\n"
     ]
    },
    {
     "name": "stdout",
     "output_type": "stream",
     "text": [
      "Average train loss: 0.5154597766235646\n",
      "Average val loss: 0.7114068865776062\n",
      "Best loss epoch: 7;  Best loss: 0.6723921895027161\n",
      "Training epoch 9\n"
     ]
    },
    {
     "name": "stderr",
     "output_type": "stream",
     "text": [
      "Epoch 9 - Train Loss: 0.4768: 100%|██████████| 597/597 [02:52<00:00,  3.46it/s]\n"
     ]
    },
    {
     "name": "stdout",
     "output_type": "stream",
     "text": [
      "Average train loss: 0.4767842245611114\n",
      "Average val loss: 0.633665144443512\n",
      "New best loss!!! Model saved\n",
      "Best loss epoch: 9;  Best loss: 0.633665144443512\n",
      "Training epoch 10\n"
     ]
    },
    {
     "name": "stderr",
     "output_type": "stream",
     "text": [
      "Epoch 10 - Train Loss: 0.4681: 100%|██████████| 597/597 [02:52<00:00,  3.46it/s]\n"
     ]
    },
    {
     "name": "stdout",
     "output_type": "stream",
     "text": [
      "Average train loss: 0.4680587011615635\n",
      "Average val loss: 0.6671851873397827\n",
      "Best loss epoch: 9;  Best loss: 0.633665144443512\n",
      "Training epoch 11\n"
     ]
    },
    {
     "name": "stderr",
     "output_type": "stream",
     "text": [
      "Epoch 11 - Train Loss: 0.4240: 100%|██████████| 597/597 [02:52<00:00,  3.46it/s]\n"
     ]
    },
    {
     "name": "stdout",
     "output_type": "stream",
     "text": [
      "Average train loss: 0.4239530491968695\n",
      "Average val loss: 0.6267060041427612\n",
      "New best loss!!! Model saved\n",
      "Best loss epoch: 11;  Best loss: 0.6267060041427612\n",
      "Training epoch 12\n"
     ]
    },
    {
     "name": "stderr",
     "output_type": "stream",
     "text": [
      "Epoch 12 - Train Loss: 0.3988: 100%|██████████| 597/597 [02:52<00:00,  3.46it/s]\n"
     ]
    },
    {
     "name": "stdout",
     "output_type": "stream",
     "text": [
      "Average train loss: 0.39880191463621417\n",
      "Average val loss: 0.5936887860298157\n",
      "New best loss!!! Model saved\n",
      "Best loss epoch: 12;  Best loss: 0.5936887860298157\n",
      "Training epoch 13\n"
     ]
    },
    {
     "name": "stderr",
     "output_type": "stream",
     "text": [
      "Epoch 13 - Train Loss: 0.3739: 100%|██████████| 597/597 [02:52<00:00,  3.46it/s]\n"
     ]
    },
    {
     "name": "stdout",
     "output_type": "stream",
     "text": [
      "Average train loss: 0.37392483302197066\n",
      "Average val loss: 0.5646219253540039\n",
      "New best loss!!! Model saved\n",
      "Best loss epoch: 13;  Best loss: 0.5646219253540039\n",
      "Training epoch 14\n"
     ]
    },
    {
     "name": "stderr",
     "output_type": "stream",
     "text": [
      "Epoch 14 - Train Loss: 0.3545: 100%|██████████| 597/597 [02:52<00:00,  3.45it/s]\n"
     ]
    },
    {
     "name": "stdout",
     "output_type": "stream",
     "text": [
      "Average train loss: 0.3545272249223\n",
      "Average val loss: 0.5759850144386292\n",
      "Best loss epoch: 13;  Best loss: 0.5646219253540039\n",
      "Training epoch 15\n"
     ]
    },
    {
     "name": "stderr",
     "output_type": "stream",
     "text": [
      "Epoch 15 - Train Loss: 0.3361: 100%|██████████| 597/597 [02:52<00:00,  3.46it/s]\n"
     ]
    },
    {
     "name": "stdout",
     "output_type": "stream",
     "text": [
      "Average train loss: 0.33608079789022305\n",
      "Average val loss: 0.6116169095039368\n",
      "Best loss epoch: 13;  Best loss: 0.5646219253540039\n",
      "Training epoch 16\n"
     ]
    },
    {
     "name": "stderr",
     "output_type": "stream",
     "text": [
      "Epoch 16 - Train Loss: 0.3378: 100%|██████████| 597/597 [02:52<00:00,  3.46it/s]\n"
     ]
    },
    {
     "name": "stdout",
     "output_type": "stream",
     "text": [
      "Average train loss: 0.3377771280843209\n",
      "Average val loss: 0.5587872862815857\n",
      "New best loss!!! Model saved\n",
      "Best loss epoch: 16;  Best loss: 0.5587872862815857\n",
      "Training epoch 17\n"
     ]
    },
    {
     "name": "stderr",
     "output_type": "stream",
     "text": [
      "Epoch 17 - Train Loss: 0.3071: 100%|██████████| 597/597 [02:52<00:00,  3.46it/s]\n"
     ]
    },
    {
     "name": "stdout",
     "output_type": "stream",
     "text": [
      "Average train loss: 0.30707497551562996\n",
      "Average val loss: 0.607525110244751\n",
      "Best loss epoch: 16;  Best loss: 0.5587872862815857\n",
      "Training epoch 18\n"
     ]
    },
    {
     "name": "stderr",
     "output_type": "stream",
     "text": [
      "Epoch 18 - Train Loss: 0.2869: 100%|██████████| 597/597 [02:52<00:00,  3.46it/s]\n"
     ]
    },
    {
     "name": "stdout",
     "output_type": "stream",
     "text": [
      "Average train loss: 0.2868585310115087\n",
      "Average val loss: 0.5692026615142822\n",
      "Best loss epoch: 16;  Best loss: 0.5587872862815857\n",
      "Training epoch 19\n"
     ]
    },
    {
     "name": "stderr",
     "output_type": "stream",
     "text": [
      "Epoch 19 - Train Loss: 0.2696: 100%|██████████| 597/597 [02:52<00:00,  3.46it/s]\n"
     ]
    },
    {
     "name": "stdout",
     "output_type": "stream",
     "text": [
      "Average train loss: 0.26956107773173793\n",
      "Average val loss: 0.560158371925354\n",
      "Best loss epoch: 16;  Best loss: 0.5587872862815857\n"
     ]
    }
   ],
   "source": [
    "device = torch.device(\"cuda\" if torch.cuda.is_available() else \"cpu\")\n",
    "\n",
    "bert_model = BertModel.from_pretrained('DeepPavlov/rubert-base-cased')\n",
    "bert_model.to(device)\n",
    "bert_regressor = RegressionBert(base_bert=bert_model, num_numeric_features=train_dataset.get_numeric_features_count())\n",
    "bert_regressor.to(device)\n",
    "\n",
    "\n",
    "model, losses, epoch_losses, epoch_val_losses = train(model=bert_regressor, train_dataset=train_dataset, val_dataset=test_dataset, loss_function=nn.L1Loss(), device=device, batch_size=16, epochs=20)"
   ]
  },
  {
   "cell_type": "code",
   "execution_count": 17,
   "id": "f4cf7485",
   "metadata": {
    "ExecuteTime": {
     "start_time": "2023-12-26T18:37:43.851341800Z"
    },
    "collapsed": false,
    "execution": {
     "iopub.execute_input": "2023-12-27T01:08:17.696431Z",
     "iopub.status.busy": "2023-12-27T01:08:17.695535Z",
     "iopub.status.idle": "2023-12-27T01:08:17.980989Z",
     "shell.execute_reply": "2023-12-27T01:08:17.980102Z"
    },
    "papermill": {
     "duration": 2.23653,
     "end_time": "2023-12-27T01:08:17.982926",
     "exception": false,
     "start_time": "2023-12-27T01:08:15.746396",
     "status": "completed"
    },
    "tags": []
   },
   "outputs": [
    {
     "data": {
      "image/png": "[encoded data removed]",
      "text/plain": [
       "<Figure size 640x480 with 1 Axes>"
      ]
     },
     "metadata": {},
     "output_type": "display_data"
    }
   ],
   "source": [
    "import matplotlib.pyplot as plt\n",
    "\n",
    "plt.plot(losses, label='Training Loss')\n",
    "plt.xlabel(\"Steps\")\n",
    "plt.ylabel(\"Loss\")\n",
    "plt.show()"
   ]
  },
  {
   "cell_type": "code",
   "execution_count": 18,
   "id": "4b9ab7c3",
   "metadata": {
    "ExecuteTime": {
     "start_time": "2023-12-26T18:37:43.853342100Z"
    },
    "collapsed": false,
    "execution": {
     "iopub.execute_input": "2023-12-27T01:08:21.915801Z",
     "iopub.status.busy": "2023-12-27T01:08:21.915412Z",
     "iopub.status.idle": "2023-12-27T01:08:22.158528Z",
     "shell.execute_reply": "2023-12-27T01:08:22.157593Z"
    },
    "papermill": {
     "duration": 2.203638,
     "end_time": "2023-12-27T01:08:22.160715",
     "exception": false,
     "start_time": "2023-12-27T01:08:19.957077",
     "status": "completed"
    },
    "tags": []
   },
   "outputs": [
    {
     "data": {
      "image/png": "[encoded data removed]",
      "text/plain": [
       "<Figure size 640x480 with 1 Axes>"
      ]
     },
     "metadata": {},
     "output_type": "display_data"
    }
   ],
   "source": [
    "plt.plot(epoch_losses, label='Training Loss')\n",
    "plt.plot(epoch_val_losses, label='Validation loss')\n",
    "plt.xlabel(\"Epochs\")\n",
    "plt.ylabel(\"Loss\")\n",
    "plt.show()"
   ]
  },
  {
   "cell_type": "markdown",
   "id": "3c867869",
   "metadata": {
    "papermill": {
     "duration": 1.967095,
     "end_time": "2023-12-27T01:08:26.156598",
     "exception": false,
     "start_time": "2023-12-27T01:08:24.189503",
     "status": "completed"
    },
    "tags": []
   },
   "source": []
  },
  {
   "cell_type": "markdown",
   "source": [
    "## Вот так и бывает\n",
    "Сначала тужишься пыжишься с генерацией, а потом делаешь лабу с бертом с нуля за день. Я понимал с самого начала, что я могу это сделать, но мне было слишком скучно. Но то, что я сделал тупо задачу регрессии на берте - не признак того, что я сдался. Я обязательно сделаю \"анекдотера\", но уже в спокойной обстановке и когда будет побольше времени. "
   ],
   "metadata": {
    "collapsed": false
   },
   "id": "3efa061b31834f07"
  }
 ],
 "metadata": {
  "kaggle": {
   "accelerator": "gpu",
   "dataSources": [
    {
     "datasetId": 4224986,
     "sourceId": 7285896,
     "sourceType": "datasetVersion"
    }
   ],
   "dockerImageVersionId": 30627,
   "isGpuEnabled": true,
   "isInternetEnabled": true,
   "language": "python",
   "sourceType": "notebook"
  },
  "kernelspec": {
   "display_name": "Python 3",
   "language": "python",
   "name": "python3"
  },
  "language_info": {
   "codemirror_mode": {
    "name": "ipython",
    "version": 3
   },
   "file_extension": ".py",
   "mimetype": "text/x-python",
   "name": "python",
   "nbconvert_exporter": "python",
   "pygments_lexer": "ipython3",
   "version": "3.10.12"
  },
  "papermill": {
   "default_parameters": {},
   "duration": 3838.386032,
   "end_time": "2023-12-27T01:08:29.975627",
   "environment_variables": {},
   "exception": null,
   "input_path": "__notebook__.ipynb",
   "output_path": "__notebook__.ipynb",
   "parameters": {},
   "start_time": "2023-12-27T00:04:31.589595",
   "version": "2.4.0"
  },
  "widgets": {
   "application/vnd.jupyter.widget-state+json": {
    "state": {
     "0bad3fa021264f3f8923ee962dd36d0c": {
      "model_module": "@jupyter-widgets/controls",
      "model_module_version": "1.5.0",
      "model_name": "FloatProgressModel",
      "state": {
       "_dom_classes": [],
       "_model_module": "@jupyter-widgets/controls",
       "_model_module_version": "1.5.0",
       "_model_name": "FloatProgressModel",
       "_view_count": null,
       "_view_module": "@jupyter-widgets/controls",
       "_view_module_version": "1.5.0",
       "_view_name": "ProgressView",
       "bar_style": "success",
       "description": "",
       "description_tooltip": null,
       "layout": "IPY_MODEL_e68850da74c44a51a43339a97241103e",
       "max": 24.0,
       "min": 0.0,
       "orientation": "horizontal",
       "style": "IPY_MODEL_9fdc1b2a67d9430788ca42f17bc1987c",
       "value": 24.0
      }
     },
     "0fc5503da1814d06a241959e199a18f4": {
      "model_module": "@jupyter-widgets/controls",
      "model_module_version": "1.5.0",
      "model_name": "HBoxModel",
      "state": {
       "_dom_classes": [],
       "_model_module": "@jupyter-widgets/controls",
       "_model_module_version": "1.5.0",
       "_model_name": "HBoxModel",
       "_view_count": null,
       "_view_module": "@jupyter-widgets/controls",
       "_view_module_version": "1.5.0",
       "_view_name": "HBoxView",
       "box_style": "",
       "children": [
        "IPY_MODEL_2d10a4b04e5840a7ae051977014a0a6b",
        "IPY_MODEL_0bad3fa021264f3f8923ee962dd36d0c",
        "IPY_MODEL_c204cf50198c4dbe826f22a39d0fba7b"
       ],
       "layout": "IPY_MODEL_eb172395cfa044a9bad80562c8a029a9"
      }
     },
     "14f18120e0c54aa98710684810862589": {
      "model_module": "@jupyter-widgets/controls",
      "model_module_version": "1.5.0",
      "model_name": "HTMLModel",
      "state": {
       "_dom_classes": [],
       "_model_module": "@jupyter-widgets/controls",
       "_model_module_version": "1.5.0",
       "_model_name": "HTMLModel",
       "_view_count": null,
       "_view_module": "@jupyter-widgets/controls",
       "_view_module_version": "1.5.0",
       "_view_name": "HTMLView",
       "description": "",
       "description_tooltip": null,
       "layout": "IPY_MODEL_cb7c85d429e8456eb6a59df530afffca",
       "placeholder": "​",
       "style": "IPY_MODEL_2c1b894b1bb04db599aa52536cc18204",
       "value": " 714M/714M [00:17&lt;00:00, 42.5MB/s]"
      }
     },
     "22926799b32b40b98fd02dc9fe87c855": {
      "model_module": "@jupyter-widgets/controls",
      "model_module_version": "1.5.0",
      "model_name": "DescriptionStyleModel",
      "state": {
       "_model_module": "@jupyter-widgets/controls",
       "_model_module_version": "1.5.0",
       "_model_name": "DescriptionStyleModel",
       "_view_count": null,
       "_view_module": "@jupyter-widgets/base",
       "_view_module_version": "1.2.0",
       "_view_name": "StyleView",
       "description_width": ""
      }
     },
     "230a5c46e80546f7992a5e691f593955": {
      "model_module": "@jupyter-widgets/controls",
      "model_module_version": "1.5.0",
      "model_name": "ProgressStyleModel",
      "state": {
       "_model_module": "@jupyter-widgets/controls",
       "_model_module_version": "1.5.0",
       "_model_name": "ProgressStyleModel",
       "_view_count": null,
       "_view_module": "@jupyter-widgets/base",
       "_view_module_version": "1.2.0",
       "_view_name": "StyleView",
       "bar_color": null,
       "description_width": ""
      }
     },
     "249c2945059f44db9ba6d0129621ae43": {
      "model_module": "@jupyter-widgets/controls",
      "model_module_version": "1.5.0",
      "model_name": "DescriptionStyleModel",
      "state": {
       "_model_module": "@jupyter-widgets/controls",
       "_model_module_version": "1.5.0",
       "_model_name": "DescriptionStyleModel",
       "_view_count": null,
       "_view_module": "@jupyter-widgets/base",
       "_view_module_version": "1.2.0",
       "_view_name": "StyleView",
       "description_width": ""
      }
     },
     "25d12e887e404e6cb50180d6a06ee727": {
      "model_module": "@jupyter-widgets/controls",
      "model_module_version": "1.5.0",
      "model_name": "HBoxModel",
      "state": {
       "_dom_classes": [],
       "_model_module": "@jupyter-widgets/controls",
       "_model_module_version": "1.5.0",
       "_model_name": "HBoxModel",
       "_view_count": null,
       "_view_module": "@jupyter-widgets/controls",
       "_view_module_version": "1.5.0",
       "_view_name": "HBoxView",
       "box_style": "",
       "children": [
        "IPY_MODEL_a5b04a3f884346d897a15e460e45a077",
        "IPY_MODEL_d8fae5de156940a2b47ad359c804b464",
        "IPY_MODEL_14f18120e0c54aa98710684810862589"
       ],
       "layout": "IPY_MODEL_c4c6440fa8594bebbfbaf852e1f8bf1e"
      }
     },
     "2a99a665e05347d1b15dd65930c295d6": {
      "model_module": "@jupyter-widgets/controls",
      "model_module_version": "1.5.0",
      "model_name": "DescriptionStyleModel",
      "state": {
       "_model_module": "@jupyter-widgets/controls",
       "_model_module_version": "1.5.0",
       "_model_name": "DescriptionStyleModel",
       "_view_count": null,
       "_view_module": "@jupyter-widgets/base",
       "_view_module_version": "1.2.0",
       "_view_name": "StyleView",
       "description_width": ""
      }
     },
     "2b9211071383428896136bff97db7655": {
      "model_module": "@jupyter-widgets/controls",
      "model_module_version": "1.5.0",
      "model_name": "FloatProgressModel",
      "state": {
       "_dom_classes": [],
       "_model_module": "@jupyter-widgets/controls",
       "_model_module_version": "1.5.0",
       "_model_name": "FloatProgressModel",
       "_view_count": null,
       "_view_module": "@jupyter-widgets/controls",
       "_view_module_version": "1.5.0",
       "_view_name": "ProgressView",
       "bar_style": "success",
       "description": "",
       "description_tooltip": null,
       "layout": "IPY_MODEL_622a1d4e65f244f4be36aff32a8122d2",
       "max": 642.0,
       "min": 0.0,
       "orientation": "horizontal",
       "style": "IPY_MODEL_36f7c7504a7b42818c47d757747f387a",
       "value": 642.0
      }
     },
     "2c1b894b1bb04db599aa52536cc18204": {
      "model_module": "@jupyter-widgets/controls",
      "model_module_version": "1.5.0",
      "model_name": "DescriptionStyleModel",
      "state": {
       "_model_module": "@jupyter-widgets/controls",
       "_model_module_version": "1.5.0",
       "_model_name": "DescriptionStyleModel",
       "_view_count": null,
       "_view_module": "@jupyter-widgets/base",
       "_view_module_version": "1.2.0",
       "_view_name": "StyleView",
       "description_width": ""
      }
     },
     "2d10a4b04e5840a7ae051977014a0a6b": {
      "model_module": "@jupyter-widgets/controls",
      "model_module_version": "1.5.0",
      "model_name": "HTMLModel",
      "state": {
       "_dom_classes": [],
       "_model_module": "@jupyter-widgets/controls",
       "_model_module_version": "1.5.0",
       "_model_name": "HTMLModel",
       "_view_count": null,
       "_view_module": "@jupyter-widgets/controls",
       "_view_module_version": "1.5.0",
       "_view_name": "HTMLView",
       "description": "",
       "description_tooltip": null,
       "layout": "IPY_MODEL_4c3f2943ff9e4ec4b014c934b83446c3",
       "placeholder": "​",
       "style": "IPY_MODEL_fc67b83b1e6b4e489ab2a8c369a7c5f4",
       "value": "tokenizer_config.json: 100%"
      }
     },
     "2e60534fed6f4bc08ef91d859165afec": {
      "model_module": "@jupyter-widgets/base",
      "model_module_version": "1.2.0",
      "model_name": "LayoutModel",
      "state": {
       "_model_module": "@jupyter-widgets/base",
       "_model_module_version": "1.2.0",
       "_model_name": "LayoutModel",
       "_view_count": null,
       "_view_module": "@jupyter-widgets/base",
       "_view_module_version": "1.2.0",
       "_view_name": "LayoutView",
       "align_content": null,
       "align_items": null,
       "align_self": null,
       "border": null,
       "bottom": null,
       "display": null,
       "flex": null,
       "flex_flow": null,
       "grid_area": null,
       "grid_auto_columns": null,
       "grid_auto_flow": null,
       "grid_auto_rows": null,
       "grid_column": null,
       "grid_gap": null,
       "grid_row": null,
       "grid_template_areas": null,
       "grid_template_columns": null,
       "grid_template_rows": null,
       "height": null,
       "justify_content": null,
       "justify_items": null,
       "left": null,
       "margin": null,
       "max_height": null,
       "max_width": null,
       "min_height": null,
       "min_width": null,
       "object_fit": null,
       "object_position": null,
       "order": null,
       "overflow": null,
       "overflow_x": null,
       "overflow_y": null,
       "padding": null,
       "right": null,
       "top": null,
       "visibility": null,
       "width": null
      }
     },
     "36f7c7504a7b42818c47d757747f387a": {
      "model_module": "@jupyter-widgets/controls",
      "model_module_version": "1.5.0",
      "model_name": "ProgressStyleModel",
      "state": {
       "_model_module": "@jupyter-widgets/controls",
       "_model_module_version": "1.5.0",
       "_model_name": "ProgressStyleModel",
       "_view_count": null,
       "_view_module": "@jupyter-widgets/base",
       "_view_module_version": "1.2.0",
       "_view_name": "StyleView",
       "bar_color": null,
       "description_width": ""
      }
     },
     "3b44b2a7df184450b225ac2c5afd7367": {
      "model_module": "@jupyter-widgets/controls",
      "model_module_version": "1.5.0",
      "model_name": "ProgressStyleModel",
      "state": {
       "_model_module": "@jupyter-widgets/controls",
       "_model_module_version": "1.5.0",
       "_model_name": "ProgressStyleModel",
       "_view_count": null,
       "_view_module": "@jupyter-widgets/base",
       "_view_module_version": "1.2.0",
       "_view_name": "StyleView",
       "bar_color": null,
       "description_width": ""
      }
     },
     "3ca23ff3150c4944b691d74a3873fe43": {
      "model_module": "@jupyter-widgets/controls",
      "model_module_version": "1.5.0",
      "model_name": "FloatProgressModel",
      "state": {
       "_dom_classes": [],
       "_model_module": "@jupyter-widgets/controls",
       "_model_module_version": "1.5.0",
       "_model_name": "FloatProgressModel",
       "_view_count": null,
       "_view_module": "@jupyter-widgets/controls",
       "_view_module_version": "1.5.0",
       "_view_name": "ProgressView",
       "bar_style": "success",
       "description": "",
       "description_tooltip": null,
       "layout": "IPY_MODEL_d9cd76582bbc45f4966085a84521da04",
       "max": 112.0,
       "min": 0.0,
       "orientation": "horizontal",
       "style": "IPY_MODEL_d0a641b8f856475a8615dbe25c851794",
       "value": 112.0
      }
     },
     "3ee4307b2cb44dd59e429456c32653b1": {
      "model_module": "@jupyter-widgets/controls",
      "model_module_version": "1.5.0",
      "model_name": "DescriptionStyleModel",
      "state": {
       "_model_module": "@jupyter-widgets/controls",
       "_model_module_version": "1.5.0",
       "_model_name": "DescriptionStyleModel",
       "_view_count": null,
       "_view_module": "@jupyter-widgets/base",
       "_view_module_version": "1.2.0",
       "_view_name": "StyleView",
       "description_width": ""
      }
     },
     "4c3f2943ff9e4ec4b014c934b83446c3": {
      "model_module": "@jupyter-widgets/base",
      "model_module_version": "1.2.0",
      "model_name": "LayoutModel",
      "state": {
       "_model_module": "@jupyter-widgets/base",
       "_model_module_version": "1.2.0",
       "_model_name": "LayoutModel",
       "_view_count": null,
       "_view_module": "@jupyter-widgets/base",
       "_view_module_version": "1.2.0",
       "_view_name": "LayoutView",
       "align_content": null,
       "align_items": null,
       "align_self": null,
       "border": null,
       "bottom": null,
       "display": null,
       "flex": null,
       "flex_flow": null,
       "grid_area": null,
       "grid_auto_columns": null,
       "grid_auto_flow": null,
       "grid_auto_rows": null,
       "grid_column": null,
       "grid_gap": null,
       "grid_row": null,
       "grid_template_areas": null,
       "grid_template_columns": null,
       "grid_template_rows": null,
       "height": null,
       "justify_content": null,
       "justify_items": null,
       "left": null,
       "margin": null,
       "max_height": null,
       "max_width": null,
       "min_height": null,
       "min_width": null,
       "object_fit": null,
       "object_position": null,
       "order": null,
       "overflow": null,
       "overflow_x": null,
       "overflow_y": null,
       "padding": null,
       "right": null,
       "top": null,
       "visibility": null,
       "width": null
      }
     },
     "50d806e2394c498fbc944e755105dcd4": {
      "model_module": "@jupyter-widgets/controls",
      "model_module_version": "1.5.0",
      "model_name": "HTMLModel",
      "state": {
       "_dom_classes": [],
       "_model_module": "@jupyter-widgets/controls",
       "_model_module_version": "1.5.0",
       "_model_name": "HTMLModel",
       "_view_count": null,
       "_view_module": "@jupyter-widgets/controls",
       "_view_module_version": "1.5.0",
       "_view_name": "HTMLView",
       "description": "",
       "description_tooltip": null,
       "layout": "IPY_MODEL_519df58da73349cd867d0f8e048abc0c",
       "placeholder": "​",
       "style": "IPY_MODEL_cb8192c3296a4e35a74c99e1446e70f4",
       "value": " 112/112 [00:00&lt;00:00, 9.64kB/s]"
      }
     },
     "519df58da73349cd867d0f8e048abc0c": {
      "model_module": "@jupyter-widgets/base",
      "model_module_version": "1.2.0",
      "model_name": "LayoutModel",
      "state": {
       "_model_module": "@jupyter-widgets/base",
       "_model_module_version": "1.2.0",
       "_model_name": "LayoutModel",
       "_view_count": null,
       "_view_module": "@jupyter-widgets/base",
       "_view_module_version": "1.2.0",
       "_view_name": "LayoutView",
       "align_content": null,
       "align_items": null,
       "align_self": null,
       "border": null,
       "bottom": null,
       "display": null,
       "flex": null,
       "flex_flow": null,
       "grid_area": null,
       "grid_auto_columns": null,
       "grid_auto_flow": null,
       "grid_auto_rows": null,
       "grid_column": null,
       "grid_gap": null,
       "grid_row": null,
       "grid_template_areas": null,
       "grid_template_columns": null,
       "grid_template_rows": null,
       "height": null,
       "justify_content": null,
       "justify_items": null,
       "left": null,
       "margin": null,
       "max_height": null,
       "max_width": null,
       "min_height": null,
       "min_width": null,
       "object_fit": null,
       "object_position": null,
       "order": null,
       "overflow": null,
       "overflow_x": null,
       "overflow_y": null,
       "padding": null,
       "right": null,
       "top": null,
       "visibility": null,
       "width": null
      }
     },
     "55a7500c90a54f829eff00fa5a15ef96": {
      "model_module": "@jupyter-widgets/base",
      "model_module_version": "1.2.0",
      "model_name": "LayoutModel",
      "state": {
       "_model_module": "@jupyter-widgets/base",
       "_model_module_version": "1.2.0",
       "_model_name": "LayoutModel",
       "_view_count": null,
       "_view_module": "@jupyter-widgets/base",
       "_view_module_version": "1.2.0",
       "_view_name": "LayoutView",
       "align_content": null,
       "align_items": null,
       "align_self": null,
       "border": null,
       "bottom": null,
       "display": null,
       "flex": null,
       "flex_flow": null,
       "grid_area": null,
       "grid_auto_columns": null,
       "grid_auto_flow": null,
       "grid_auto_rows": null,
       "grid_column": null,
       "grid_gap": null,
       "grid_row": null,
       "grid_template_areas": null,
       "grid_template_columns": null,
       "grid_template_rows": null,
       "height": null,
       "justify_content": null,
       "justify_items": null,
       "left": null,
       "margin": null,
       "max_height": null,
       "max_width": null,
       "min_height": null,
       "min_width": null,
       "object_fit": null,
       "object_position": null,
       "order": null,
       "overflow": null,
       "overflow_x": null,
       "overflow_y": null,
       "padding": null,
       "right": null,
       "top": null,
       "visibility": null,
       "width": null
      }
     },
     "582fc663df2042719546cadd63422b85": {
      "model_module": "@jupyter-widgets/controls",
      "model_module_version": "1.5.0",
      "model_name": "HTMLModel",
      "state": {
       "_dom_classes": [],
       "_model_module": "@jupyter-widgets/controls",
       "_model_module_version": "1.5.0",
       "_model_name": "HTMLModel",
       "_view_count": null,
       "_view_module": "@jupyter-widgets/controls",
       "_view_module_version": "1.5.0",
       "_view_name": "HTMLView",
       "description": "",
       "description_tooltip": null,
       "layout": "IPY_MODEL_d8b6271161e7487b92f367edf827c4dd",
       "placeholder": "​",
       "style": "IPY_MODEL_3ee4307b2cb44dd59e429456c32653b1",
       "value": " 642/642 [00:00&lt;00:00, 60.0kB/s]"
      }
     },
     "5e3ef09db4d1433d96c2ee87a97c94a6": {
      "model_module": "@jupyter-widgets/base",
      "model_module_version": "1.2.0",
      "model_name": "LayoutModel",
      "state": {
       "_model_module": "@jupyter-widgets/base",
       "_model_module_version": "1.2.0",
       "_model_name": "LayoutModel",
       "_view_count": null,
       "_view_module": "@jupyter-widgets/base",
       "_view_module_version": "1.2.0",
       "_view_name": "LayoutView",
       "align_content": null,
       "align_items": null,
       "align_self": null,
       "border": null,
       "bottom": null,
       "display": null,
       "flex": null,
       "flex_flow": null,
       "grid_area": null,
       "grid_auto_columns": null,
       "grid_auto_flow": null,
       "grid_auto_rows": null,
       "grid_column": null,
       "grid_gap": null,
       "grid_row": null,
       "grid_template_areas": null,
       "grid_template_columns": null,
       "grid_template_rows": null,
       "height": null,
       "justify_content": null,
       "justify_items": null,
       "left": null,
       "margin": null,
       "max_height": null,
       "max_width": null,
       "min_height": null,
       "min_width": null,
       "object_fit": null,
       "object_position": null,
       "order": null,
       "overflow": null,
       "overflow_x": null,
       "overflow_y": null,
       "padding": null,
       "right": null,
       "top": null,
       "visibility": null,
       "width": null
      }
     },
     "61762be2ee8440728d7e95049590975a": {
      "model_module": "@jupyter-widgets/controls",
      "model_module_version": "1.5.0",
      "model_name": "HBoxModel",
      "state": {
       "_dom_classes": [],
       "_model_module": "@jupyter-widgets/controls",
       "_model_module_version": "1.5.0",
       "_model_name": "HBoxModel",
       "_view_count": null,
       "_view_module": "@jupyter-widgets/controls",
       "_view_module_version": "1.5.0",
       "_view_name": "HBoxView",
       "box_style": "",
       "children": [
        "IPY_MODEL_647f6cda706e44d995759c1fafc6cf3c",
        "IPY_MODEL_e90eb3e01e24409c8e94487846c1970b",
        "IPY_MODEL_b3d8b52bc246466d976d5adc3a9a8586"
       ],
       "layout": "IPY_MODEL_bcefc680fb50453c81c2c1a41b1b784a"
      }
     },
     "622a1d4e65f244f4be36aff32a8122d2": {
      "model_module": "@jupyter-widgets/base",
      "model_module_version": "1.2.0",
      "model_name": "LayoutModel",
      "state": {
       "_model_module": "@jupyter-widgets/base",
       "_model_module_version": "1.2.0",
       "_model_name": "LayoutModel",
       "_view_count": null,
       "_view_module": "@jupyter-widgets/base",
       "_view_module_version": "1.2.0",
       "_view_name": "LayoutView",
       "align_content": null,
       "align_items": null,
       "align_self": null,
       "border": null,
       "bottom": null,
       "display": null,
       "flex": null,
       "flex_flow": null,
       "grid_area": null,
       "grid_auto_columns": null,
       "grid_auto_flow": null,
       "grid_auto_rows": null,
       "grid_column": null,
       "grid_gap": null,
       "grid_row": null,
       "grid_template_areas": null,
       "grid_template_columns": null,
       "grid_template_rows": null,
       "height": null,
       "justify_content": null,
       "justify_items": null,
       "left": null,
       "margin": null,
       "max_height": null,
       "max_width": null,
       "min_height": null,
       "min_width": null,
       "object_fit": null,
       "object_position": null,
       "order": null,
       "overflow": null,
       "overflow_x": null,
       "overflow_y": null,
       "padding": null,
       "right": null,
       "top": null,
       "visibility": null,
       "width": null
      }
     },
     "647f6cda706e44d995759c1fafc6cf3c": {
      "model_module": "@jupyter-widgets/controls",
      "model_module_version": "1.5.0",
      "model_name": "HTMLModel",
      "state": {
       "_dom_classes": [],
       "_model_module": "@jupyter-widgets/controls",
       "_model_module_version": "1.5.0",
       "_model_name": "HTMLModel",
       "_view_count": null,
       "_view_module": "@jupyter-widgets/controls",
       "_view_module_version": "1.5.0",
       "_view_name": "HTMLView",
       "description": "",
       "description_tooltip": null,
       "layout": "IPY_MODEL_e2637977aeaa4d0ea02bedec50395873",
       "placeholder": "​",
       "style": "IPY_MODEL_22926799b32b40b98fd02dc9fe87c855",
       "value": "vocab.txt: 100%"
      }
     },
     "76909b4d8aec4e468d80257bd10230d3": {
      "model_module": "@jupyter-widgets/controls",
      "model_module_version": "1.5.0",
      "model_name": "HTMLModel",
      "state": {
       "_dom_classes": [],
       "_model_module": "@jupyter-widgets/controls",
       "_model_module_version": "1.5.0",
       "_model_name": "HTMLModel",
       "_view_count": null,
       "_view_module": "@jupyter-widgets/controls",
       "_view_module_version": "1.5.0",
       "_view_name": "HTMLView",
       "description": "",
       "description_tooltip": null,
       "layout": "IPY_MODEL_7ec0c6292d4c42439a27672e23ef8d5c",
       "placeholder": "​",
       "style": "IPY_MODEL_249c2945059f44db9ba6d0129621ae43",
       "value": "config.json: 100%"
      }
     },
     "7ec0c6292d4c42439a27672e23ef8d5c": {
      "model_module": "@jupyter-widgets/base",
      "model_module_version": "1.2.0",
      "model_name": "LayoutModel",
      "state": {
       "_model_module": "@jupyter-widgets/base",
       "_model_module_version": "1.2.0",
       "_model_name": "LayoutModel",
       "_view_count": null,
       "_view_module": "@jupyter-widgets/base",
       "_view_module_version": "1.2.0",
       "_view_name": "LayoutView",
       "align_content": null,
       "align_items": null,
       "align_self": null,
       "border": null,
       "bottom": null,
       "display": null,
       "flex": null,
       "flex_flow": null,
       "grid_area": null,
       "grid_auto_columns": null,
       "grid_auto_flow": null,
       "grid_auto_rows": null,
       "grid_column": null,
       "grid_gap": null,
       "grid_row": null,
       "grid_template_areas": null,
       "grid_template_columns": null,
       "grid_template_rows": null,
       "height": null,
       "justify_content": null,
       "justify_items": null,
       "left": null,
       "margin": null,
       "max_height": null,
       "max_width": null,
       "min_height": null,
       "min_width": null,
       "object_fit": null,
       "object_position": null,
       "order": null,
       "overflow": null,
       "overflow_x": null,
       "overflow_y": null,
       "padding": null,
       "right": null,
       "top": null,
       "visibility": null,
       "width": null
      }
     },
     "8256be9469aa4fc8a10e5f23678b0a4b": {
      "model_module": "@jupyter-widgets/base",
      "model_module_version": "1.2.0",
      "model_name": "LayoutModel",
      "state": {
       "_model_module": "@jupyter-widgets/base",
       "_model_module_version": "1.2.0",
       "_model_name": "LayoutModel",
       "_view_count": null,
       "_view_module": "@jupyter-widgets/base",
       "_view_module_version": "1.2.0",
       "_view_name": "LayoutView",
       "align_content": null,
       "align_items": null,
       "align_self": null,
       "border": null,
       "bottom": null,
       "display": null,
       "flex": null,
       "flex_flow": null,
       "grid_area": null,
       "grid_auto_columns": null,
       "grid_auto_flow": null,
       "grid_auto_rows": null,
       "grid_column": null,
       "grid_gap": null,
       "grid_row": null,
       "grid_template_areas": null,
       "grid_template_columns": null,
       "grid_template_rows": null,
       "height": null,
       "justify_content": null,
       "justify_items": null,
       "left": null,
       "margin": null,
       "max_height": null,
       "max_width": null,
       "min_height": null,
       "min_width": null,
       "object_fit": null,
       "object_position": null,
       "order": null,
       "overflow": null,
       "overflow_x": null,
       "overflow_y": null,
       "padding": null,
       "right": null,
       "top": null,
       "visibility": null,
       "width": null
      }
     },
     "844421cf40124cfab702ec37f68df0ac": {
      "model_module": "@jupyter-widgets/controls",
      "model_module_version": "1.5.0",
      "model_name": "DescriptionStyleModel",
      "state": {
       "_model_module": "@jupyter-widgets/controls",
       "_model_module_version": "1.5.0",
       "_model_name": "DescriptionStyleModel",
       "_view_count": null,
       "_view_module": "@jupyter-widgets/base",
       "_view_module_version": "1.2.0",
       "_view_name": "StyleView",
       "description_width": ""
      }
     },
     "886d5470158f42ccb4e7df28f28c1dc1": {
      "model_module": "@jupyter-widgets/controls",
      "model_module_version": "1.5.0",
      "model_name": "HTMLModel",
      "state": {
       "_dom_classes": [],
       "_model_module": "@jupyter-widgets/controls",
       "_model_module_version": "1.5.0",
       "_model_name": "HTMLModel",
       "_view_count": null,
       "_view_module": "@jupyter-widgets/controls",
       "_view_module_version": "1.5.0",
       "_view_name": "HTMLView",
       "description": "",
       "description_tooltip": null,
       "layout": "IPY_MODEL_5e3ef09db4d1433d96c2ee87a97c94a6",
       "placeholder": "​",
       "style": "IPY_MODEL_b0cc2b7b050349679be3488c72ef6b51",
       "value": "special_tokens_map.json: 100%"
      }
     },
     "8a49e5df643c4108a40ff43c23c1ec45": {
      "model_module": "@jupyter-widgets/base",
      "model_module_version": "1.2.0",
      "model_name": "LayoutModel",
      "state": {
       "_model_module": "@jupyter-widgets/base",
       "_model_module_version": "1.2.0",
       "_model_name": "LayoutModel",
       "_view_count": null,
       "_view_module": "@jupyter-widgets/base",
       "_view_module_version": "1.2.0",
       "_view_name": "LayoutView",
       "align_content": null,
       "align_items": null,
       "align_self": null,
       "border": null,
       "bottom": null,
       "display": null,
       "flex": null,
       "flex_flow": null,
       "grid_area": null,
       "grid_auto_columns": null,
       "grid_auto_flow": null,
       "grid_auto_rows": null,
       "grid_column": null,
       "grid_gap": null,
       "grid_row": null,
       "grid_template_areas": null,
       "grid_template_columns": null,
       "grid_template_rows": null,
       "height": null,
       "justify_content": null,
       "justify_items": null,
       "left": null,
       "margin": null,
       "max_height": null,
       "max_width": null,
       "min_height": null,
       "min_width": null,
       "object_fit": null,
       "object_position": null,
       "order": null,
       "overflow": null,
       "overflow_x": null,
       "overflow_y": null,
       "padding": null,
       "right": null,
       "top": null,
       "visibility": null,
       "width": null
      }
     },
     "9472ba55ca534d79a700ed5b2d74cf9b": {
      "model_module": "@jupyter-widgets/base",
      "model_module_version": "1.2.0",
      "model_name": "LayoutModel",
      "state": {
       "_model_module": "@jupyter-widgets/base",
       "_model_module_version": "1.2.0",
       "_model_name": "LayoutModel",
       "_view_count": null,
       "_view_module": "@jupyter-widgets/base",
       "_view_module_version": "1.2.0",
       "_view_name": "LayoutView",
       "align_content": null,
       "align_items": null,
       "align_self": null,
       "border": null,
       "bottom": null,
       "display": null,
       "flex": null,
       "flex_flow": null,
       "grid_area": null,
       "grid_auto_columns": null,
       "grid_auto_flow": null,
       "grid_auto_rows": null,
       "grid_column": null,
       "grid_gap": null,
       "grid_row": null,
       "grid_template_areas": null,
       "grid_template_columns": null,
       "grid_template_rows": null,
       "height": null,
       "justify_content": null,
       "justify_items": null,
       "left": null,
       "margin": null,
       "max_height": null,
       "max_width": null,
       "min_height": null,
       "min_width": null,
       "object_fit": null,
       "object_position": null,
       "order": null,
       "overflow": null,
       "overflow_x": null,
       "overflow_y": null,
       "padding": null,
       "right": null,
       "top": null,
       "visibility": null,
       "width": null
      }
     },
     "9fdc1b2a67d9430788ca42f17bc1987c": {
      "model_module": "@jupyter-widgets/controls",
      "model_module_version": "1.5.0",
      "model_name": "ProgressStyleModel",
      "state": {
       "_model_module": "@jupyter-widgets/controls",
       "_model_module_version": "1.5.0",
       "_model_name": "ProgressStyleModel",
       "_view_count": null,
       "_view_module": "@jupyter-widgets/base",
       "_view_module_version": "1.2.0",
       "_view_name": "StyleView",
       "bar_color": null,
       "description_width": ""
      }
     },
     "a1756a34826b4c0292d87602ba910635": {
      "model_module": "@jupyter-widgets/controls",
      "model_module_version": "1.5.0",
      "model_name": "DescriptionStyleModel",
      "state": {
       "_model_module": "@jupyter-widgets/controls",
       "_model_module_version": "1.5.0",
       "_model_name": "DescriptionStyleModel",
       "_view_count": null,
       "_view_module": "@jupyter-widgets/base",
       "_view_module_version": "1.2.0",
       "_view_name": "StyleView",
       "description_width": ""
      }
     },
     "a5b04a3f884346d897a15e460e45a077": {
      "model_module": "@jupyter-widgets/controls",
      "model_module_version": "1.5.0",
      "model_name": "HTMLModel",
      "state": {
       "_dom_classes": [],
       "_model_module": "@jupyter-widgets/controls",
       "_model_module_version": "1.5.0",
       "_model_name": "HTMLModel",
       "_view_count": null,
       "_view_module": "@jupyter-widgets/controls",
       "_view_module_version": "1.5.0",
       "_view_name": "HTMLView",
       "description": "",
       "description_tooltip": null,
       "layout": "IPY_MODEL_55a7500c90a54f829eff00fa5a15ef96",
       "placeholder": "​",
       "style": "IPY_MODEL_2a99a665e05347d1b15dd65930c295d6",
       "value": "pytorch_model.bin: 100%"
      }
     },
     "b0cc2b7b050349679be3488c72ef6b51": {
      "model_module": "@jupyter-widgets/controls",
      "model_module_version": "1.5.0",
      "model_name": "DescriptionStyleModel",
      "state": {
       "_model_module": "@jupyter-widgets/controls",
       "_model_module_version": "1.5.0",
       "_model_name": "DescriptionStyleModel",
       "_view_count": null,
       "_view_module": "@jupyter-widgets/base",
       "_view_module_version": "1.2.0",
       "_view_name": "StyleView",
       "description_width": ""
      }
     },
     "b3d8b52bc246466d976d5adc3a9a8586": {
      "model_module": "@jupyter-widgets/controls",
      "model_module_version": "1.5.0",
      "model_name": "HTMLModel",
      "state": {
       "_dom_classes": [],
       "_model_module": "@jupyter-widgets/controls",
       "_model_module_version": "1.5.0",
       "_model_name": "HTMLModel",
       "_view_count": null,
       "_view_module": "@jupyter-widgets/controls",
       "_view_module_version": "1.5.0",
       "_view_name": "HTMLView",
       "description": "",
       "description_tooltip": null,
       "layout": "IPY_MODEL_f2cf302d52e2418c8ae59861c42f67d8",
       "placeholder": "​",
       "style": "IPY_MODEL_844421cf40124cfab702ec37f68df0ac",
       "value": " 1.65M/1.65M [00:00&lt;00:00, 17.0MB/s]"
      }
     },
     "bcefc680fb50453c81c2c1a41b1b784a": {
      "model_module": "@jupyter-widgets/base",
      "model_module_version": "1.2.0",
      "model_name": "LayoutModel",
      "state": {
       "_model_module": "@jupyter-widgets/base",
       "_model_module_version": "1.2.0",
       "_model_name": "LayoutModel",
       "_view_count": null,
       "_view_module": "@jupyter-widgets/base",
       "_view_module_version": "1.2.0",
       "_view_name": "LayoutView",
       "align_content": null,
       "align_items": null,
       "align_self": null,
       "border": null,
       "bottom": null,
       "display": null,
       "flex": null,
       "flex_flow": null,
       "grid_area": null,
       "grid_auto_columns": null,
       "grid_auto_flow": null,
       "grid_auto_rows": null,
       "grid_column": null,
       "grid_gap": null,
       "grid_row": null,
       "grid_template_areas": null,
       "grid_template_columns": null,
       "grid_template_rows": null,
       "height": null,
       "justify_content": null,
       "justify_items": null,
       "left": null,
       "margin": null,
       "max_height": null,
       "max_width": null,
       "min_height": null,
       "min_width": null,
       "object_fit": null,
       "object_position": null,
       "order": null,
       "overflow": null,
       "overflow_x": null,
       "overflow_y": null,
       "padding": null,
       "right": null,
       "top": null,
       "visibility": null,
       "width": null
      }
     },
     "c204cf50198c4dbe826f22a39d0fba7b": {
      "model_module": "@jupyter-widgets/controls",
      "model_module_version": "1.5.0",
      "model_name": "HTMLModel",
      "state": {
       "_dom_classes": [],
       "_model_module": "@jupyter-widgets/controls",
       "_model_module_version": "1.5.0",
       "_model_name": "HTMLModel",
       "_view_count": null,
       "_view_module": "@jupyter-widgets/controls",
       "_view_module_version": "1.5.0",
       "_view_name": "HTMLView",
       "description": "",
       "description_tooltip": null,
       "layout": "IPY_MODEL_9472ba55ca534d79a700ed5b2d74cf9b",
       "placeholder": "​",
       "style": "IPY_MODEL_a1756a34826b4c0292d87602ba910635",
       "value": " 24.0/24.0 [00:00&lt;00:00, 1.89kB/s]"
      }
     },
     "c4c6440fa8594bebbfbaf852e1f8bf1e": {
      "model_module": "@jupyter-widgets/base",
      "model_module_version": "1.2.0",
      "model_name": "LayoutModel",
      "state": {
       "_model_module": "@jupyter-widgets/base",
       "_model_module_version": "1.2.0",
       "_model_name": "LayoutModel",
       "_view_count": null,
       "_view_module": "@jupyter-widgets/base",
       "_view_module_version": "1.2.0",
       "_view_name": "LayoutView",
       "align_content": null,
       "align_items": null,
       "align_self": null,
       "border": null,
       "bottom": null,
       "display": null,
       "flex": null,
       "flex_flow": null,
       "grid_area": null,
       "grid_auto_columns": null,
       "grid_auto_flow": null,
       "grid_auto_rows": null,
       "grid_column": null,
       "grid_gap": null,
       "grid_row": null,
       "grid_template_areas": null,
       "grid_template_columns": null,
       "grid_template_rows": null,
       "height": null,
       "justify_content": null,
       "justify_items": null,
       "left": null,
       "margin": null,
       "max_height": null,
       "max_width": null,
       "min_height": null,
       "min_width": null,
       "object_fit": null,
       "object_position": null,
       "order": null,
       "overflow": null,
       "overflow_x": null,
       "overflow_y": null,
       "padding": null,
       "right": null,
       "top": null,
       "visibility": null,
       "width": null
      }
     },
     "cb7c85d429e8456eb6a59df530afffca": {
      "model_module": "@jupyter-widgets/base",
      "model_module_version": "1.2.0",
      "model_name": "LayoutModel",
      "state": {
       "_model_module": "@jupyter-widgets/base",
       "_model_module_version": "1.2.0",
       "_model_name": "LayoutModel",
       "_view_count": null,
       "_view_module": "@jupyter-widgets/base",
       "_view_module_version": "1.2.0",
       "_view_name": "LayoutView",
       "align_content": null,
       "align_items": null,
       "align_self": null,
       "border": null,
       "bottom": null,
       "display": null,
       "flex": null,
       "flex_flow": null,
       "grid_area": null,
       "grid_auto_columns": null,
       "grid_auto_flow": null,
       "grid_auto_rows": null,
       "grid_column": null,
       "grid_gap": null,
       "grid_row": null,
       "grid_template_areas": null,
       "grid_template_columns": null,
       "grid_template_rows": null,
       "height": null,
       "justify_content": null,
       "justify_items": null,
       "left": null,
       "margin": null,
       "max_height": null,
       "max_width": null,
       "min_height": null,
       "min_width": null,
       "object_fit": null,
       "object_position": null,
       "order": null,
       "overflow": null,
       "overflow_x": null,
       "overflow_y": null,
       "padding": null,
       "right": null,
       "top": null,
       "visibility": null,
       "width": null
      }
     },
     "cb8192c3296a4e35a74c99e1446e70f4": {
      "model_module": "@jupyter-widgets/controls",
      "model_module_version": "1.5.0",
      "model_name": "DescriptionStyleModel",
      "state": {
       "_model_module": "@jupyter-widgets/controls",
       "_model_module_version": "1.5.0",
       "_model_name": "DescriptionStyleModel",
       "_view_count": null,
       "_view_module": "@jupyter-widgets/base",
       "_view_module_version": "1.2.0",
       "_view_name": "StyleView",
       "description_width": ""
      }
     },
     "d0a641b8f856475a8615dbe25c851794": {
      "model_module": "@jupyter-widgets/controls",
      "model_module_version": "1.5.0",
      "model_name": "ProgressStyleModel",
      "state": {
       "_model_module": "@jupyter-widgets/controls",
       "_model_module_version": "1.5.0",
       "_model_name": "ProgressStyleModel",
       "_view_count": null,
       "_view_module": "@jupyter-widgets/base",
       "_view_module_version": "1.2.0",
       "_view_name": "StyleView",
       "bar_color": null,
       "description_width": ""
      }
     },
     "d8b6271161e7487b92f367edf827c4dd": {
      "model_module": "@jupyter-widgets/base",
      "model_module_version": "1.2.0",
      "model_name": "LayoutModel",
      "state": {
       "_model_module": "@jupyter-widgets/base",
       "_model_module_version": "1.2.0",
       "_model_name": "LayoutModel",
       "_view_count": null,
       "_view_module": "@jupyter-widgets/base",
       "_view_module_version": "1.2.0",
       "_view_name": "LayoutView",
       "align_content": null,
       "align_items": null,
       "align_self": null,
       "border": null,
       "bottom": null,
       "display": null,
       "flex": null,
       "flex_flow": null,
       "grid_area": null,
       "grid_auto_columns": null,
       "grid_auto_flow": null,
       "grid_auto_rows": null,
       "grid_column": null,
       "grid_gap": null,
       "grid_row": null,
       "grid_template_areas": null,
       "grid_template_columns": null,
       "grid_template_rows": null,
       "height": null,
       "justify_content": null,
       "justify_items": null,
       "left": null,
       "margin": null,
       "max_height": null,
       "max_width": null,
       "min_height": null,
       "min_width": null,
       "object_fit": null,
       "object_position": null,
       "order": null,
       "overflow": null,
       "overflow_x": null,
       "overflow_y": null,
       "padding": null,
       "right": null,
       "top": null,
       "visibility": null,
       "width": null
      }
     },
     "d8fae5de156940a2b47ad359c804b464": {
      "model_module": "@jupyter-widgets/controls",
      "model_module_version": "1.5.0",
      "model_name": "FloatProgressModel",
      "state": {
       "_dom_classes": [],
       "_model_module": "@jupyter-widgets/controls",
       "_model_module_version": "1.5.0",
       "_model_name": "FloatProgressModel",
       "_view_count": null,
       "_view_module": "@jupyter-widgets/controls",
       "_view_module_version": "1.5.0",
       "_view_name": "ProgressView",
       "bar_style": "success",
       "description": "",
       "description_tooltip": null,
       "layout": "IPY_MODEL_da9fe6e645a4437788f45eb99f4acec6",
       "max": 7.14355318E8,
       "min": 0.0,
       "orientation": "horizontal",
       "style": "IPY_MODEL_230a5c46e80546f7992a5e691f593955",
       "value": 7.14355318E8
      }
     },
     "d9cd76582bbc45f4966085a84521da04": {
      "model_module": "@jupyter-widgets/base",
      "model_module_version": "1.2.0",
      "model_name": "LayoutModel",
      "state": {
       "_model_module": "@jupyter-widgets/base",
       "_model_module_version": "1.2.0",
       "_model_name": "LayoutModel",
       "_view_count": null,
       "_view_module": "@jupyter-widgets/base",
       "_view_module_version": "1.2.0",
       "_view_name": "LayoutView",
       "align_content": null,
       "align_items": null,
       "align_self": null,
       "border": null,
       "bottom": null,
       "display": null,
       "flex": null,
       "flex_flow": null,
       "grid_area": null,
       "grid_auto_columns": null,
       "grid_auto_flow": null,
       "grid_auto_rows": null,
       "grid_column": null,
       "grid_gap": null,
       "grid_row": null,
       "grid_template_areas": null,
       "grid_template_columns": null,
       "grid_template_rows": null,
       "height": null,
       "justify_content": null,
       "justify_items": null,
       "left": null,
       "margin": null,
       "max_height": null,
       "max_width": null,
       "min_height": null,
       "min_width": null,
       "object_fit": null,
       "object_position": null,
       "order": null,
       "overflow": null,
       "overflow_x": null,
       "overflow_y": null,
       "padding": null,
       "right": null,
       "top": null,
       "visibility": null,
       "width": null
      }
     },
     "da9fe6e645a4437788f45eb99f4acec6": {
      "model_module": "@jupyter-widgets/base",
      "model_module_version": "1.2.0",
      "model_name": "LayoutModel",
      "state": {
       "_model_module": "@jupyter-widgets/base",
       "_model_module_version": "1.2.0",
       "_model_name": "LayoutModel",
       "_view_count": null,
       "_view_module": "@jupyter-widgets/base",
       "_view_module_version": "1.2.0",
       "_view_name": "LayoutView",
       "align_content": null,
       "align_items": null,
       "align_self": null,
       "border": null,
       "bottom": null,
       "display": null,
       "flex": null,
       "flex_flow": null,
       "grid_area": null,
       "grid_auto_columns": null,
       "grid_auto_flow": null,
       "grid_auto_rows": null,
       "grid_column": null,
       "grid_gap": null,
       "grid_row": null,
       "grid_template_areas": null,
       "grid_template_columns": null,
       "grid_template_rows": null,
       "height": null,
       "justify_content": null,
       "justify_items": null,
       "left": null,
       "margin": null,
       "max_height": null,
       "max_width": null,
       "min_height": null,
       "min_width": null,
       "object_fit": null,
       "object_position": null,
       "order": null,
       "overflow": null,
       "overflow_x": null,
       "overflow_y": null,
       "padding": null,
       "right": null,
       "top": null,
       "visibility": null,
       "width": null
      }
     },
     "e2637977aeaa4d0ea02bedec50395873": {
      "model_module": "@jupyter-widgets/base",
      "model_module_version": "1.2.0",
      "model_name": "LayoutModel",
      "state": {
       "_model_module": "@jupyter-widgets/base",
       "_model_module_version": "1.2.0",
       "_model_name": "LayoutModel",
       "_view_count": null,
       "_view_module": "@jupyter-widgets/base",
       "_view_module_version": "1.2.0",
       "_view_name": "LayoutView",
       "align_content": null,
       "align_items": null,
       "align_self": null,
       "border": null,
       "bottom": null,
       "display": null,
       "flex": null,
       "flex_flow": null,
       "grid_area": null,
       "grid_auto_columns": null,
       "grid_auto_flow": null,
       "grid_auto_rows": null,
       "grid_column": null,
       "grid_gap": null,
       "grid_row": null,
       "grid_template_areas": null,
       "grid_template_columns": null,
       "grid_template_rows": null,
       "height": null,
       "justify_content": null,
       "justify_items": null,
       "left": null,
       "margin": null,
       "max_height": null,
       "max_width": null,
       "min_height": null,
       "min_width": null,
       "object_fit": null,
       "object_position": null,
       "order": null,
       "overflow": null,
       "overflow_x": null,
       "overflow_y": null,
       "padding": null,
       "right": null,
       "top": null,
       "visibility": null,
       "width": null
      }
     },
     "e68850da74c44a51a43339a97241103e": {
      "model_module": "@jupyter-widgets/base",
      "model_module_version": "1.2.0",
      "model_name": "LayoutModel",
      "state": {
       "_model_module": "@jupyter-widgets/base",
       "_model_module_version": "1.2.0",
       "_model_name": "LayoutModel",
       "_view_count": null,
       "_view_module": "@jupyter-widgets/base",
       "_view_module_version": "1.2.0",
       "_view_name": "LayoutView",
       "align_content": null,
       "align_items": null,
       "align_self": null,
       "border": null,
       "bottom": null,
       "display": null,
       "flex": null,
       "flex_flow": null,
       "grid_area": null,
       "grid_auto_columns": null,
       "grid_auto_flow": null,
       "grid_auto_rows": null,
       "grid_column": null,
       "grid_gap": null,
       "grid_row": null,
       "grid_template_areas": null,
       "grid_template_columns": null,
       "grid_template_rows": null,
       "height": null,
       "justify_content": null,
       "justify_items": null,
       "left": null,
       "margin": null,
       "max_height": null,
       "max_width": null,
       "min_height": null,
       "min_width": null,
       "object_fit": null,
       "object_position": null,
       "order": null,
       "overflow": null,
       "overflow_x": null,
       "overflow_y": null,
       "padding": null,
       "right": null,
       "top": null,
       "visibility": null,
       "width": null
      }
     },
     "e90eb3e01e24409c8e94487846c1970b": {
      "model_module": "@jupyter-widgets/controls",
      "model_module_version": "1.5.0",
      "model_name": "FloatProgressModel",
      "state": {
       "_dom_classes": [],
       "_model_module": "@jupyter-widgets/controls",
       "_model_module_version": "1.5.0",
       "_model_name": "FloatProgressModel",
       "_view_count": null,
       "_view_module": "@jupyter-widgets/controls",
       "_view_module_version": "1.5.0",
       "_view_name": "ProgressView",
       "bar_style": "success",
       "description": "",
       "description_tooltip": null,
       "layout": "IPY_MODEL_2e60534fed6f4bc08ef91d859165afec",
       "max": 1649718.0,
       "min": 0.0,
       "orientation": "horizontal",
       "style": "IPY_MODEL_3b44b2a7df184450b225ac2c5afd7367",
       "value": 1649718.0
      }
     },
     "eb172395cfa044a9bad80562c8a029a9": {
      "model_module": "@jupyter-widgets/base",
      "model_module_version": "1.2.0",
      "model_name": "LayoutModel",
      "state": {
       "_model_module": "@jupyter-widgets/base",
       "_model_module_version": "1.2.0",
       "_model_name": "LayoutModel",
       "_view_count": null,
       "_view_module": "@jupyter-widgets/base",
       "_view_module_version": "1.2.0",
       "_view_name": "LayoutView",
       "align_content": null,
       "align_items": null,
       "align_self": null,
       "border": null,
       "bottom": null,
       "display": null,
       "flex": null,
       "flex_flow": null,
       "grid_area": null,
       "grid_auto_columns": null,
       "grid_auto_flow": null,
       "grid_auto_rows": null,
       "grid_column": null,
       "grid_gap": null,
       "grid_row": null,
       "grid_template_areas": null,
       "grid_template_columns": null,
       "grid_template_rows": null,
       "height": null,
       "justify_content": null,
       "justify_items": null,
       "left": null,
       "margin": null,
       "max_height": null,
       "max_width": null,
       "min_height": null,
       "min_width": null,
       "object_fit": null,
       "object_position": null,
       "order": null,
       "overflow": null,
       "overflow_x": null,
       "overflow_y": null,
       "padding": null,
       "right": null,
       "top": null,
       "visibility": null,
       "width": null
      }
     },
     "f2cf302d52e2418c8ae59861c42f67d8": {
      "model_module": "@jupyter-widgets/base",
      "model_module_version": "1.2.0",
      "model_name": "LayoutModel",
      "state": {
       "_model_module": "@jupyter-widgets/base",
       "_model_module_version": "1.2.0",
       "_model_name": "LayoutModel",
       "_view_count": null,
       "_view_module": "@jupyter-widgets/base",
       "_view_module_version": "1.2.0",
       "_view_name": "LayoutView",
       "align_content": null,
       "align_items": null,
       "align_self": null,
       "border": null,
       "bottom": null,
       "display": null,
       "flex": null,
       "flex_flow": null,
       "grid_area": null,
       "grid_auto_columns": null,
       "grid_auto_flow": null,
       "grid_auto_rows": null,
       "grid_column": null,
       "grid_gap": null,
       "grid_row": null,
       "grid_template_areas": null,
       "grid_template_columns": null,
       "grid_template_rows": null,
       "height": null,
       "justify_content": null,
       "justify_items": null,
       "left": null,
       "margin": null,
       "max_height": null,
       "max_width": null,
       "min_height": null,
       "min_width": null,
       "object_fit": null,
       "object_position": null,
       "order": null,
       "overflow": null,
       "overflow_x": null,
       "overflow_y": null,
       "padding": null,
       "right": null,
       "top": null,
       "visibility": null,
       "width": null
      }
     },
     "f604504f877445eba830fc36b9716633": {
      "model_module": "@jupyter-widgets/controls",
      "model_module_version": "1.5.0",
      "model_name": "HBoxModel",
      "state": {
       "_dom_classes": [],
       "_model_module": "@jupyter-widgets/controls",
       "_model_module_version": "1.5.0",
       "_model_name": "HBoxModel",
       "_view_count": null,
       "_view_module": "@jupyter-widgets/controls",
       "_view_module_version": "1.5.0",
       "_view_name": "HBoxView",
       "box_style": "",
       "children": [
        "IPY_MODEL_886d5470158f42ccb4e7df28f28c1dc1",
        "IPY_MODEL_3ca23ff3150c4944b691d74a3873fe43",
        "IPY_MODEL_50d806e2394c498fbc944e755105dcd4"
       ],
       "layout": "IPY_MODEL_8256be9469aa4fc8a10e5f23678b0a4b"
      }
     },
     "fc67b83b1e6b4e489ab2a8c369a7c5f4": {
      "model_module": "@jupyter-widgets/controls",
      "model_module_version": "1.5.0",
      "model_name": "DescriptionStyleModel",
      "state": {
       "_model_module": "@jupyter-widgets/controls",
       "_model_module_version": "1.5.0",
       "_model_name": "DescriptionStyleModel",
       "_view_count": null,
       "_view_module": "@jupyter-widgets/base",
       "_view_module_version": "1.2.0",
       "_view_name": "StyleView",
       "description_width": ""
      }
     },
     "fe6d739bfb464f528f4e444126de2ac0": {
      "model_module": "@jupyter-widgets/controls",
      "model_module_version": "1.5.0",
      "model_name": "HBoxModel",
      "state": {
       "_dom_classes": [],
       "_model_module": "@jupyter-widgets/controls",
       "_model_module_version": "1.5.0",
       "_model_name": "HBoxModel",
       "_view_count": null,
       "_view_module": "@jupyter-widgets/controls",
       "_view_module_version": "1.5.0",
       "_view_name": "HBoxView",
       "box_style": "",
       "children": [
        "IPY_MODEL_76909b4d8aec4e468d80257bd10230d3",
        "IPY_MODEL_2b9211071383428896136bff97db7655",
        "IPY_MODEL_582fc663df2042719546cadd63422b85"
       ],
       "layout": "IPY_MODEL_8a49e5df643c4108a40ff43c23c1ec45"
      }
     }
    },
    "version_major": 2,
    "version_minor": 0
   }
  }
 },
 "nbformat": 4,
 "nbformat_minor": 5
}
