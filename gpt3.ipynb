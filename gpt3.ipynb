{
 "cells": [
  {
   "cell_type": "code",
   "execution_count": 1,
   "id": "c2d76b9e",
   "metadata": {
    "ExecuteTime": {
     "end_time": "2023-12-21T12:43:34.044407900Z",
     "start_time": "2023-12-21T12:43:33.974411700Z"
    },
    "execution": {
     "iopub.execute_input": "2023-12-22T15:22:27.341752Z",
     "iopub.status.busy": "2023-12-22T15:22:27.341006Z",
     "iopub.status.idle": "2023-12-22T15:22:32.851615Z",
     "shell.execute_reply": "2023-12-22T15:22:32.850810Z"
    },
    "papermill": {
     "duration": 5.523674,
     "end_time": "2023-12-22T15:22:32.853894",
     "exception": false,
     "start_time": "2023-12-22T15:22:27.330220",
     "status": "completed"
    },
    "tags": []
   },
   "outputs": [
    {
     "name": "stderr",
     "output_type": "stream",
     "text": [
      "/opt/conda/lib/python3.10/site-packages/scipy/__init__.py:146: UserWarning: A NumPy version >=1.16.5 and <1.23.0 is required for this version of SciPy (detected version 1.24.3\n",
      "  warnings.warn(f\"A NumPy version >={np_minversion} and <{np_maxversion}\"\n"
     ]
    }
   ],
   "source": [
    "import pandas as pd\n",
    "import numpy as np\n",
    "import torch.nn.functional as F\n",
    "import matplotlib.pyplot as plt\n",
    "from nltk.corpus import stopwords\n",
    "from nltk.tokenize import word_tokenize\n",
    "from collections import Counter\n",
    "import nltk\n",
    "import torch\n",
    "from torch.utils.data import Dataset, DataLoader"
   ]
  },
  {
   "cell_type": "code",
   "execution_count": 2,
   "id": "07cb3b21",
   "metadata": {
    "ExecuteTime": {
     "end_time": "2023-12-21T12:43:35.245647200Z",
     "start_time": "2023-12-21T12:43:33.983411Z"
    },
    "collapsed": false,
    "execution": {
     "iopub.execute_input": "2023-12-22T15:22:32.873886Z",
     "iopub.status.busy": "2023-12-22T15:22:32.873445Z",
     "iopub.status.idle": "2023-12-22T15:22:33.522492Z",
     "shell.execute_reply": "2023-12-22T15:22:33.521674Z"
    },
    "papermill": {
     "duration": 0.661491,
     "end_time": "2023-12-22T15:22:33.524741",
     "exception": false,
     "start_time": "2023-12-22T15:22:32.863250",
     "status": "completed"
    },
    "tags": []
   },
   "outputs": [],
   "source": [
    "df = pd.read_csv(\"/kaggle/input/anecdoted/anecdotes_dataset.csv\")"
   ]
  },
  {
   "cell_type": "code",
   "execution_count": 3,
   "id": "cb3c28b6",
   "metadata": {
    "ExecuteTime": {
     "end_time": "2023-12-21T12:43:35.267647500Z",
     "start_time": "2023-12-21T12:43:35.245647200Z"
    },
    "collapsed": false,
    "execution": {
     "iopub.execute_input": "2023-12-22T15:22:33.544051Z",
     "iopub.status.busy": "2023-12-22T15:22:33.543746Z",
     "iopub.status.idle": "2023-12-22T15:22:33.560684Z",
     "shell.execute_reply": "2023-12-22T15:22:33.559646Z"
    },
    "papermill": {
     "duration": 0.028934,
     "end_time": "2023-12-22T15:22:33.562963",
     "exception": false,
     "start_time": "2023-12-22T15:22:33.534029",
     "status": "completed"
    },
    "tags": []
   },
   "outputs": [
    {
     "data": {
      "text/html": [
       "<div>\n",
       "<style scoped>\n",
       "    .dataframe tbody tr th:only-of-type {\n",
       "        vertical-align: middle;\n",
       "    }\n",
       "\n",
       "    .dataframe tbody tr th {\n",
       "        vertical-align: top;\n",
       "    }\n",
       "\n",
       "    .dataframe thead th {\n",
       "        text-align: right;\n",
       "    }\n",
       "</style>\n",
       "<table border=\"1\" class=\"dataframe\">\n",
       "  <thead>\n",
       "    <tr style=\"text-align: right;\">\n",
       "      <th></th>\n",
       "      <th>joke</th>\n",
       "      <th>word_count</th>\n",
       "      <th>char_count</th>\n",
       "    </tr>\n",
       "  </thead>\n",
       "  <tbody>\n",
       "    <tr>\n",
       "      <th>44103</th>\n",
       "      <td>В цирке конферансье объявляет номер: — Мальчик...</td>\n",
       "      <td>63</td>\n",
       "      <td>359</td>\n",
       "    </tr>\n",
       "    <tr>\n",
       "      <th>44104</th>\n",
       "      <td>В салоне шикарного корабля бал Вдруг с мрачным...</td>\n",
       "      <td>32</td>\n",
       "      <td>184</td>\n",
       "    </tr>\n",
       "    <tr>\n",
       "      <th>44105</th>\n",
       "      <td>Под утро, за игрой в покер, умер старый еврей ...</td>\n",
       "      <td>82</td>\n",
       "      <td>392</td>\n",
       "    </tr>\n",
       "    <tr>\n",
       "      <th>44106</th>\n",
       "      <td>Едут два хохла в купе Один другому говорит:- П...</td>\n",
       "      <td>82</td>\n",
       "      <td>389</td>\n",
       "    </tr>\n",
       "    <tr>\n",
       "      <th>44107</th>\n",
       "      <td>Лучшее за все время Как Анекдоты категории Б, ...</td>\n",
       "      <td>18</td>\n",
       "      <td>110</td>\n",
       "    </tr>\n",
       "  </tbody>\n",
       "</table>\n",
       "</div>"
      ],
      "text/plain": [
       "                                                    joke  word_count  \\\n",
       "44103  В цирке конферансье объявляет номер: — Мальчик...          63   \n",
       "44104  В салоне шикарного корабля бал Вдруг с мрачным...          32   \n",
       "44105  Под утро, за игрой в покер, умер старый еврей ...          82   \n",
       "44106  Едут два хохла в купе Один другому говорит:- П...          82   \n",
       "44107  Лучшее за все время Как Анекдоты категории Б, ...          18   \n",
       "\n",
       "       char_count  \n",
       "44103         359  \n",
       "44104         184  \n",
       "44105         392  \n",
       "44106         389  \n",
       "44107         110  "
      ]
     },
     "execution_count": 3,
     "metadata": {},
     "output_type": "execute_result"
    }
   ],
   "source": [
    "df.tail()"
   ]
  },
  {
   "cell_type": "code",
   "execution_count": 4,
   "id": "616d175c",
   "metadata": {
    "ExecuteTime": {
     "end_time": "2023-12-21T12:43:35.397647500Z",
     "start_time": "2023-12-21T12:43:35.261650100Z"
    },
    "collapsed": false,
    "execution": {
     "iopub.execute_input": "2023-12-22T15:22:33.583429Z",
     "iopub.status.busy": "2023-12-22T15:22:33.583154Z",
     "iopub.status.idle": "2023-12-22T15:22:33.694381Z",
     "shell.execute_reply": "2023-12-22T15:22:33.693340Z"
    },
    "papermill": {
     "duration": 0.123364,
     "end_time": "2023-12-22T15:22:33.696584",
     "exception": false,
     "start_time": "2023-12-22T15:22:33.573220",
     "status": "completed"
    },
    "tags": []
   },
   "outputs": [
    {
     "name": "stdout",
     "output_type": "stream",
     "text": [
      "Кол-во примеров: 44108\n"
     ]
    }
   ],
   "source": [
    "\n",
    "df = df.drop_duplicates()\n",
    "print(\"Кол-во примеров:\", len(df))"
   ]
  },
  {
   "cell_type": "code",
   "execution_count": 5,
   "id": "0a034c3e",
   "metadata": {
    "ExecuteTime": {
     "end_time": "2023-12-21T12:43:35.538647800Z",
     "start_time": "2023-12-21T12:43:35.306648Z"
    },
    "collapsed": false,
    "execution": {
     "iopub.execute_input": "2023-12-22T15:22:33.716662Z",
     "iopub.status.busy": "2023-12-22T15:22:33.716326Z",
     "iopub.status.idle": "2023-12-22T15:22:33.860706Z",
     "shell.execute_reply": "2023-12-22T15:22:33.859802Z"
    },
    "papermill": {
     "duration": 0.156556,
     "end_time": "2023-12-22T15:22:33.862786",
     "exception": false,
     "start_time": "2023-12-22T15:22:33.706230",
     "status": "completed"
    },
    "tags": []
   },
   "outputs": [
    {
     "name": "stdout",
     "output_type": "stream",
     "text": [
      "Кол-во примеров если выкинуть слишком длинные тексты: 44108\n"
     ]
    }
   ],
   "source": [
    "df = df[df['joke'].apply(lambda x: len(x.split(' ')) < 100)]\n",
    "\n",
    "print(\"Кол-во примеров если выкинуть слишком длинные тексты:\", len(df))"
   ]
  },
  {
   "cell_type": "code",
   "execution_count": 6,
   "id": "0b55a310",
   "metadata": {
    "ExecuteTime": {
     "end_time": "2023-12-21T12:43:35.688739Z",
     "start_time": "2023-12-21T12:43:35.481648100Z"
    },
    "collapsed": false,
    "execution": {
     "iopub.execute_input": "2023-12-22T15:22:33.882630Z",
     "iopub.status.busy": "2023-12-22T15:22:33.882280Z",
     "iopub.status.idle": "2023-12-22T15:22:34.016548Z",
     "shell.execute_reply": "2023-12-22T15:22:34.015533Z"
    },
    "papermill": {
     "duration": 0.146335,
     "end_time": "2023-12-22T15:22:34.018489",
     "exception": false,
     "start_time": "2023-12-22T15:22:33.872154",
     "status": "completed"
    },
    "tags": []
   },
   "outputs": [
    {
     "name": "stdout",
     "output_type": "stream",
     "text": [
      "Кол-во примеров если выкинуть слишком короткие тексты: 44108\n"
     ]
    }
   ],
   "source": [
    "\n",
    "df = df[df['joke'].apply(lambda x: len(x.split(' ')) > 10)]\n",
    "print(\"Кол-во примеров если выкинуть слишком короткие тексты:\", len(df))"
   ]
  },
  {
   "cell_type": "code",
   "execution_count": 7,
   "id": "c8949f9c",
   "metadata": {
    "ExecuteTime": {
     "end_time": "2023-12-21T12:43:56.917443300Z",
     "start_time": "2023-12-21T12:43:35.622468400Z"
    },
    "collapsed": false,
    "execution": {
     "iopub.execute_input": "2023-12-22T15:22:34.038655Z",
     "iopub.status.busy": "2023-12-22T15:22:34.038310Z",
     "iopub.status.idle": "2023-12-22T15:23:20.142707Z",
     "shell.execute_reply": "2023-12-22T15:23:20.141636Z"
    },
    "papermill": {
     "duration": 46.116561,
     "end_time": "2023-12-22T15:23:20.144678",
     "exception": false,
     "start_time": "2023-12-22T15:22:34.028117",
     "status": "completed"
    },
    "tags": []
   },
   "outputs": [
    {
     "name": "stdout",
     "output_type": "stream",
     "text": [
      "[nltk_data] Downloading package stopwords to /usr/share/nltk_data...\n",
      "[nltk_data]   Package stopwords is already up-to-date!\n",
      "[nltk_data] Downloading package punkt to /usr/share/nltk_data...\n",
      "[nltk_data]   Package punkt is already up-to-date!\n"
     ]
    },
    {
     "data": {
      "image/png": "[encoded data removed]",
      "text/plain": [
       "<Figure size 1000x600 with 1 Axes>"
      ]
     },
     "metadata": {},
     "output_type": "display_data"
    },
    {
     "name": "stdout",
     "output_type": "stream",
     "text": [
      "Среднее кол-во слов: 41.62766391584293\n",
      "Среднее кол-во символов: 202.08202593633808\n",
      "Частые слова: [('это', 9203), ('говорит', 8173), ('мужик', 5047), ('спрашивает', 4284), ('почему', 3296), ('жена', 2668), ('тебе', 2348), ('приходит', 2297), ('муж', 2036), ('день', 1864), ('доктор', 1777), ('отвечает', 1750), ('подходит', 1686), ('заходит', 1571), ('очень', 1460), ('домой', 1409), ('время', 1399), ('папа', 1390), ('девушка', 1378), ('мама', 1377), ('сегодня', 1356), ('сказал', 1347), ('сидит', 1327), ('видит', 1280), ('идет', 1276), ('просто', 1240), ('давай', 1230), ('стоит', 1226), ('лет', 1207), ('две', 1187), ('сколько', 1143), ('человек', 1140), ('всё', 1106), ('хочу', 1098), ('вчера', 1087), ('такое', 1055), ('смотрит', 1053), ('сын', 1049), ('второй', 1046), ('могу', 1007), ('отец', 980), ('знаю', 978), ('русский', 975), ('ещё', 972), ('женщина', 916), ('мужчина', 915), ('мальчик', 912), ('пожалуйста', 910), ('дверь', 903), ('выходит', 902)]\n"
     ]
    }
   ],
   "source": [
    "nltk.download('stopwords')\n",
    "nltk.download('punkt')\n",
    "stop_words = set(stopwords.words('russian'))\n",
    "\n",
    "df['word_count'] = df['joke'].apply(lambda x: len(word_tokenize(x)))\n",
    "df['char_count'] = df['joke'].apply(len)\n",
    "\n",
    "all_words = ' '.join(df['joke']).lower()\n",
    "tokens = word_tokenize(all_words)\n",
    "tokens = [word for word in tokens if word.isalpha() and word not in stop_words]\n",
    "frequency = Counter(tokens)\n",
    "\n",
    "plt.figure(figsize=(10, 6))\n",
    "plt.hist(np.log(df['word_count']), bins=20, color='blue', edgecolor='black')\n",
    "plt.title('Распределение логарифма от количества слов в анекдотах ')\n",
    "plt.xlabel('Кол-во слов')\n",
    "plt.ylabel('Кол-во анекдотов')\n",
    "plt.show()\n",
    "\n",
    "print(\"Среднее кол-во слов:\", df['word_count'].mean())\n",
    "print(\"Среднее кол-во символов:\", df['char_count'].mean())\n",
    "print(\"Частые слова:\", frequency.most_common(50))"
   ]
  },
  {
   "cell_type": "code",
   "execution_count": 8,
   "id": "f719ba82",
   "metadata": {
    "ExecuteTime": {
     "end_time": "2023-12-21T12:47:05.801654Z",
     "start_time": "2023-12-21T12:47:05.535485800Z"
    },
    "collapsed": false,
    "execution": {
     "iopub.execute_input": "2023-12-22T15:23:20.166679Z",
     "iopub.status.busy": "2023-12-22T15:23:20.165981Z",
     "iopub.status.idle": "2023-12-22T15:23:20.693043Z",
     "shell.execute_reply": "2023-12-22T15:23:20.692268Z"
    },
    "papermill": {
     "duration": 0.540365,
     "end_time": "2023-12-22T15:23:20.695308",
     "exception": false,
     "start_time": "2023-12-22T15:23:20.154943",
     "status": "completed"
    },
    "tags": []
   },
   "outputs": [],
   "source": [
    "df.to_csv(\"anecdotes_dataset.csv\", index=False)"
   ]
  },
  {
   "cell_type": "code",
   "execution_count": 9,
   "id": "2bc1f2f8",
   "metadata": {
    "ExecuteTime": {
     "end_time": "2023-12-21T12:47:21.632448200Z",
     "start_time": "2023-12-21T12:47:21.315532200Z"
    },
    "collapsed": false,
    "execution": {
     "iopub.execute_input": "2023-12-22T15:23:20.717054Z",
     "iopub.status.busy": "2023-12-22T15:23:20.716755Z",
     "iopub.status.idle": "2023-12-22T15:23:21.024447Z",
     "shell.execute_reply": "2023-12-22T15:23:21.023582Z"
    },
    "papermill": {
     "duration": 0.321082,
     "end_time": "2023-12-22T15:23:21.026750",
     "exception": false,
     "start_time": "2023-12-22T15:23:20.705668",
     "status": "completed"
    },
    "tags": []
   },
   "outputs": [
    {
     "data": {
      "text/html": [
       "<div>\n",
       "<style scoped>\n",
       "    .dataframe tbody tr th:only-of-type {\n",
       "        vertical-align: middle;\n",
       "    }\n",
       "\n",
       "    .dataframe tbody tr th {\n",
       "        vertical-align: top;\n",
       "    }\n",
       "\n",
       "    .dataframe thead th {\n",
       "        text-align: right;\n",
       "    }\n",
       "</style>\n",
       "<table border=\"1\" class=\"dataframe\">\n",
       "  <thead>\n",
       "    <tr style=\"text-align: right;\">\n",
       "      <th></th>\n",
       "      <th>joke</th>\n",
       "      <th>word_count</th>\n",
       "      <th>char_count</th>\n",
       "    </tr>\n",
       "  </thead>\n",
       "  <tbody>\n",
       "    <tr>\n",
       "      <th>0</th>\n",
       "      <td>Нижегородский купчина рассказывает своим друзь...</td>\n",
       "      <td>69</td>\n",
       "      <td>358</td>\n",
       "    </tr>\n",
       "    <tr>\n",
       "      <th>1</th>\n",
       "      <td>- Папа, а марсиане есть?- Нет, сынок, кончилис...</td>\n",
       "      <td>21</td>\n",
       "      <td>78</td>\n",
       "    </tr>\n",
       "    <tr>\n",
       "      <th>2</th>\n",
       "      <td>- Где работает ваш муж?- Уже третий месяц на л...</td>\n",
       "      <td>28</td>\n",
       "      <td>126</td>\n",
       "    </tr>\n",
       "    <tr>\n",
       "      <th>3</th>\n",
       "      <td>- Дорогой, я похожа на идеальную женщину ?- Не...</td>\n",
       "      <td>29</td>\n",
       "      <td>111</td>\n",
       "    </tr>\n",
       "    <tr>\n",
       "      <th>4</th>\n",
       "      <td>- О, милая! Панировка этих котлет такая хрустя...</td>\n",
       "      <td>30</td>\n",
       "      <td>144</td>\n",
       "    </tr>\n",
       "    <tr>\n",
       "      <th>...</th>\n",
       "      <td>...</td>\n",
       "      <td>...</td>\n",
       "      <td>...</td>\n",
       "    </tr>\n",
       "    <tr>\n",
       "      <th>44103</th>\n",
       "      <td>В цирке конферансье объявляет номер: — Мальчик...</td>\n",
       "      <td>63</td>\n",
       "      <td>359</td>\n",
       "    </tr>\n",
       "    <tr>\n",
       "      <th>44104</th>\n",
       "      <td>В салоне шикарного корабля бал Вдруг с мрачным...</td>\n",
       "      <td>32</td>\n",
       "      <td>184</td>\n",
       "    </tr>\n",
       "    <tr>\n",
       "      <th>44105</th>\n",
       "      <td>Под утро, за игрой в покер, умер старый еврей ...</td>\n",
       "      <td>82</td>\n",
       "      <td>392</td>\n",
       "    </tr>\n",
       "    <tr>\n",
       "      <th>44106</th>\n",
       "      <td>Едут два хохла в купе Один другому говорит:- П...</td>\n",
       "      <td>82</td>\n",
       "      <td>389</td>\n",
       "    </tr>\n",
       "    <tr>\n",
       "      <th>44107</th>\n",
       "      <td>Лучшее за все время Как Анекдоты категории Б, ...</td>\n",
       "      <td>18</td>\n",
       "      <td>110</td>\n",
       "    </tr>\n",
       "  </tbody>\n",
       "</table>\n",
       "<p>44108 rows × 3 columns</p>\n",
       "</div>"
      ],
      "text/plain": [
       "                                                    joke  word_count  \\\n",
       "0      Нижегородский купчина рассказывает своим друзь...          69   \n",
       "1      - Папа, а марсиане есть?- Нет, сынок, кончилис...          21   \n",
       "2      - Где работает ваш муж?- Уже третий месяц на л...          28   \n",
       "3      - Дорогой, я похожа на идеальную женщину ?- Не...          29   \n",
       "4      - О, милая! Панировка этих котлет такая хрустя...          30   \n",
       "...                                                  ...         ...   \n",
       "44103  В цирке конферансье объявляет номер: — Мальчик...          63   \n",
       "44104  В салоне шикарного корабля бал Вдруг с мрачным...          32   \n",
       "44105  Под утро, за игрой в покер, умер старый еврей ...          82   \n",
       "44106  Едут два хохла в купе Один другому говорит:- П...          82   \n",
       "44107  Лучшее за все время Как Анекдоты категории Б, ...          18   \n",
       "\n",
       "       char_count  \n",
       "0             358  \n",
       "1              78  \n",
       "2             126  \n",
       "3             111  \n",
       "4             144  \n",
       "...           ...  \n",
       "44103         359  \n",
       "44104         184  \n",
       "44105         392  \n",
       "44106         389  \n",
       "44107         110  \n",
       "\n",
       "[44108 rows x 3 columns]"
      ]
     },
     "execution_count": 9,
     "metadata": {},
     "output_type": "execute_result"
    }
   ],
   "source": [
    "df = pd.read_csv(\"anecdotes_dataset.csv\")\n",
    "df"
   ]
  },
  {
   "cell_type": "code",
   "execution_count": 10,
   "id": "1939c96d",
   "metadata": {
    "ExecuteTime": {
     "end_time": "2023-12-21T12:07:46.270946700Z",
     "start_time": "2023-12-21T12:07:45.833993600Z"
    },
    "collapsed": false,
    "execution": {
     "iopub.execute_input": "2023-12-22T15:23:21.050023Z",
     "iopub.status.busy": "2023-12-22T15:23:21.049396Z",
     "iopub.status.idle": "2023-12-22T15:23:26.815298Z",
     "shell.execute_reply": "2023-12-22T15:23:26.814298Z"
    },
    "papermill": {
     "duration": 5.780481,
     "end_time": "2023-12-22T15:23:26.817656",
     "exception": false,
     "start_time": "2023-12-22T15:23:21.037175",
     "status": "completed"
    },
    "tags": []
   },
   "outputs": [
    {
     "data": {
      "application/vnd.jupyter.widget-view+json": {
       "model_id": "1ea3858aac8541dfa126ca42c52c08be",
       "version_major": 2,
       "version_minor": 0
      },
      "text/plain": [
       "tokenizer_config.json:   0%|          | 0.00/1.25k [00:00<?, ?B/s]"
      ]
     },
     "metadata": {},
     "output_type": "display_data"
    },
    {
     "data": {
      "application/vnd.jupyter.widget-view+json": {
       "model_id": "b08b2d299e0245f89a04882a8b6639c1",
       "version_major": 2,
       "version_minor": 0
      },
      "text/plain": [
       "vocab.json:   0%|          | 0.00/1.71M [00:00<?, ?B/s]"
      ]
     },
     "metadata": {},
     "output_type": "display_data"
    },
    {
     "data": {
      "application/vnd.jupyter.widget-view+json": {
       "model_id": "47867e92ed254c489c1ebc2a2dd16667",
       "version_major": 2,
       "version_minor": 0
      },
      "text/plain": [
       "merges.txt:   0%|          | 0.00/1.27M [00:00<?, ?B/s]"
      ]
     },
     "metadata": {},
     "output_type": "display_data"
    },
    {
     "data": {
      "application/vnd.jupyter.widget-view+json": {
       "model_id": "f1aaed789a30466d898d4093b2a8910e",
       "version_major": 2,
       "version_minor": 0
      },
      "text/plain": [
       "special_tokens_map.json:   0%|          | 0.00/574 [00:00<?, ?B/s]"
      ]
     },
     "metadata": {},
     "output_type": "display_data"
    }
   ],
   "source": [
    "import torch\n",
    "from transformers import AutoTokenizer, AutoModelWithLMHead\n",
    "\n",
    "tokenizer = AutoTokenizer.from_pretrained('ai-forever/rugpt3small_based_on_gpt2')"
   ]
  },
  {
   "cell_type": "code",
   "execution_count": 11,
   "id": "03bf2ee3",
   "metadata": {
    "ExecuteTime": {
     "end_time": "2023-12-21T12:07:49.147888600Z",
     "start_time": "2023-12-21T12:07:46.271948Z"
    },
    "collapsed": false,
    "execution": {
     "iopub.execute_input": "2023-12-22T15:23:26.841549Z",
     "iopub.status.busy": "2023-12-22T15:23:26.841078Z",
     "iopub.status.idle": "2023-12-22T15:23:38.015020Z",
     "shell.execute_reply": "2023-12-22T15:23:38.014085Z"
    },
    "papermill": {
     "duration": 11.188242,
     "end_time": "2023-12-22T15:23:38.017346",
     "exception": false,
     "start_time": "2023-12-22T15:23:26.829104",
     "status": "completed"
    },
    "tags": []
   },
   "outputs": [
    {
     "name": "stderr",
     "output_type": "stream",
     "text": [
      "/opt/conda/lib/python3.10/site-packages/transformers/models/auto/modeling_auto.py:1564: FutureWarning: The class `AutoModelWithLMHead` is deprecated and will be removed in a future version. Please use `AutoModelForCausalLM` for causal language models, `AutoModelForMaskedLM` for masked language models and `AutoModelForSeq2SeqLM` for encoder-decoder models.\n",
      "  warnings.warn(\n"
     ]
    },
    {
     "data": {
      "application/vnd.jupyter.widget-view+json": {
       "model_id": "95dcc6ad0ac6441499fea7a3903dc5f6",
       "version_major": 2,
       "version_minor": 0
      },
      "text/plain": [
       "config.json:   0%|          | 0.00/720 [00:00<?, ?B/s]"
      ]
     },
     "metadata": {},
     "output_type": "display_data"
    },
    {
     "data": {
      "application/vnd.jupyter.widget-view+json": {
       "model_id": "d1e8812d4e0c43d2a0bfad609a3a7e5f",
       "version_major": 2,
       "version_minor": 0
      },
      "text/plain": [
       "pytorch_model.bin:   0%|          | 0.00/551M [00:00<?, ?B/s]"
      ]
     },
     "metadata": {},
     "output_type": "display_data"
    }
   ],
   "source": [
    "\n",
    "model = AutoModelWithLMHead.from_pretrained('ai-forever/rugpt3small_based_on_gpt2')"
   ]
  },
  {
   "cell_type": "code",
   "execution_count": 12,
   "id": "d54233dd",
   "metadata": {
    "execution": {
     "iopub.execute_input": "2023-12-22T15:23:38.042109Z",
     "iopub.status.busy": "2023-12-22T15:23:38.041641Z",
     "iopub.status.idle": "2023-12-22T15:23:38.045722Z",
     "shell.execute_reply": "2023-12-22T15:23:38.044880Z"
    },
    "papermill": {
     "duration": 0.018329,
     "end_time": "2023-12-22T15:23:38.047572",
     "exception": false,
     "start_time": "2023-12-22T15:23:38.029243",
     "status": "completed"
    },
    "tags": []
   },
   "outputs": [],
   "source": [
    "# import os\n",
    "# output_dir = \"/kaggle/working\"\n",
    "# torch.save(model.state_dict(),os.path.join(output_dir, f\"val_loss-{1}.pt\"),)"
   ]
  },
  {
   "cell_type": "code",
   "execution_count": 13,
   "id": "1621d5da",
   "metadata": {
    "ExecuteTime": {
     "end_time": "2023-12-21T12:07:49.187879400Z",
     "start_time": "2023-12-21T12:07:49.162883200Z"
    },
    "collapsed": false,
    "execution": {
     "iopub.execute_input": "2023-12-22T15:23:38.071508Z",
     "iopub.status.busy": "2023-12-22T15:23:38.071212Z",
     "iopub.status.idle": "2023-12-22T15:23:38.077118Z",
     "shell.execute_reply": "2023-12-22T15:23:38.076346Z"
    },
    "papermill": {
     "duration": 0.019892,
     "end_time": "2023-12-22T15:23:38.079013",
     "exception": false,
     "start_time": "2023-12-22T15:23:38.059121",
     "status": "completed"
    },
    "tags": []
   },
   "outputs": [
    {
     "data": {
      "text/plain": [
       "{'bos_token': '<s>',\n",
       " 'eos_token': '</s>',\n",
       " 'unk_token': '<unk>',\n",
       " 'pad_token': '<pad>',\n",
       " 'mask_token': '<mask>'}"
      ]
     },
     "execution_count": 13,
     "metadata": {},
     "output_type": "execute_result"
    }
   ],
   "source": [
    "tokenizer.special_tokens_map"
   ]
  },
  {
   "cell_type": "code",
   "execution_count": 14,
   "id": "690f74c1",
   "metadata": {
    "ExecuteTime": {
     "end_time": "2023-12-21T12:07:49.211877600Z",
     "start_time": "2023-12-21T12:07:49.189879Z"
    },
    "collapsed": false,
    "execution": {
     "iopub.execute_input": "2023-12-22T15:23:38.104029Z",
     "iopub.status.busy": "2023-12-22T15:23:38.103718Z",
     "iopub.status.idle": "2023-12-22T15:23:38.109352Z",
     "shell.execute_reply": "2023-12-22T15:23:38.108436Z"
    },
    "papermill": {
     "duration": 0.020248,
     "end_time": "2023-12-22T15:23:38.111513",
     "exception": false,
     "start_time": "2023-12-22T15:23:38.091265",
     "status": "completed"
    },
    "tags": []
   },
   "outputs": [
    {
     "name": "stdout",
     "output_type": "stream",
     "text": [
      "Кол-во параметрров: 125231616\n"
     ]
    }
   ],
   "source": [
    "print(\"Кол-во параметрров:\", sum(p.numel() for p in model.parameters()))"
   ]
  },
  {
   "cell_type": "code",
   "execution_count": 15,
   "id": "1d00c86a",
   "metadata": {
    "ExecuteTime": {
     "end_time": "2023-12-21T12:08:05.779400400Z",
     "start_time": "2023-12-21T12:08:05.689402600Z"
    },
    "collapsed": false,
    "execution": {
     "iopub.execute_input": "2023-12-22T15:23:38.136447Z",
     "iopub.status.busy": "2023-12-22T15:23:38.135893Z",
     "iopub.status.idle": "2023-12-22T15:23:38.152853Z",
     "shell.execute_reply": "2023-12-22T15:23:38.151835Z"
    },
    "papermill": {
     "duration": 0.032069,
     "end_time": "2023-12-22T15:23:38.155115",
     "exception": false,
     "start_time": "2023-12-22T15:23:38.123046",
     "status": "completed"
    },
    "tags": []
   },
   "outputs": [],
   "source": [
    "test_df = df.sample(n=100, random_state=42)\n",
    "df = df.drop(test_df.index)\n",
    "test_df = test_df.reset_index(drop=True)\n",
    "df = df.reset_index(drop=True)"
   ]
  },
  {
   "cell_type": "code",
   "execution_count": 16,
   "id": "9482feb8",
   "metadata": {
    "collapsed": false,
    "execution": {
     "iopub.execute_input": "2023-12-22T15:23:38.180794Z",
     "iopub.status.busy": "2023-12-22T15:23:38.180152Z",
     "iopub.status.idle": "2023-12-22T15:23:38.184098Z",
     "shell.execute_reply": "2023-12-22T15:23:38.183232Z"
    },
    "papermill": {
     "duration": 0.018265,
     "end_time": "2023-12-22T15:23:38.186005",
     "exception": false,
     "start_time": "2023-12-22T15:23:38.167740",
     "status": "completed"
    },
    "tags": []
   },
   "outputs": [],
   "source": [
    "# def split_joke(joke):\n",
    "#     words = joke.split()\n",
    "#     split_index = len(words) * 80 // 100\n",
    "#     return ' '.join(words[:split_index]), ' '.join(words[split_index:])\n",
    "# \n",
    "# \n",
    "# test_df['joke'], test_df['punchline'] = zip(*test_df['joke'].apply(split_joke))\n"
   ]
  },
  {
   "cell_type": "code",
   "execution_count": 17,
   "id": "315f95f3",
   "metadata": {
    "ExecuteTime": {
     "end_time": "2023-12-21T12:08:05.871399600Z",
     "start_time": "2023-12-21T12:08:05.814401900Z"
    },
    "collapsed": false,
    "execution": {
     "iopub.execute_input": "2023-12-22T15:23:38.209812Z",
     "iopub.status.busy": "2023-12-22T15:23:38.209542Z",
     "iopub.status.idle": "2023-12-22T15:23:38.214874Z",
     "shell.execute_reply": "2023-12-22T15:23:38.214055Z"
    },
    "papermill": {
     "duration": 0.019652,
     "end_time": "2023-12-22T15:23:38.217070",
     "exception": false,
     "start_time": "2023-12-22T15:23:38.197418",
     "status": "completed"
    },
    "tags": []
   },
   "outputs": [
    {
     "name": "stdout",
     "output_type": "stream",
     "text": [
      "transformer: GPT2Model(\n",
      "  (wte): Embedding(50264, 768)\n",
      "  (wpe): Embedding(2048, 768)\n",
      "  (drop): Dropout(p=0.1, inplace=False)\n",
      "  (h): ModuleList(\n",
      "    (0-11): 12 x GPT2Block(\n",
      "      (ln_1): LayerNorm((768,), eps=1e-05, elementwise_affine=True)\n",
      "      (attn): GPT2Attention(\n",
      "        (c_attn): Conv1D()\n",
      "        (c_proj): Conv1D()\n",
      "        (attn_dropout): Dropout(p=0.1, inplace=False)\n",
      "        (resid_dropout): Dropout(p=0.1, inplace=False)\n",
      "      )\n",
      "      (ln_2): LayerNorm((768,), eps=1e-05, elementwise_affine=True)\n",
      "      (mlp): GPT2MLP(\n",
      "        (c_fc): Conv1D()\n",
      "        (c_proj): Conv1D()\n",
      "        (act): NewGELUActivation()\n",
      "        (dropout): Dropout(p=0.1, inplace=False)\n",
      "      )\n",
      "    )\n",
      "  )\n",
      "  (ln_f): LayerNorm((768,), eps=1e-05, elementwise_affine=True)\n",
      ")\n",
      "lm_head: Linear(in_features=768, out_features=50264, bias=False)\n"
     ]
    }
   ],
   "source": [
    "for name, module in model.named_children():\n",
    "    print(f\"{name}: {module}\")\n"
   ]
  },
  {
   "cell_type": "code",
   "execution_count": 18,
   "id": "d6a7b2f9",
   "metadata": {
    "ExecuteTime": {
     "end_time": "2023-12-21T13:04:55.993696200Z",
     "start_time": "2023-12-21T13:04:55.874322900Z"
    },
    "collapsed": false,
    "execution": {
     "iopub.execute_input": "2023-12-22T15:23:38.241444Z",
     "iopub.status.busy": "2023-12-22T15:23:38.241147Z",
     "iopub.status.idle": "2023-12-22T15:23:38.317139Z",
     "shell.execute_reply": "2023-12-22T15:23:38.316188Z"
    },
    "papermill": {
     "duration": 0.090489,
     "end_time": "2023-12-22T15:23:38.319147",
     "exception": false,
     "start_time": "2023-12-22T15:23:38.228658",
     "status": "completed"
    },
    "tags": []
   },
   "outputs": [],
   "source": [
    "device = torch.device(\"cuda\" if torch.cuda.is_available() else \"cpu\")"
   ]
  },
  {
   "cell_type": "code",
   "execution_count": 19,
   "id": "072a0acd",
   "metadata": {
    "ExecuteTime": {
     "end_time": "2023-12-21T12:08:20.297080700Z",
     "start_time": "2023-12-21T12:08:05.828401500Z"
    },
    "collapsed": false,
    "execution": {
     "iopub.execute_input": "2023-12-22T15:23:38.343836Z",
     "iopub.status.busy": "2023-12-22T15:23:38.343486Z",
     "iopub.status.idle": "2023-12-22T15:23:54.550590Z",
     "shell.execute_reply": "2023-12-22T15:23:54.549562Z"
    },
    "papermill": {
     "duration": 16.221944,
     "end_time": "2023-12-22T15:23:54.552963",
     "exception": false,
     "start_time": "2023-12-22T15:23:38.331019",
     "status": "completed"
    },
    "tags": []
   },
   "outputs": [],
   "source": [
    "class AnecdoteDataset(Dataset):\n",
    "    def __init__(self, tokenizer, data_source, max_length=2007):\n",
    "        self.tokenizer = tokenizer\n",
    "        self.df = data_source\n",
    "        self.max_length = max_length\n",
    "        self.anecdotes = []\n",
    "\n",
    "        for anecdote in self.df['joke']:\n",
    "            tokenized = self.tokenizer(anecdote, max_length=self.max_length, truncation=True, return_tensors='pt')\n",
    "            self.anecdotes.append(tokenized)\n",
    "\n",
    "    def __len__(self):\n",
    "        return len(self.anecdotes)\n",
    "\n",
    "    def __getitem__(self, idx):\n",
    "        return self.anecdotes[idx]\n",
    "\n",
    "\n",
    "\n",
    "dataset = AnecdoteDataset(tokenizer=tokenizer, data_source=df)\n",
    "\n",
    "val_dataset = AnecdoteDataset(tokenizer=tokenizer, data_source=test_df)"
   ]
  },
  {
   "cell_type": "code",
   "execution_count": 20,
   "id": "993d4157",
   "metadata": {
    "ExecuteTime": {
     "end_time": "2023-12-21T12:31:37.674267400Z",
     "start_time": "2023-12-21T12:31:16.430331700Z"
    },
    "collapsed": false,
    "execution": {
     "iopub.execute_input": "2023-12-22T15:23:54.578339Z",
     "iopub.status.busy": "2023-12-22T15:23:54.578005Z",
     "iopub.status.idle": "2023-12-22T15:27:37.802886Z",
     "shell.execute_reply": "2023-12-22T15:27:37.801924Z"
    },
    "papermill": {
     "duration": 223.298464,
     "end_time": "2023-12-22T15:27:37.863683",
     "exception": false,
     "start_time": "2023-12-22T15:23:54.565219",
     "status": "completed"
    },
    "tags": []
   },
   "outputs": [
    {
     "name": "stdout",
     "output_type": "stream",
     "text": [
      "Пример 1:\n",
      "Сгенерировано: встретились как-то агент кремля и агент цэвэр. И они, конечно же влюбились друг в друга с первого раза, так что после одного неловкого движения их разморило — не сразу и надолго...\n",
      "Упаковка для косметики была большой и толстой: от баночной коробки до пластиковой одноразовой \"тётеньки\" на коробке под цвет и размер упаковки, а также из плотной бумаги и прозрачного материала для придания глянцу цвета, придающего упаковке солидный вид и красивый внешний вид. Коробочка внутри уже была довольно просторна за счёт того, что объёмной и плотно завязаной (что позволяет удобно использовать её вместо переноски/склепывания содержимого) у неё был предусмотрен карман по размеру сумки или кошелька, чтобы легче было переносить содержимое, без сложений и разглаживания). \n",
      "  Натуральное дерево (даже самые лучшие отделочные материалы и полиуретановые эмали создают иллюзию мягкости кожи): я купила специальную салфетку, обернутую пленкой для глаз с натуральным древес\n",
      "Эталон: ру а там 40 трупов сел медведь и сгорел\n",
      "\n",
      "Пример 2:\n",
      "Сгенерировано: - Не так давно я решил отказаться от алкоголя и начал пить соки. А потом понял, что это тоже неправильно. - И что же стало с тем человеком? Как вы думаете?\n",
      "\n",
      "— Я не собираюсь его убивать, мы уже почти добрались до него…\n",
      "\n",
      "— Ну! На сегодня все понятно. По моим прогнозам, через два–три дня вас прибьёт кто‑то из ваших местных ребят. За пару часов у меня в запасе будет немалое количество сил, чтобы справиться собственными силами. Вам придётся сражаться всеми возможными способами. Кроме самого элементарного убийства. Вы ведь знаете моего парня по прозвищу Пивоварня. Но если вы не возьмёте меня с собой ни на каких бойнях ради моей молодости и здоровья (кто бы спорил) — я умру прежде, чем он расскажет, правда мне или нет… Или после того как прикончим остальных членов этой шайки головорезов вместе со своими жертвами. Да еще и в таких жутких местах как Тролливол. Это вам не какой‑нибудь мелкий подонок Киллэнион в самом дешевом ситкоме… Вот уж\n",
      "Эталон: , ты бросил пить соки? - Нет, теперь я пью соки с алкоголем.\n",
      "\n",
      "Пример 3:\n",
      "Сгенерировано: Мама:- Тот самый вкус! Тот самый чай!Бабушка:- Так это ж та самая пастила, правда?Точно-точно онаТаша:- Пастилка, я вчера заказывала. А что?- Ну как же вы думаете &ndash; да где там ваша пастилка, у меня на столе.- Как можно, дорогая барышня!- Тогда возьмите мою коробку конфет. Она целая!У нас всегда столько всего продается!Пожалуйста.- Но только не конфеты с печеньем, пожалуйста!- Я тоже думаю о печенье. Вы знаете какое оно такое печенье. Бабушка...- Да ладно вам совсем - все равно ведь нельзя его есть или нет..И папа ушел к своему шкафу собирать свои старые альбомы - на шкаф они и не помещаются&hellip;.Мы вернулись в кафе, мы пили чай со смузи и фотографировали друзей\n",
      "\n",
      "&nbsp;&laquo;Кино в деталях&raquo;, 10 февраля 2011 (16+ источник - www.kinopeaisk.ru)В гостях у Анны Васильевны Плутовчухиной\n",
      "Эталон: чка, что завалилась за буфет в 1980-м! \n",
      "\n",
      "Пример 4:\n",
      "Сгенерировано: Мужик сан.техник разговаривает с девушкой М:-ты кем работаешь? Д:-я минетчица М:-это типо Хуй сосешь? Д:-нет, вот ты чем учишь а?-Ну, как же иначе-догонял мужик..... \n",
      "\n",
      "Улыбнитесь!!!  Не надейтесь что здесь найдётся ещё такой человек...   Мужики говорят так: \"Что вы тут делаете?! - Я ж вижу это уже не мы\" \n",
      "\n",
      "Хватит издеваться. Начали бы думать над своими страхами и принимать их! И тогда возможно Вы всё поймёте...  А пока вам предстоит увидеть все страшные рассказы, груду поз..и похабного мусора с этой стороны вашего быта!!!    Поддержи меня в моём посте если нажмете СЮДА.  Люблю тебя и желаю тебе всего хорошего ))) Будь счастлив!))  Ты тоже!-) Всем счастливо) ****** Всем здоровья ) ***** \n",
      "\n",
      "На правах модератора поста размещаю текст моей заметки. Ну и конечно немного информации, почему эта страна имеет успех .     Итак кто такие люди  - россияне??? Их так просто НЕ существует???? Что мешает им творить? Почему\n",
      "Эталон:  сколько зарабатываешь? М:-я 100$ в месяц Д:-это ты Хуй сосешь, а я минетчица.\n",
      "\n",
      "Пример 5:\n",
      "Сгенерировано: Идут по лесу дюймовочка, белоснежка и xуеcoc Дюймовочка говорит: \"-Я самая маленькая на Земле.\" Белоснежка говорит: \"-Я самая красивая на Земле.\" Xуеcoc говорит: \"-Я больше всех отсосал xyёв.\" Идут они, в общем, и заходят в Дом Правды Дюймовочка в слезах выбегает и говорит: \"-Блин-я самый большой!\" Потом она сбежалась. -А если кто хочет со мной поспорить?\" И уходят от девушки.\n",
      "     Мы смотрим сериал, а нам до чёртиков страшно! Так не может быть без ненависти к кому бы то ни было или ко всему человеческому роду или вообще ко всем живущим людям! Как жить мы просто не знаем. Я имею ввиду тех кто нас ненавидит как паразитов и гадких жвачных тварей :-) Кто смотрит сериалы, тот сам поймётся, что я имею ввиду под ненавистью??? Вот такое меня сейчас мучит любопытство...\n",
      "     В моём любимом кресле для себя сидел очень любопытный мужик в масках цвета мёда (это уже второй фильм данного формата). Он всегда громко говорил о своём интересном желании что нибудь спросить. Поэтому иногда голос, даваемый мною с пульта громкой связи стал громким криком где либо впереди экрана.. Этот звук исходил от него, пока он находился за ним, в самом прямом смысле этого выражения:) На этом кадре\n",
      "Эталон: блин, я не самая маленькая Меньше меня мальчик-спальчик.\" Белоснежка тоже выбегает в слезах и кричит: \"-Чёрт, я не самая красивая Красивее меня спящая красавица.\" Выходит злой хyecос и говорит: \"-Cyкa, кто такой Дмитрий Иванов?\"\n",
      "\n",
      "Пример 6:\n",
      "Сгенерировано: Падает парень с девятого этажа На восьмом этаже его ловит мужик и спрашивает: \"В рот возьмёшь?\" Парень не согласился и кинул его мужик На седьмом этаже его другой мужик ловит и спрашивает: \"В жопу дашь?\" Парень опять не согласился и кинул его мужик Падает парень Седьмой этаж на девятом этаже его ловят как собаку Он лежит, на коленях у старика говорит-здравствуй пацан\"Я так боюсь что он меня заденет,\"он отвечает\"-я бы его ударил ногой в пах! И потом его вытаскивают. Ну я ему говорю,что ты лучше дай пинка...\" Я понимаю что он мне верит я тоже хочу помочь этому человеку.....и потом меня просят выйти покурить..а потом в комнату приходит моя дочка...по пути она спрашивает-\"Как дела мама?\",она отмахивается:\"Сынок?! Что тебе!? Это твои дети\".\n",
      "Да всё хорошо у них там уже была дочь - аааааа! Ну ладно выхожу из дома и идём обратно в свой подъезд.  В это время во двор заходит мой котенок...(Ну если мы сейчас пойдем к котенку чтобы увидеть сколько нас было детей, то возможно тут есть тот самый котёнок или девочка?) Мальчик сидит смотрит, я смотрю дальше кошка выбегает через\n",
      "Эталон:  парень и на шестом этаже опять схватил его мужик Парень безысходности и говорит: \"В рот возьму, в жопу дам!\".\" Я что, голубой что ли?!\"- сказал мужик и кинул его.\n",
      "\n",
      "Пример 7:\n",
      "Сгенерировано: - Послушайте, Смит, - говорит студенту декан, - вчера васвидели в женском общежитии университета. Вам придетсяуплатить штраф в размере десяти ливров. Если нарушениеповторится, штраф будет вдвое выше. На третий раз он заплатит двести три литра молока и половину масла. Вдобавок при повторном нарушенииВы должны сделать следующий шаг &mdash; сесть на поезд с двумя купестанальными девушками: одной из них достанется полтина пива, другой &mdash; десять тысяч долларов. Для того чтобы заплатить все штрафы, вам нужно проехать больше мили.Смит соглашается провести еще одну параллель со своим другом и учитывает, насколько это возможно технически. Когда студенты приходят к заключениюпожертвовать десятью пятьюшками денег можно было только одним способом &laquo;если все равно ничего не выйдет&raquo;, сообщает Питерс, он предлагает ему воспользоваться банком по оплате штрафов. Однако для этого требуется много временив течение нескольких последних месяцев.- Ого! А ведь многие студентки хотят отдать 10000долларонов?\n",
      "— Да... Я думаю об этом случае два года, а потом надо будет сдавать деньги за дополнительные экзамены. Что мне делать? Мы можем использовать банк во время судебных заседаний. Если меня\n",
      "Эталон: достигнет двадцати пяти ливров. При четвертом нарушении...- Не будем мелочиться, - замечает студент, - скажите сразу,сколько стоит абонемент на весь семестр?\n",
      "\n",
      "Пример 8:\n",
      "Сгенерировано: Москвич москвича спрашивает после поездки в Иркутск: - Ну что, как тебе Иркутск? - Обалденно. - В каком смысле великолепно! Во-вторых столица, которая с каждым годом становится всё привлекательнее и интереснее с точки зрения иностранцев, потому что это город миллионерских людей из глубинки, здесь же много красивых небоскрёбов.. - Но они не приехали жить в Канаду или Австралию. А просто купили эти замечательные места за границей и решили отдохнуть там от всего земного шума.. Мы думаем, раз нам дали такой эксклюзивный шанс побывать только на одном острове в Карибском море!.. \n",
      " Давеча я отдыхал у двоюродного брата (его сестра была ещё жива) и он спросил меня об Иркутске.- Он так хорошо пишет?! - Почему?!  И почему бы ему не посетить его???..Это действительно потрясающе!!!!!И по поводу цены проживания вы правы,но мы поехали туда в двух концах города посмотреть...и то и другое очень дорого.  Хотя для начала надо бы все осмотреть, чтобы понять насколько это интересно.А там уж конечно можно купить экскурсию\n",
      "Эталон:  Да хули.. провинция! До сих пор баб ебут.\n",
      "\n",
      "Пример 9:\n",
      "Сгенерировано: Рабинович едет в плацкартном вагоне Он шумно вздыхает - Сколько раз я просила, чтобы он не покупал себе билеты! Все мои предложения мне казались пустыми словами... Но нет! Они пришли и закончились раньше срока. Я хотела купить билет на поезд!&nbsp;- Нет, это не так просто! &ndash;&nbsp;У нее зазвонил телефон! Ее муж! С кем она? Где же ее муж?!.. Да, вот за этим окном стоит этот человек! Мне надо уехать из Нью-Йорка. К черту все деньги!!!Она набрала номер своего мобильника:&quot;Простите еще один звонок... Да?..Нет,- подумала она.- А что вы мне скажете?- На сколько я понимаю, в ближайшие сутки меня уже ничто ждать уже не будет...- Отлично!- У вас прекрасный сын и двое сыновей!А потом звонит сам Карл!...Вы увереныЧто Карл живет у нас?? В каком городе??Я долго смотрела на этого человека, пытаясь понять почему эта информация попала им на ум? Он позвонил только сегодня вечером после двух часов ночи? И был прав:- Точно-точно!!!! - Это\n",
      "Эталон:  - укоряет его жена, - на людях о политике не говорить!\n",
      "\n",
      "Пример 10:\n",
      "Сгенерировано: Едет грузовик, набитый евреями в концлагерь Начинается ухабистая дорога и один еврей возмущён -- \"Не-е-ет! Этого же надо лишать жизни!\"  Бросают гранату.  В кузове грузовика евреи бегут со страшной скоростью Через секунду взрыв прогерметично убивает их всех... \n",
      " Как только автобус отходит от ворот он падает к реке. ------ ----- Я больше не могу наезжать!  Теперь они будут стоять как бараки и меня тоже никто не увидит!!! ---- У кого есть деньги на проезд!:-) \"А ещё хуже... \n",
      " Один американский солдат в пустыне видит огромную луну.  Подходя поближе он замечает приближающееся солнце. --- Это что ----- ОНИ ЗДЕСЬ ЕДИНЫ \n",
      " И вот тут его друг просыпается после своего ночного кошмара где его догоняют люди с рюкзаками из которых сыпался песок по пути ночевало до того ему показалось тогда он слышал грохот камней которые попадали на землю прямо под ногами его друга которые били молниями....И вдруг внезапно наступила тьма которая длилась два часа \n",
      " -Э\n",
      "Эталон: но говорит водителю: Поаккуратнее, не дрова везёшь!\n"
     ]
    },
    {
     "data": {
      "text/plain": [
       "0.0025653641077214256"
      ]
     },
     "execution_count": 20,
     "metadata": {},
     "output_type": "execute_result"
    }
   ],
   "source": [
    "import torch.nn.functional as F\n",
    "from nltk.translate.bleu_score import corpus_bleu\n",
    "import torch\n",
    "\n",
    "\n",
    "def calculate_bleu(model, dataset, device, tokenizer, max_length=200, num_examples=10, verbal=False):\n",
    "    model.to(device)\n",
    "    model.eval()\n",
    "    references = []\n",
    "    hypotheses = []\n",
    "\n",
    "    with torch.no_grad():\n",
    "        for i, item in enumerate(dataset):\n",
    "\n",
    "            input_ids = item['input_ids'].squeeze(0).to(device)\n",
    "            split_idx = int(input_ids.size(0) * 0.6)\n",
    "            context_ids = input_ids[:split_idx].unsqueeze(0)\n",
    "\n",
    "            reference_ids = input_ids[split_idx:].unsqueeze(0)\n",
    "            reference = tokenizer.decode(reference_ids[0], skip_special_tokens=True)\n",
    "            references.append([reference.split()])\n",
    "\n",
    "            outputs = model.generate(\n",
    "                input_ids=context_ids,\n",
    "                attention_mask=torch.ones(context_ids.shape).to(device),\n",
    "                max_length=split_idx + max_length,\n",
    "                repetition_penalty=1.2,\n",
    "                length_penalty=1.0,\n",
    "                temperature=1.2,\n",
    "                do_sample=True,\n",
    "                eos_token_id=tokenizer.eos_token_id,\n",
    "            )\n",
    "\n",
    "            hypothesis = tokenizer.decode(outputs[0], skip_special_tokens=True)\n",
    "            hypotheses.append(hypothesis.split())\n",
    "\n",
    "            if verbal and i < num_examples:\n",
    "                print(f\"Пример {i + 1}:\")\n",
    "                print(f\"Сгенерировано: {hypothesis}\")\n",
    "                print(f\"Эталон: {reference}\\n\")\n",
    "\n",
    "    bleu_score = corpus_bleu(references, hypotheses)\n",
    "    return bleu_score\n",
    "\n",
    "\n",
    "bleu_score = calculate_bleu(model, val_dataset, device, tokenizer, verbal=True)\n",
    "bleu_score"
   ]
  },
  {
   "cell_type": "code",
   "execution_count": 21,
   "id": "aa86f0ef",
   "metadata": {
    "ExecuteTime": {
     "end_time": "2023-12-21T12:50:19.530219500Z",
     "start_time": "2023-12-21T12:50:17.947221800Z"
    },
    "collapsed": false,
    "execution": {
     "iopub.execute_input": "2023-12-22T15:27:37.890958Z",
     "iopub.status.busy": "2023-12-22T15:27:37.890316Z",
     "iopub.status.idle": "2023-12-22T15:27:39.066771Z",
     "shell.execute_reply": "2023-12-22T15:27:39.065839Z"
    },
    "papermill": {
     "duration": 1.192333,
     "end_time": "2023-12-22T15:27:39.068798",
     "exception": false,
     "start_time": "2023-12-22T15:27:37.876465",
     "status": "completed"
    },
    "tags": []
   },
   "outputs": [
    {
     "data": {
      "text/plain": [
       "61636.51953125"
      ]
     },
     "execution_count": 21,
     "metadata": {},
     "output_type": "execute_result"
    }
   ],
   "source": [
    "def calculate_perplexity(model, dataset, device):\n",
    "    model.to(device)\n",
    "    model.eval()\n",
    "    total_loss = 0\n",
    "    total_tokens = 0\n",
    "\n",
    "    with torch.no_grad():\n",
    "        for item in dataset:\n",
    "            inputs = {k: v.to(device) for k, v in item.items()}\n",
    "            outputs = model(**inputs, labels=inputs['input_ids'])\n",
    "\n",
    "            loss = F.cross_entropy(outputs.logits.view(-1, model.config.vocab_size),\n",
    "                                   inputs['input_ids'].view(-1), reduction='sum')\n",
    "            total_loss += loss.item()\n",
    "            total_tokens += inputs['input_ids'].numel()\n",
    "\n",
    "    avg_loss = total_loss / total_tokens\n",
    "    return torch.exp(torch.tensor(avg_loss)).item()\n",
    "\n",
    "\n",
    "# Вызовите функцию так:\n",
    "perplexity = calculate_perplexity(model, val_dataset, device)\n",
    "perplexity"
   ]
  },
  {
   "cell_type": "code",
   "execution_count": 22,
   "id": "10e5a107",
   "metadata": {
    "ExecuteTime": {
     "end_time": "2023-12-21T12:50:40.771355800Z",
     "start_time": "2023-12-21T12:50:40.745327900Z"
    },
    "collapsed": false,
    "execution": {
     "iopub.execute_input": "2023-12-22T15:27:39.096870Z",
     "iopub.status.busy": "2023-12-22T15:27:39.096126Z",
     "iopub.status.idle": "2023-12-22T15:27:39.102036Z",
     "shell.execute_reply": "2023-12-22T15:27:39.101158Z"
    },
    "papermill": {
     "duration": 0.021797,
     "end_time": "2023-12-22T15:27:39.103944",
     "exception": false,
     "start_time": "2023-12-22T15:27:39.082147",
     "status": "completed"
    },
    "tags": []
   },
   "outputs": [],
   "source": [
    "def pack_tensor(new_tensor, packed_tensor, max_seq_len):\n",
    "    if packed_tensor is None:\n",
    "        return new_tensor, True, None\n",
    "    if new_tensor.size()[1] + packed_tensor.size()[1] > max_seq_len:\n",
    "        return packed_tensor, False, new_tensor\n",
    "    else:\n",
    "        packed_tensor = torch.cat([new_tensor[:, :-1], packed_tensor], dim=1)\n",
    "        return packed_tensor, True, None"
   ]
  },
  {
   "cell_type": "code",
   "execution_count": 23,
   "id": "b28ad81d",
   "metadata": {
    "ExecuteTime": {
     "end_time": "2023-12-21T12:50:56.111806100Z",
     "start_time": "2023-12-21T12:50:41.730351200Z"
    },
    "collapsed": false,
    "execution": {
     "iopub.execute_input": "2023-12-22T15:27:39.131088Z",
     "iopub.status.busy": "2023-12-22T15:27:39.130783Z",
     "iopub.status.idle": "2023-12-22T15:57:04.823364Z",
     "shell.execute_reply": "2023-12-22T15:57:04.822413Z"
    },
    "papermill": {
     "duration": 1767.662504,
     "end_time": "2023-12-22T15:57:06.779475",
     "exception": false,
     "start_time": "2023-12-22T15:27:39.116971",
     "status": "completed"
    },
    "tags": []
   },
   "outputs": [
    {
     "name": "stderr",
     "output_type": "stream",
     "text": [
      "/opt/conda/lib/python3.10/site-packages/transformers/optimization.py:429: FutureWarning: This implementation of AdamW is deprecated and will be removed in a future version. Use the PyTorch implementation torch.optim.AdamW instead, or set `no_deprecation_warning=True` to disable this warning\n",
      "  warnings.warn(\n"
     ]
    },
    {
     "name": "stdout",
     "output_type": "stream",
     "text": [
      "Training epoch 0\n"
     ]
    },
    {
     "name": "stderr",
     "output_type": "stream",
     "text": [
      "Epoch 0 - Train Loss: 0.4551: 100%|██████████| 44008/44008 [06:08<00:00, 119.32it/s]\n"
     ]
    },
    {
     "name": "stdout",
     "output_type": "stream",
     "text": [
      "Average Training Loss: 0.4550692779278673\n",
      "Validation Loss: 3.641466128826141\n",
      "Validation Perplexity: 60925.34765625\n",
      "Validation BLEU: 0.0025722347159895555\n",
      "Best BLEU: 0.0025722347159895555; Best perplexity: 60925.34765625\n",
      "Model saved!!!\n",
      "Training epoch 1\n"
     ]
    },
    {
     "name": "stderr",
     "output_type": "stream",
     "text": [
      "Epoch 1 - Train Loss: 0.4327: 100%|██████████| 44008/44008 [06:08<00:00, 119.48it/s]\n"
     ]
    },
    {
     "name": "stdout",
     "output_type": "stream",
     "text": [
      "Average Training Loss: 0.43272654117481035\n",
      "Validation Loss: 3.641466128826141\n",
      "Validation Perplexity: 60925.34765625\n",
      "Validation BLEU: 0.002456192117550588\n",
      "Best BLEU: 0.0025722347159895555; Best perplexity: 60925.34765625\n",
      "Training epoch 2\n"
     ]
    },
    {
     "name": "stderr",
     "output_type": "stream",
     "text": [
      "Epoch 2 - Train Loss: 0.4334: 100%|██████████| 44008/44008 [06:08<00:00, 119.55it/s]\n"
     ]
    },
    {
     "name": "stdout",
     "output_type": "stream",
     "text": [
      "Average Training Loss: 0.4333554788465024\n",
      "Validation Loss: 3.641466128826141\n",
      "Validation Perplexity: 60925.34765625\n",
      "Validation BLEU: 0.0025494024935086555\n",
      "Best BLEU: 0.0025722347159895555; Best perplexity: 60925.34765625\n"
     ]
    }
   ],
   "source": [
    "import os\n",
    "from tqdm import tqdm\n",
    "from transformers import get_linear_schedule_with_warmup, AdamW\n",
    "\n",
    "from torch.utils.data import DataLoader\n",
    "\n",
    "\n",
    "def calculate_validation_loss(model, val_dataloader, device):\n",
    "    model.eval()\n",
    "    total_val_loss = 0\n",
    "    with torch.no_grad():\n",
    "        for idx, entry in enumerate(val_dataloader):\n",
    "            input_ids = entry['input_ids'].squeeze(0).to(device)\n",
    "            outputs = model(input_ids, labels=input_ids)\n",
    "            loss = outputs[0]\n",
    "            total_val_loss += loss.item()\n",
    "    return total_val_loss / len(val_dataloader)\n",
    "\n",
    "\n",
    "def train(\n",
    "        dataset, val_dataset, model, tokenizer, device,\n",
    "        batch_size=16, epochs=3, lr=2e-4,\n",
    "        max_seq_len=400, warmup_steps=200,\n",
    "        output_dir=\"/kaggle/working\"):\n",
    "    model = model.to(device)\n",
    "    model.train()\n",
    "\n",
    "    optimizer = AdamW(model.parameters(), lr=lr)\n",
    "    scheduler = get_linear_schedule_with_warmup(\n",
    "        optimizer, num_warmup_steps=warmup_steps, num_training_steps=-1\n",
    "    )\n",
    "\n",
    "    train_dataloader = DataLoader(dataset, batch_size=1, shuffle=True)\n",
    "    val_dataloader = DataLoader(val_dataset, batch_size=1, shuffle=True)\n",
    "    best_val_loss = float('inf')\n",
    "\n",
    "    accumulating_batch_count = 0\n",
    "    input_tensor = None\n",
    "\n",
    "    best_perplexity = float('inf')\n",
    "    best_bleu = 0\n",
    "    losses = []\n",
    "    val_losses = []\n",
    "    avg_train_losses = []\n",
    "    for epoch in range(epochs):\n",
    "        model.train()\n",
    "\n",
    "        print(f\"Training epoch {epoch}\")\n",
    "\n",
    "        train_loss = 0\n",
    "        progress_bar = tqdm(enumerate(train_dataloader), total=len(train_dataloader))\n",
    "\n",
    "        for idx, entry in progress_bar:\n",
    "            input_ids = entry['input_ids'].squeeze(0)  # Убираем лишнюю размерность\n",
    "            (input_tensor, carry_on, remainder) = pack_tensor(input_ids, input_tensor, max_seq_len)\n",
    "\n",
    "            if carry_on and idx != len(train_dataloader) - 1:\n",
    "                continue\n",
    "\n",
    "            input_tensor = input_tensor.to(device)\n",
    "            outputs = model(input_tensor, labels=input_tensor)\n",
    "            loss = outputs[0]\n",
    "            train_loss += loss.item()\n",
    "\n",
    "            tqdm_desc = f\"Epoch {epoch} - Train Loss: {train_loss / (idx + 1):.4f}\"\n",
    "            progress_bar.set_description(tqdm_desc)\n",
    "            if idx % 100 == 0:\n",
    "                losses.append(loss.item())\n",
    "\n",
    "\n",
    "            loss.backward()\n",
    "\n",
    "            if (accumulating_batch_count % batch_size) == 0:\n",
    "                optimizer.step()\n",
    "                scheduler.step()\n",
    "                optimizer.zero_grad()\n",
    "                model.zero_grad()\n",
    "\n",
    "            accumulating_batch_count += 1\n",
    "            input_tensor = None\n",
    "\n",
    "        avg_train_loss = train_loss / len(train_dataloader)\n",
    "        avg_train_losses.append(avg_train_loss)\n",
    "        print(f\"Average Training Loss: {avg_train_loss}\")\n",
    "\n",
    "        avg_val_loss = calculate_validation_loss(model, val_dataloader, device)\n",
    "        val_losses.append(avg_val_loss)\n",
    "        print(f\"Validation Loss: {avg_val_loss}\")\n",
    "\n",
    "        perplexity = calculate_perplexity(model=model, dataset=val_dataset, device=device)\n",
    "        print(f\"Validation Perplexity: {perplexity}\")\n",
    "\n",
    "        bleu = calculate_bleu(model=model, dataset=val_dataset, device=device, tokenizer=tokenizer)\n",
    "        print(f\"Validation BLEU: {bleu}\")\n",
    "        best_perplexity = min(perplexity, best_perplexity)\n",
    "        best_bleu = max(bleu, best_bleu)\n",
    "        print(f\"Best BLEU: {best_bleu}; Best perplexity: {best_perplexity}\")\n",
    "\n",
    "        if avg_val_loss < best_val_loss:\n",
    "            best_val_loss = avg_val_loss\n",
    "            torch.save(\n",
    "                model.state_dict(),\n",
    "                os.path.join(output_dir, f\"val_loss-{epoch}.pt\"),\n",
    "            )\n",
    "            print(f\"Model saved!!!\")\n",
    "\n",
    "    return model, best_bleu, best_perplexity, losses, avg_train_losses, val_losses\n",
    "\n",
    "\n",
    "finetuned_model, bleu, ppx, losses, avg_train_losses, val_losses = train(dataset=dataset, val_dataset=val_dataset,\n",
    "                                                       tokenizer=tokenizer, model=model,\n",
    "                                                       device=device)"
   ]
  },
  {
   "cell_type": "code",
   "execution_count": 24,
   "id": "c57aab82",
   "metadata": {
    "execution": {
     "iopub.execute_input": "2023-12-22T15:57:10.621348Z",
     "iopub.status.busy": "2023-12-22T15:57:10.620610Z",
     "iopub.status.idle": "2023-12-22T15:57:10.821574Z",
     "shell.execute_reply": "2023-12-22T15:57:10.820729Z"
    },
    "papermill": {
     "duration": 2.081964,
     "end_time": "2023-12-22T15:57:10.823551",
     "exception": false,
     "start_time": "2023-12-22T15:57:08.741587",
     "status": "completed"
    },
    "tags": []
   },
   "outputs": [
    {
     "data": {
      "image/png": "[encoded data removed]",
      "text/plain": [
       "<Figure size 640x480 with 1 Axes>"
      ]
     },
     "metadata": {},
     "output_type": "display_data"
    }
   ],
   "source": [
    "import matplotlib.pyplot as plt\n",
    "\n",
    "plt.plot(losses, label='Training Loss')\n",
    "plt.xlabel(\"Steps div by 100\")\n",
    "plt.ylabel(\"Loss\")\n",
    "plt.show()"
   ]
  },
  {
   "cell_type": "code",
   "execution_count": 26,
   "id": "025f0218",
   "metadata": {
    "collapsed": false,
    "execution": {
     "iopub.execute_input": "2023-12-22T15:57:18.932310Z",
     "iopub.status.busy": "2023-12-22T15:57:18.931977Z",
     "iopub.status.idle": "2023-12-22T16:00:56.390655Z",
     "shell.execute_reply": "2023-12-22T16:00:56.389747Z"
    },
    "papermill": {
     "duration": 221.385853,
     "end_time": "2023-12-22T16:00:58.359230",
     "exception": false,
     "start_time": "2023-12-22T15:57:16.973377",
     "status": "completed"
    },
    "tags": []
   },
   "outputs": [
    {
     "name": "stdout",
     "output_type": "stream",
     "text": [
      "Пример 1:\n",
      "Сгенерировано: встретились как-то агент кремля и агент цмс Один другому говорит:- У меня в газете на стене стоит зеркало - Неужели?! Врешь, не поверишь— Пап, а тебе правда хочется сказать:\"Я твоя жена,\"— Я так больше ничего за нее ни скажуШтирлиц шел с отцом по пыльной дороге — По улице идет солдат Острогожского полка Штирлиц остановился: там дети играли, отец повернулся к нему. Через несколько минут он снова встает. Дети сидят возле него Тут к отряху входит поручик Ржевский Грабитель: - Ваше благородие! Мы хотим жить!- Как вы сказали? С какого стати?- Нижайше прошу вас отдать моего сына на съедение диким бизам...Через 3 ч после свадьбы все резко расходятся Муж возвращается из командировки и приносит с сыном записку от матери Жена ему отвечает: \"Докажите обратное - я знаю точно...\" Сын приходит домой, но быстро переодевается Мама тоже думает над этим его словами Вдруг сын подбегает к отцу и что ты о себе думаешь\n",
      "Эталон: ру а там 40 трупов сел медведь и сгорел\n",
      "\n",
      "Пример 2:\n",
      "Сгенерировано: - Не так давно я решил отказаться от алкоголя и начал пить соки. А потом понял, что это тоже неправильно. - И что теперь делаете? – Я бросил курить — Поступил в консерваторию— Это кто вам на кухне готовит пирожки с разными начинками??? Тут два педераста сидят Один другому: — Да ладно тебе! — Третий ему: Ну хоть кусочек сделайЖена сказала мужу:- Знаешь, когда твой муж был ребенком только за один месяц, он просто не делал уроки.- Тогда где тут математики?!Муж подумал еще чегонибудь:- Ладно вот ты мне сегодня принес вчера кофе со льдом...- Но почему?- Ну ладно, зато у меня совсем нет пальцев ногИдет заяц по лесу, видит волк спрашивает его:\"Здравствуй Заяц: Кто идёт вперёд?\"\"А кто будет меня догонять\"- отвечает медвежонок Голос волка:\"КТО ЧТО ТЫ ДЕЛАЛ С ЗАДИРАЛОМ ЕГО!\"- сказал медведь, потому что ему никто был нужен Вдруг маленький ёжик слышит какой–то шорох внизу Подбежала к зайцу маленькая девочка–девочка с длинными кудрявыми волосами «Это какая же девочка?»\n",
      "Эталон: , ты бросил пить соки? - Нет, теперь я пью соки с алкоголем.\n",
      "\n",
      "Пример 3:\n",
      "Сгенерировано: Мама:- Тот самый вкус! Тот самый чай!Бабушка:- Так это ж та самая пачка печенья?- Да нет, что Вы, бабушка, скорее всего - теща...Выходят замуж двое дочерей в один день. Старший говорит старшей: – Пап, пап, давай еще раз за столом?– Пошла на*уй я из деревниЗаходит в дверь мужчина и спрашивает у матери - \"Я вам не игрушка А вот что вы там с моей дочкой делаете?\" Мать отвечает ему тихо-тихо, мол да как сказать, все дело в деньгах Папа возвращается домой пьяный и охуевший выходит через некоторое время С порога заявляет жене — \"Вот сейчас детишки начнут ругаться и говорить пошлое\" После того же ответа она бросает маме свой гневный сердитый взгляд и молча уходит Настает время ужина Мать берет ложку хлеба и начинает кластить его снова под стол Сын растерянно спрашивает ее:- Боже.. Что происходит?! Жена продолжает:- Меня ебутМуж приходит вечером к врачу:- Доктор, мы вчера случайно зашли к Вам сегодня ночью.- Извините, доктор… Мы вынуждены признаться,\n",
      "Эталон: чка, что завалилась за буфет в 1980-м! \n",
      "\n",
      "Пример 4:\n",
      "Сгенерировано: Мужик сан.техник разговаривает с девушкой М:-ты кем работаешь? Д:-я минетчица М:-это типо Хуй сосешь? Д:-нет, вот ты-то мне и всю работу делала- Вы вчера были у врача? - Да Я! А он чем занимался?- Извиняюсь, что ошибсяВовочка пришёл домой со школы Он взял портфель, положил его на коврик у входа Мама заторможено спросила: – Ванечка, а как вас зовут по отцовскому прозвищу — Анонимный анекдот Дети из класса дружно рассмешались Тут родители вскочили С этими словами они побежали к двери Девочки громко возмущенным голосом ответили им: «Нет мы никого вам не хотим, только тех кто говорит правду, но на будущее убери свой нос оттудаПопал пациент доктору  на обследование у окулиста, который сказал ему одну маленькую ноту: «Если бы эта акула могла орать во время просмотра порно!», Доктор дал определение этому животному по морде и сказал: «Сдохите» После обследования врач дал заключение:«Экзамен на право управления автомобилем».Охраннику приставили охранника Сидит мужик под деревом Подходит к стро\n",
      "Эталон:  сколько зарабатываешь? М:-я 100$ в месяц Д:-это ты Хуй сосешь, а я минетчица.\n",
      "\n",
      "Пример 5:\n",
      "Сгенерировано: Идут по лесу дюймовочка, белоснежка и xуеcoc Дюймовочка говорит: \"-Я самая маленькая на Земле.\" Белоснежка говорит: \"-Я самая красивая на Земле.\" Xуеcoc говорит: \"-Я больше всех отсосал xyёв.\" Идут они, в общем, и заходят в Дом Правды Дюймовочка в слезах выбегает и говорит: \"-Блин-бля! Вот что я сделала!\" yestepanie - Did you guys google libraries? — Я нетУчитель приходит домой  с работы  без опозданий. Через какое время сын спрашивает отца:- Папа, папа! Мы опаздываем!- Нет, сынок.- Где ты раньше был?- С тех пор прошло 3 года. В конце прошлой недели.- Какой ужас!- Что вы говоритеНа улице напротив дома №31 (а может быть как раз таки по соседству) стоит девочка Маша Заикает и окидывает презрительным взором бабушку Машу Она хватает её, садится к себе поближе и громко так сочным голосом произносит:- Ну вот, если бы ты была совсем лысеющей...- А зачем мне твоя дочь, мадамДве девушки:- Ты где был вчера?- На рыбалке!Штирлиц сидел на берегу пруда Под его водой плавало восемь красивых молодых девушек Один парень другому сказал: — Это моя любимая рыба — Как?! Да у моей жены есть шесть пальцев и\n",
      "Эталон: блин, я не самая маленькая Меньше меня мальчик-спальчик.\" Белоснежка тоже выбегает в слезах и кричит: \"-Чёрт, я не самая красивая Красивее меня спящая красавица.\" Выходит злой хyecос и говорит: \"-Cyкa, кто такой Дмитрий Иванов?\"\n",
      "\n",
      "Пример 6:\n",
      "Сгенерировано: Падает парень с девятого этажа На восьмом этаже его ловит мужик и спрашивает: \"В рот возьмёшь?\" Парень не согласился и кинул его мужик На седьмом этаже его другой мужик ловит и спрашивает: \"В жопу дашь?\" Парень опять не согласился и кинул его мужик Падает на пятом этаже. Мужик в следующий раз говорит, что ему уже дали 100 баксов Мужик подумал немного так… Пришел второй молодой человек к нему в квартиру Подходит парень К нему стоит старушка Бабушка у ног внука Он говорит : - Слушай мальчик ты меня не хочешь? Я знаю я папу— Мама, откуда берутся мужчины — Из космоса «Неизвестный» пишет детям-второму мальчику, что Бог послал их жить во втором мире Один из таких пацанов рассказывает другому:- Однажды наша прапраправнучка принесла мне кусок пиццы.- Почему?- Папа хотел ее еще пожаритьЗима Зимы Решили рыбку поймать зимой Заходят как то рыбак в мороз, а там ёжик голый лежит Морозом обливается Вода замерзает Она падает за воротник Ежеминутно замирает Тут рыба начинает плакать Выходит муж спрашивает: \"Чего плакала?\", она от испуга срывается на истеричный крик, хвастается: Мы сейчас же поймаем этот подлянка\n",
      "Эталон:  парень и на шестом этаже опять схватил его мужик Парень безысходности и говорит: \"В рот возьму, в жопу дам!\".\" Я что, голубой что ли?!\"- сказал мужик и кинул его.\n",
      "\n",
      "Пример 7:\n",
      "Сгенерировано: - Послушайте, Смит, - говорит студенту декан, - вчера васвидели в женском общежитии университета. Вам придетсяуплатить штраф в размере десяти ливров. Если нарушениеповторится, штраф будет вдвое выше. На третий раз он сможет только получить пятьдесят долларов.- Нет-нет! Я это слышал от одной из сестер на пенсии...- А что ж вы тогда ее в армию забрали?— Что означает название новой российской подводной лодки «Адмирал Осьмиец»? —  —  —  словоиз этого стихотворения впервые появилось с тех пор, как была построена подлодка.. И хотя оно не имеет никакого смысла в языке людей – я знаю его по старым русским фразам о гордостиЗаходит студент на экзамен:- Как вы меня любите!- За какую тему преподавали?- Ну какая вам может быть тема - об архитектуре...Студент отвечает:- Конечно, классико - вот тебе пример. Пришел к профессору.- Знаете, доктор, если взять кусок хлеба, а положить сверху кирпич и закопать в говнеПриехала женщина во Францию: французское посольство - Сеньор, нам нужна дипломатия!- Так у себя дома никто не знает английский язык? А еще есть два французских языка!Проститутки требуют 100 тысяч рублей за\n",
      "Эталон: достигнет двадцати пяти ливров. При четвертом нарушении...- Не будем мелочиться, - замечает студент, - скажите сразу,сколько стоит абонемент на весь семестр?\n",
      "\n",
      "Пример 8:\n",
      "Сгенерировано: Москвич москвича спрашивает после поездки в Иркутск: - Ну что, как тебе Иркутск? - Нормально.- Ты не находишь?- Да ведь они у нас все такие!Играет девушка у старого дьячка И говорит ему девча и говорит: — Он мне тоже поет А дятель стоит да и слушает а она ничего не ответила Девча ей шепчет еще быстрее Подходит мент и говорит: «Ну зачем ты трели точишьНа собеседовании работник компании рассказывает: – Вчера у меня была депрессия Мне необходимо провести отпуск по своей собственной воле. Мне требуется работа грузчика У одного из мужиков дома загорелся газон и он сгорел Пришла бригада строителей домой Мужик начал яростно бороться с пожарами Они не справились Даже начали пожарные латать крыши Его соседи стали орать от негодования Он орал так громко \"ГРЕННЫЕ ПЕЧАТКИ!\", чтобы успокоить домочадцев Соседский мальчик крикнул- Я слышал на похоронах был какой-то шум...— Я никогда не смогу понять вашего ответа Что делать? — Ничего я вас там точно и не слышуУ моего мужа зазвонил\n",
      "Эталон:  Да хули.. провинция! До сих пор баб ебут.\n",
      "\n",
      "Пример 9:\n",
      "Сгенерировано: Рабинович едет в плацкартном вагоне Он шумно вздыхает - Сколько раз я просила, чтобы заспанные пассажиры перестали шутить похабные шутки и все как один начинают шутитьНа суде:- Скажите откровенно, а можно ли говорить о нашей проблеме с трибуны зала?- Я очень сожалею, что эти сведения уже устарели. К сожалению. Но это никак не говорит нас...- Мне ничего нового не прислали, кроме поздравления со 8 марта... - О боже! Это где ж у Вас???!!  Запишите еще одно сообщение на конкурс: \"Поздравь бабушку-старорусскоговорящую девочку!\"Журналист Алексей Бабура спросил отца мальчика:- Где был Вася когда его забрали родители? С чего ему столько лет знать про русских детишек?Отец покачал головой.- Покойная бабушка всю жизнь была такая… В ней больше ни капли материнской ласки Не хотелось бы повторится снова- Вы купили новый дом в Англии для моей дочери.- Да?! А вы никогда там жили?!Идут по городу два английских шпиона Один спрашивает другого: — Мой отец тоже из Британии? Тот отвечает:\n",
      "Эталон:  - укоряет его жена, - на людях о политике не говорить!\n",
      "\n",
      "Пример 10:\n",
      "Сгенерировано: Едет грузовик, набитый евреями в концлагерь Начинается ухабистая дорога и один еврей возмущённо: \"Ох хййуууууух...\" - спрашивает другой И тут навстречу ему вылезает мужчина, показывает свою лысину и ехидно добавляет: – А вы что мне все здесь делаете?! Он отвечает: — Ну так ведь не доебёшьЖена возвращается из командировки:- Муж приходил извиняться. Упал!- Ничего страшного.- Вот я вам записку оставляю  на всякий случай дома...- А ну, а как вы себя повели?- Я же говорила! Только ничего ты за этимне уговорил-то?На днях молодой гей пришел домой ночью Один день назад вернулся он с девушкой по пьяни, второй День пошел дождь Жена собралась идти туда же Снова пришел с друзьями на обед, жена тоже стоит вместе и только смотрит, какой большой кот гуляет вокруг стола Гостюм ей принесли домойПришел чукча на рыбалку Чукча говорит своему окуню:- Смотри рыба плывет на меня- Как называется такой сорт яблок осенью?- СырВ музее стоят два танка\n",
      "Эталон: но говорит водителю: Поаккуратнее, не дрова везёшь!\n"
     ]
    },
    {
     "data": {
      "text/plain": [
       "0.0027128151365883473"
      ]
     },
     "execution_count": 26,
     "metadata": {},
     "output_type": "execute_result"
    }
   ],
   "source": [
    "calculate_bleu(model=finetuned_model, tokenizer=tokenizer, verbal=True, dataset=val_dataset, device=device)"
   ]
  }
 ],
 "metadata": {
  "kaggle": {
   "accelerator": "gpu",
   "dataSources": [
    {
     "datasetId": 4203929,
     "sourceId": 7254955,
     "sourceType": "datasetVersion"
    }
   ],
   "dockerImageVersionId": 30627,
   "isGpuEnabled": true,
   "isInternetEnabled": true,
   "language": "python",
   "sourceType": "notebook"
  },
  "kernelspec": {
   "display_name": "Python 3",
   "language": "python",
   "name": "python3"
  },
  "language_info": {
   "codemirror_mode": {
    "name": "ipython",
    "version": 3
   },
   "file_extension": ".py",
   "mimetype": "text/x-python",
   "name": "python",
   "nbconvert_exporter": "python",
   "pygments_lexer": "ipython3",
   "version": "3.10.12"
  },
  "papermill": {
   "default_parameters": {},
   "duration": 2319.329277,
   "end_time": "2023-12-22T16:01:03.320451",
   "environment_variables": {},
   "exception": null,
   "input_path": "__notebook__.ipynb",
   "output_path": "__notebook__.ipynb",
   "parameters": {},
   "start_time": "2023-12-22T15:22:23.991174",
   "version": "2.4.0"
  },
  "widgets": {
   "application/vnd.jupyter.widget-state+json": {
    "state": {
     "01aee64474384d34aa6babf670948ccc": {
      "model_module": "@jupyter-widgets/base",
      "model_module_version": "1.2.0",
      "model_name": "LayoutModel",
      "state": {
       "_model_module": "@jupyter-widgets/base",
       "_model_module_version": "1.2.0",
       "_model_name": "LayoutModel",
       "_view_count": null,
       "_view_module": "@jupyter-widgets/base",
       "_view_module_version": "1.2.0",
       "_view_name": "LayoutView",
       "align_content": null,
       "align_items": null,
       "align_self": null,
       "border": null,
       "bottom": null,
       "display": null,
       "flex": null,
       "flex_flow": null,
       "grid_area": null,
       "grid_auto_columns": null,
       "grid_auto_flow": null,
       "grid_auto_rows": null,
       "grid_column": null,
       "grid_gap": null,
       "grid_row": null,
       "grid_template_areas": null,
       "grid_template_columns": null,
       "grid_template_rows": null,
       "height": null,
       "justify_content": null,
       "justify_items": null,
       "left": null,
       "margin": null,
       "max_height": null,
       "max_width": null,
       "min_height": null,
       "min_width": null,
       "object_fit": null,
       "object_position": null,
       "order": null,
       "overflow": null,
       "overflow_x": null,
       "overflow_y": null,
       "padding": null,
       "right": null,
       "top": null,
       "visibility": null,
       "width": null
      }
     },
     "01af63b7e318471aa56ab4be9ec19c60": {
      "model_module": "@jupyter-widgets/controls",
      "model_module_version": "1.5.0",
      "model_name": "DescriptionStyleModel",
      "state": {
       "_model_module": "@jupyter-widgets/controls",
       "_model_module_version": "1.5.0",
       "_model_name": "DescriptionStyleModel",
       "_view_count": null,
       "_view_module": "@jupyter-widgets/base",
       "_view_module_version": "1.2.0",
       "_view_name": "StyleView",
       "description_width": ""
      }
     },
     "0491de627a1145cbafb1456730f6edbf": {
      "model_module": "@jupyter-widgets/base",
      "model_module_version": "1.2.0",
      "model_name": "LayoutModel",
      "state": {
       "_model_module": "@jupyter-widgets/base",
       "_model_module_version": "1.2.0",
       "_model_name": "LayoutModel",
       "_view_count": null,
       "_view_module": "@jupyter-widgets/base",
       "_view_module_version": "1.2.0",
       "_view_name": "LayoutView",
       "align_content": null,
       "align_items": null,
       "align_self": null,
       "border": null,
       "bottom": null,
       "display": null,
       "flex": null,
       "flex_flow": null,
       "grid_area": null,
       "grid_auto_columns": null,
       "grid_auto_flow": null,
       "grid_auto_rows": null,
       "grid_column": null,
       "grid_gap": null,
       "grid_row": null,
       "grid_template_areas": null,
       "grid_template_columns": null,
       "grid_template_rows": null,
       "height": null,
       "justify_content": null,
       "justify_items": null,
       "left": null,
       "margin": null,
       "max_height": null,
       "max_width": null,
       "min_height": null,
       "min_width": null,
       "object_fit": null,
       "object_position": null,
       "order": null,
       "overflow": null,
       "overflow_x": null,
       "overflow_y": null,
       "padding": null,
       "right": null,
       "top": null,
       "visibility": null,
       "width": null
      }
     },
     "056d252fab0747aaa58c4f1ea732cd01": {
      "model_module": "@jupyter-widgets/controls",
      "model_module_version": "1.5.0",
      "model_name": "DescriptionStyleModel",
      "state": {
       "_model_module": "@jupyter-widgets/controls",
       "_model_module_version": "1.5.0",
       "_model_name": "DescriptionStyleModel",
       "_view_count": null,
       "_view_module": "@jupyter-widgets/base",
       "_view_module_version": "1.2.0",
       "_view_name": "StyleView",
       "description_width": ""
      }
     },
     "1109f3446ce0481baa974e7c2046688d": {
      "model_module": "@jupyter-widgets/controls",
      "model_module_version": "1.5.0",
      "model_name": "FloatProgressModel",
      "state": {
       "_dom_classes": [],
       "_model_module": "@jupyter-widgets/controls",
       "_model_module_version": "1.5.0",
       "_model_name": "FloatProgressModel",
       "_view_count": null,
       "_view_module": "@jupyter-widgets/controls",
       "_view_module_version": "1.5.0",
       "_view_name": "ProgressView",
       "bar_style": "success",
       "description": "",
       "description_tooltip": null,
       "layout": "IPY_MODEL_01aee64474384d34aa6babf670948ccc",
       "max": 5.51290714E8,
       "min": 0.0,
       "orientation": "horizontal",
       "style": "IPY_MODEL_12cdc4a1e9a04591bc1a0ec7ccf85281",
       "value": 5.51290714E8
      }
     },
     "12cdc4a1e9a04591bc1a0ec7ccf85281": {
      "model_module": "@jupyter-widgets/controls",
      "model_module_version": "1.5.0",
      "model_name": "ProgressStyleModel",
      "state": {
       "_model_module": "@jupyter-widgets/controls",
       "_model_module_version": "1.5.0",
       "_model_name": "ProgressStyleModel",
       "_view_count": null,
       "_view_module": "@jupyter-widgets/base",
       "_view_module_version": "1.2.0",
       "_view_name": "StyleView",
       "bar_color": null,
       "description_width": ""
      }
     },
     "16cf37bc501d43578cdeb1ca6666c932": {
      "model_module": "@jupyter-widgets/base",
      "model_module_version": "1.2.0",
      "model_name": "LayoutModel",
      "state": {
       "_model_module": "@jupyter-widgets/base",
       "_model_module_version": "1.2.0",
       "_model_name": "LayoutModel",
       "_view_count": null,
       "_view_module": "@jupyter-widgets/base",
       "_view_module_version": "1.2.0",
       "_view_name": "LayoutView",
       "align_content": null,
       "align_items": null,
       "align_self": null,
       "border": null,
       "bottom": null,
       "display": null,
       "flex": null,
       "flex_flow": null,
       "grid_area": null,
       "grid_auto_columns": null,
       "grid_auto_flow": null,
       "grid_auto_rows": null,
       "grid_column": null,
       "grid_gap": null,
       "grid_row": null,
       "grid_template_areas": null,
       "grid_template_columns": null,
       "grid_template_rows": null,
       "height": null,
       "justify_content": null,
       "justify_items": null,
       "left": null,
       "margin": null,
       "max_height": null,
       "max_width": null,
       "min_height": null,
       "min_width": null,
       "object_fit": null,
       "object_position": null,
       "order": null,
       "overflow": null,
       "overflow_x": null,
       "overflow_y": null,
       "padding": null,
       "right": null,
       "top": null,
       "visibility": null,
       "width": null
      }
     },
     "19d0b1192c4e4924937fbf13711a0c65": {
      "model_module": "@jupyter-widgets/base",
      "model_module_version": "1.2.0",
      "model_name": "LayoutModel",
      "state": {
       "_model_module": "@jupyter-widgets/base",
       "_model_module_version": "1.2.0",
       "_model_name": "LayoutModel",
       "_view_count": null,
       "_view_module": "@jupyter-widgets/base",
       "_view_module_version": "1.2.0",
       "_view_name": "LayoutView",
       "align_content": null,
       "align_items": null,
       "align_self": null,
       "border": null,
       "bottom": null,
       "display": null,
       "flex": null,
       "flex_flow": null,
       "grid_area": null,
       "grid_auto_columns": null,
       "grid_auto_flow": null,
       "grid_auto_rows": null,
       "grid_column": null,
       "grid_gap": null,
       "grid_row": null,
       "grid_template_areas": null,
       "grid_template_columns": null,
       "grid_template_rows": null,
       "height": null,
       "justify_content": null,
       "justify_items": null,
       "left": null,
       "margin": null,
       "max_height": null,
       "max_width": null,
       "min_height": null,
       "min_width": null,
       "object_fit": null,
       "object_position": null,
       "order": null,
       "overflow": null,
       "overflow_x": null,
       "overflow_y": null,
       "padding": null,
       "right": null,
       "top": null,
       "visibility": null,
       "width": null
      }
     },
     "1be3379db6e64a839e727fd78ac5e343": {
      "model_module": "@jupyter-widgets/controls",
      "model_module_version": "1.5.0",
      "model_name": "DescriptionStyleModel",
      "state": {
       "_model_module": "@jupyter-widgets/controls",
       "_model_module_version": "1.5.0",
       "_model_name": "DescriptionStyleModel",
       "_view_count": null,
       "_view_module": "@jupyter-widgets/base",
       "_view_module_version": "1.2.0",
       "_view_name": "StyleView",
       "description_width": ""
      }
     },
     "1ea3858aac8541dfa126ca42c52c08be": {
      "model_module": "@jupyter-widgets/controls",
      "model_module_version": "1.5.0",
      "model_name": "HBoxModel",
      "state": {
       "_dom_classes": [],
       "_model_module": "@jupyter-widgets/controls",
       "_model_module_version": "1.5.0",
       "_model_name": "HBoxModel",
       "_view_count": null,
       "_view_module": "@jupyter-widgets/controls",
       "_view_module_version": "1.5.0",
       "_view_name": "HBoxView",
       "box_style": "",
       "children": [
        "IPY_MODEL_4335c118bef846a68fb8e094dc038a62",
        "IPY_MODEL_8bcb3c6e504c4c1394779211e7091d94",
        "IPY_MODEL_6e64a835ae874f5388f03bbe4e788d0f"
       ],
       "layout": "IPY_MODEL_eb629edc67f94c778e0685cd09ace76f"
      }
     },
     "1f8d3c1ebdd94d5f8bb2263382413d65": {
      "model_module": "@jupyter-widgets/controls",
      "model_module_version": "1.5.0",
      "model_name": "DescriptionStyleModel",
      "state": {
       "_model_module": "@jupyter-widgets/controls",
       "_model_module_version": "1.5.0",
       "_model_name": "DescriptionStyleModel",
       "_view_count": null,
       "_view_module": "@jupyter-widgets/base",
       "_view_module_version": "1.2.0",
       "_view_name": "StyleView",
       "description_width": ""
      }
     },
     "248cb159d20a49308dad4ee7e2368823": {
      "model_module": "@jupyter-widgets/base",
      "model_module_version": "1.2.0",
      "model_name": "LayoutModel",
      "state": {
       "_model_module": "@jupyter-widgets/base",
       "_model_module_version": "1.2.0",
       "_model_name": "LayoutModel",
       "_view_count": null,
       "_view_module": "@jupyter-widgets/base",
       "_view_module_version": "1.2.0",
       "_view_name": "LayoutView",
       "align_content": null,
       "align_items": null,
       "align_self": null,
       "border": null,
       "bottom": null,
       "display": null,
       "flex": null,
       "flex_flow": null,
       "grid_area": null,
       "grid_auto_columns": null,
       "grid_auto_flow": null,
       "grid_auto_rows": null,
       "grid_column": null,
       "grid_gap": null,
       "grid_row": null,
       "grid_template_areas": null,
       "grid_template_columns": null,
       "grid_template_rows": null,
       "height": null,
       "justify_content": null,
       "justify_items": null,
       "left": null,
       "margin": null,
       "max_height": null,
       "max_width": null,
       "min_height": null,
       "min_width": null,
       "object_fit": null,
       "object_position": null,
       "order": null,
       "overflow": null,
       "overflow_x": null,
       "overflow_y": null,
       "padding": null,
       "right": null,
       "top": null,
       "visibility": null,
       "width": null
      }
     },
     "292671bbb7ca4ad8b0c7b4facbbd21fe": {
      "model_module": "@jupyter-widgets/controls",
      "model_module_version": "1.5.0",
      "model_name": "HTMLModel",
      "state": {
       "_dom_classes": [],
       "_model_module": "@jupyter-widgets/controls",
       "_model_module_version": "1.5.0",
       "_model_name": "HTMLModel",
       "_view_count": null,
       "_view_module": "@jupyter-widgets/controls",
       "_view_module_version": "1.5.0",
       "_view_name": "HTMLView",
       "description": "",
       "description_tooltip": null,
       "layout": "IPY_MODEL_3838cc7ef1ec49df9d2c8a5e48144f12",
       "placeholder": "​",
       "style": "IPY_MODEL_4f0a54666faf4b2198f8156ae739a5c0",
       "value": "vocab.json: 100%"
      }
     },
     "2932b75e68044ee8bc27f5c960eed6a5": {
      "model_module": "@jupyter-widgets/controls",
      "model_module_version": "1.5.0",
      "model_name": "HTMLModel",
      "state": {
       "_dom_classes": [],
       "_model_module": "@jupyter-widgets/controls",
       "_model_module_version": "1.5.0",
       "_model_name": "HTMLModel",
       "_view_count": null,
       "_view_module": "@jupyter-widgets/controls",
       "_view_module_version": "1.5.0",
       "_view_name": "HTMLView",
       "description": "",
       "description_tooltip": null,
       "layout": "IPY_MODEL_e75dfb6bfb9149aa9c6c38bc84466f16",
       "placeholder": "​",
       "style": "IPY_MODEL_a9988d3d76c74a35bcf78afa12143a32",
       "value": "special_tokens_map.json: 100%"
      }
     },
     "2f01510fd0de40ecbdc7880e68712be2": {
      "model_module": "@jupyter-widgets/controls",
      "model_module_version": "1.5.0",
      "model_name": "FloatProgressModel",
      "state": {
       "_dom_classes": [],
       "_model_module": "@jupyter-widgets/controls",
       "_model_module_version": "1.5.0",
       "_model_name": "FloatProgressModel",
       "_view_count": null,
       "_view_module": "@jupyter-widgets/controls",
       "_view_module_version": "1.5.0",
       "_view_name": "ProgressView",
       "bar_style": "success",
       "description": "",
       "description_tooltip": null,
       "layout": "IPY_MODEL_4791862bd32240c3b8132aae41bd93dd",
       "max": 720.0,
       "min": 0.0,
       "orientation": "horizontal",
       "style": "IPY_MODEL_9c44bc16011c40fd9abf0883853fa0ab",
       "value": 720.0
      }
     },
     "365c55fb978944f09e06fe3a125acf15": {
      "model_module": "@jupyter-widgets/controls",
      "model_module_version": "1.5.0",
      "model_name": "DescriptionStyleModel",
      "state": {
       "_model_module": "@jupyter-widgets/controls",
       "_model_module_version": "1.5.0",
       "_model_name": "DescriptionStyleModel",
       "_view_count": null,
       "_view_module": "@jupyter-widgets/base",
       "_view_module_version": "1.2.0",
       "_view_name": "StyleView",
       "description_width": ""
      }
     },
     "3838cc7ef1ec49df9d2c8a5e48144f12": {
      "model_module": "@jupyter-widgets/base",
      "model_module_version": "1.2.0",
      "model_name": "LayoutModel",
      "state": {
       "_model_module": "@jupyter-widgets/base",
       "_model_module_version": "1.2.0",
       "_model_name": "LayoutModel",
       "_view_count": null,
       "_view_module": "@jupyter-widgets/base",
       "_view_module_version": "1.2.0",
       "_view_name": "LayoutView",
       "align_content": null,
       "align_items": null,
       "align_self": null,
       "border": null,
       "bottom": null,
       "display": null,
       "flex": null,
       "flex_flow": null,
       "grid_area": null,
       "grid_auto_columns": null,
       "grid_auto_flow": null,
       "grid_auto_rows": null,
       "grid_column": null,
       "grid_gap": null,
       "grid_row": null,
       "grid_template_areas": null,
       "grid_template_columns": null,
       "grid_template_rows": null,
       "height": null,
       "justify_content": null,
       "justify_items": null,
       "left": null,
       "margin": null,
       "max_height": null,
       "max_width": null,
       "min_height": null,
       "min_width": null,
       "object_fit": null,
       "object_position": null,
       "order": null,
       "overflow": null,
       "overflow_x": null,
       "overflow_y": null,
       "padding": null,
       "right": null,
       "top": null,
       "visibility": null,
       "width": null
      }
     },
     "397ff2a06db340e8a517fb98ba509bfb": {
      "model_module": "@jupyter-widgets/base",
      "model_module_version": "1.2.0",
      "model_name": "LayoutModel",
      "state": {
       "_model_module": "@jupyter-widgets/base",
       "_model_module_version": "1.2.0",
       "_model_name": "LayoutModel",
       "_view_count": null,
       "_view_module": "@jupyter-widgets/base",
       "_view_module_version": "1.2.0",
       "_view_name": "LayoutView",
       "align_content": null,
       "align_items": null,
       "align_self": null,
       "border": null,
       "bottom": null,
       "display": null,
       "flex": null,
       "flex_flow": null,
       "grid_area": null,
       "grid_auto_columns": null,
       "grid_auto_flow": null,
       "grid_auto_rows": null,
       "grid_column": null,
       "grid_gap": null,
       "grid_row": null,
       "grid_template_areas": null,
       "grid_template_columns": null,
       "grid_template_rows": null,
       "height": null,
       "justify_content": null,
       "justify_items": null,
       "left": null,
       "margin": null,
       "max_height": null,
       "max_width": null,
       "min_height": null,
       "min_width": null,
       "object_fit": null,
       "object_position": null,
       "order": null,
       "overflow": null,
       "overflow_x": null,
       "overflow_y": null,
       "padding": null,
       "right": null,
       "top": null,
       "visibility": null,
       "width": null
      }
     },
     "3a354adbfbfe401e951ddbec39ade6ba": {
      "model_module": "@jupyter-widgets/base",
      "model_module_version": "1.2.0",
      "model_name": "LayoutModel",
      "state": {
       "_model_module": "@jupyter-widgets/base",
       "_model_module_version": "1.2.0",
       "_model_name": "LayoutModel",
       "_view_count": null,
       "_view_module": "@jupyter-widgets/base",
       "_view_module_version": "1.2.0",
       "_view_name": "LayoutView",
       "align_content": null,
       "align_items": null,
       "align_self": null,
       "border": null,
       "bottom": null,
       "display": null,
       "flex": null,
       "flex_flow": null,
       "grid_area": null,
       "grid_auto_columns": null,
       "grid_auto_flow": null,
       "grid_auto_rows": null,
       "grid_column": null,
       "grid_gap": null,
       "grid_row": null,
       "grid_template_areas": null,
       "grid_template_columns": null,
       "grid_template_rows": null,
       "height": null,
       "justify_content": null,
       "justify_items": null,
       "left": null,
       "margin": null,
       "max_height": null,
       "max_width": null,
       "min_height": null,
       "min_width": null,
       "object_fit": null,
       "object_position": null,
       "order": null,
       "overflow": null,
       "overflow_x": null,
       "overflow_y": null,
       "padding": null,
       "right": null,
       "top": null,
       "visibility": null,
       "width": null
      }
     },
     "3db622e2d6cf4658aa73ea5355b29d60": {
      "model_module": "@jupyter-widgets/controls",
      "model_module_version": "1.5.0",
      "model_name": "ProgressStyleModel",
      "state": {
       "_model_module": "@jupyter-widgets/controls",
       "_model_module_version": "1.5.0",
       "_model_name": "ProgressStyleModel",
       "_view_count": null,
       "_view_module": "@jupyter-widgets/base",
       "_view_module_version": "1.2.0",
       "_view_name": "StyleView",
       "bar_color": null,
       "description_width": ""
      }
     },
     "4066caf739f240c1b9b7f5877f333b9e": {
      "model_module": "@jupyter-widgets/controls",
      "model_module_version": "1.5.0",
      "model_name": "DescriptionStyleModel",
      "state": {
       "_model_module": "@jupyter-widgets/controls",
       "_model_module_version": "1.5.0",
       "_model_name": "DescriptionStyleModel",
       "_view_count": null,
       "_view_module": "@jupyter-widgets/base",
       "_view_module_version": "1.2.0",
       "_view_name": "StyleView",
       "description_width": ""
      }
     },
     "4335c118bef846a68fb8e094dc038a62": {
      "model_module": "@jupyter-widgets/controls",
      "model_module_version": "1.5.0",
      "model_name": "HTMLModel",
      "state": {
       "_dom_classes": [],
       "_model_module": "@jupyter-widgets/controls",
       "_model_module_version": "1.5.0",
       "_model_name": "HTMLModel",
       "_view_count": null,
       "_view_module": "@jupyter-widgets/controls",
       "_view_module_version": "1.5.0",
       "_view_name": "HTMLView",
       "description": "",
       "description_tooltip": null,
       "layout": "IPY_MODEL_e459c077c13d43d79b91f96fe149a36f",
       "placeholder": "​",
       "style": "IPY_MODEL_ff228d4a8c284b5b936c13bfbb6c84ca",
       "value": "tokenizer_config.json: 100%"
      }
     },
     "4395bab5dfb541cf80d3d1a81a48caa7": {
      "model_module": "@jupyter-widgets/base",
      "model_module_version": "1.2.0",
      "model_name": "LayoutModel",
      "state": {
       "_model_module": "@jupyter-widgets/base",
       "_model_module_version": "1.2.0",
       "_model_name": "LayoutModel",
       "_view_count": null,
       "_view_module": "@jupyter-widgets/base",
       "_view_module_version": "1.2.0",
       "_view_name": "LayoutView",
       "align_content": null,
       "align_items": null,
       "align_self": null,
       "border": null,
       "bottom": null,
       "display": null,
       "flex": null,
       "flex_flow": null,
       "grid_area": null,
       "grid_auto_columns": null,
       "grid_auto_flow": null,
       "grid_auto_rows": null,
       "grid_column": null,
       "grid_gap": null,
       "grid_row": null,
       "grid_template_areas": null,
       "grid_template_columns": null,
       "grid_template_rows": null,
       "height": null,
       "justify_content": null,
       "justify_items": null,
       "left": null,
       "margin": null,
       "max_height": null,
       "max_width": null,
       "min_height": null,
       "min_width": null,
       "object_fit": null,
       "object_position": null,
       "order": null,
       "overflow": null,
       "overflow_x": null,
       "overflow_y": null,
       "padding": null,
       "right": null,
       "top": null,
       "visibility": null,
       "width": null
      }
     },
     "44e0a9acdf9b44faa9e9de547046e749": {
      "model_module": "@jupyter-widgets/base",
      "model_module_version": "1.2.0",
      "model_name": "LayoutModel",
      "state": {
       "_model_module": "@jupyter-widgets/base",
       "_model_module_version": "1.2.0",
       "_model_name": "LayoutModel",
       "_view_count": null,
       "_view_module": "@jupyter-widgets/base",
       "_view_module_version": "1.2.0",
       "_view_name": "LayoutView",
       "align_content": null,
       "align_items": null,
       "align_self": null,
       "border": null,
       "bottom": null,
       "display": null,
       "flex": null,
       "flex_flow": null,
       "grid_area": null,
       "grid_auto_columns": null,
       "grid_auto_flow": null,
       "grid_auto_rows": null,
       "grid_column": null,
       "grid_gap": null,
       "grid_row": null,
       "grid_template_areas": null,
       "grid_template_columns": null,
       "grid_template_rows": null,
       "height": null,
       "justify_content": null,
       "justify_items": null,
       "left": null,
       "margin": null,
       "max_height": null,
       "max_width": null,
       "min_height": null,
       "min_width": null,
       "object_fit": null,
       "object_position": null,
       "order": null,
       "overflow": null,
       "overflow_x": null,
       "overflow_y": null,
       "padding": null,
       "right": null,
       "top": null,
       "visibility": null,
       "width": null
      }
     },
     "47867e92ed254c489c1ebc2a2dd16667": {
      "model_module": "@jupyter-widgets/controls",
      "model_module_version": "1.5.0",
      "model_name": "HBoxModel",
      "state": {
       "_dom_classes": [],
       "_model_module": "@jupyter-widgets/controls",
       "_model_module_version": "1.5.0",
       "_model_name": "HBoxModel",
       "_view_count": null,
       "_view_module": "@jupyter-widgets/controls",
       "_view_module_version": "1.5.0",
       "_view_name": "HBoxView",
       "box_style": "",
       "children": [
        "IPY_MODEL_5afed77207e44162895ef6554b380489",
        "IPY_MODEL_6c747c016f3a49b991062e778bd250a5",
        "IPY_MODEL_8ab941be07c34ee989f34c96fdf23522"
       ],
       "layout": "IPY_MODEL_0491de627a1145cbafb1456730f6edbf"
      }
     },
     "4791862bd32240c3b8132aae41bd93dd": {
      "model_module": "@jupyter-widgets/base",
      "model_module_version": "1.2.0",
      "model_name": "LayoutModel",
      "state": {
       "_model_module": "@jupyter-widgets/base",
       "_model_module_version": "1.2.0",
       "_model_name": "LayoutModel",
       "_view_count": null,
       "_view_module": "@jupyter-widgets/base",
       "_view_module_version": "1.2.0",
       "_view_name": "LayoutView",
       "align_content": null,
       "align_items": null,
       "align_self": null,
       "border": null,
       "bottom": null,
       "display": null,
       "flex": null,
       "flex_flow": null,
       "grid_area": null,
       "grid_auto_columns": null,
       "grid_auto_flow": null,
       "grid_auto_rows": null,
       "grid_column": null,
       "grid_gap": null,
       "grid_row": null,
       "grid_template_areas": null,
       "grid_template_columns": null,
       "grid_template_rows": null,
       "height": null,
       "justify_content": null,
       "justify_items": null,
       "left": null,
       "margin": null,
       "max_height": null,
       "max_width": null,
       "min_height": null,
       "min_width": null,
       "object_fit": null,
       "object_position": null,
       "order": null,
       "overflow": null,
       "overflow_x": null,
       "overflow_y": null,
       "padding": null,
       "right": null,
       "top": null,
       "visibility": null,
       "width": null
      }
     },
     "4f0a54666faf4b2198f8156ae739a5c0": {
      "model_module": "@jupyter-widgets/controls",
      "model_module_version": "1.5.0",
      "model_name": "DescriptionStyleModel",
      "state": {
       "_model_module": "@jupyter-widgets/controls",
       "_model_module_version": "1.5.0",
       "_model_name": "DescriptionStyleModel",
       "_view_count": null,
       "_view_module": "@jupyter-widgets/base",
       "_view_module_version": "1.2.0",
       "_view_name": "StyleView",
       "description_width": ""
      }
     },
     "561ec2c1b0db49c094e9fec4432c45ff": {
      "model_module": "@jupyter-widgets/controls",
      "model_module_version": "1.5.0",
      "model_name": "DescriptionStyleModel",
      "state": {
       "_model_module": "@jupyter-widgets/controls",
       "_model_module_version": "1.5.0",
       "_model_name": "DescriptionStyleModel",
       "_view_count": null,
       "_view_module": "@jupyter-widgets/base",
       "_view_module_version": "1.2.0",
       "_view_name": "StyleView",
       "description_width": ""
      }
     },
     "56ac83de1a2e460e84b857aac8ec59cb": {
      "model_module": "@jupyter-widgets/base",
      "model_module_version": "1.2.0",
      "model_name": "LayoutModel",
      "state": {
       "_model_module": "@jupyter-widgets/base",
       "_model_module_version": "1.2.0",
       "_model_name": "LayoutModel",
       "_view_count": null,
       "_view_module": "@jupyter-widgets/base",
       "_view_module_version": "1.2.0",
       "_view_name": "LayoutView",
       "align_content": null,
       "align_items": null,
       "align_self": null,
       "border": null,
       "bottom": null,
       "display": null,
       "flex": null,
       "flex_flow": null,
       "grid_area": null,
       "grid_auto_columns": null,
       "grid_auto_flow": null,
       "grid_auto_rows": null,
       "grid_column": null,
       "grid_gap": null,
       "grid_row": null,
       "grid_template_areas": null,
       "grid_template_columns": null,
       "grid_template_rows": null,
       "height": null,
       "justify_content": null,
       "justify_items": null,
       "left": null,
       "margin": null,
       "max_height": null,
       "max_width": null,
       "min_height": null,
       "min_width": null,
       "object_fit": null,
       "object_position": null,
       "order": null,
       "overflow": null,
       "overflow_x": null,
       "overflow_y": null,
       "padding": null,
       "right": null,
       "top": null,
       "visibility": null,
       "width": null
      }
     },
     "59c2b2fc1f4b4044a0485d1899534a3b": {
      "model_module": "@jupyter-widgets/base",
      "model_module_version": "1.2.0",
      "model_name": "LayoutModel",
      "state": {
       "_model_module": "@jupyter-widgets/base",
       "_model_module_version": "1.2.0",
       "_model_name": "LayoutModel",
       "_view_count": null,
       "_view_module": "@jupyter-widgets/base",
       "_view_module_version": "1.2.0",
       "_view_name": "LayoutView",
       "align_content": null,
       "align_items": null,
       "align_self": null,
       "border": null,
       "bottom": null,
       "display": null,
       "flex": null,
       "flex_flow": null,
       "grid_area": null,
       "grid_auto_columns": null,
       "grid_auto_flow": null,
       "grid_auto_rows": null,
       "grid_column": null,
       "grid_gap": null,
       "grid_row": null,
       "grid_template_areas": null,
       "grid_template_columns": null,
       "grid_template_rows": null,
       "height": null,
       "justify_content": null,
       "justify_items": null,
       "left": null,
       "margin": null,
       "max_height": null,
       "max_width": null,
       "min_height": null,
       "min_width": null,
       "object_fit": null,
       "object_position": null,
       "order": null,
       "overflow": null,
       "overflow_x": null,
       "overflow_y": null,
       "padding": null,
       "right": null,
       "top": null,
       "visibility": null,
       "width": null
      }
     },
     "5afed77207e44162895ef6554b380489": {
      "model_module": "@jupyter-widgets/controls",
      "model_module_version": "1.5.0",
      "model_name": "HTMLModel",
      "state": {
       "_dom_classes": [],
       "_model_module": "@jupyter-widgets/controls",
       "_model_module_version": "1.5.0",
       "_model_name": "HTMLModel",
       "_view_count": null,
       "_view_module": "@jupyter-widgets/controls",
       "_view_module_version": "1.5.0",
       "_view_name": "HTMLView",
       "description": "",
       "description_tooltip": null,
       "layout": "IPY_MODEL_3a354adbfbfe401e951ddbec39ade6ba",
       "placeholder": "​",
       "style": "IPY_MODEL_5f074db015bb4e20912be4e3076212bc",
       "value": "merges.txt: 100%"
      }
     },
     "5f074db015bb4e20912be4e3076212bc": {
      "model_module": "@jupyter-widgets/controls",
      "model_module_version": "1.5.0",
      "model_name": "DescriptionStyleModel",
      "state": {
       "_model_module": "@jupyter-widgets/controls",
       "_model_module_version": "1.5.0",
       "_model_name": "DescriptionStyleModel",
       "_view_count": null,
       "_view_module": "@jupyter-widgets/base",
       "_view_module_version": "1.2.0",
       "_view_name": "StyleView",
       "description_width": ""
      }
     },
     "61e61b27b43c4cf09cfe872507ffc0a9": {
      "model_module": "@jupyter-widgets/controls",
      "model_module_version": "1.5.0",
      "model_name": "DescriptionStyleModel",
      "state": {
       "_model_module": "@jupyter-widgets/controls",
       "_model_module_version": "1.5.0",
       "_model_name": "DescriptionStyleModel",
       "_view_count": null,
       "_view_module": "@jupyter-widgets/base",
       "_view_module_version": "1.2.0",
       "_view_name": "StyleView",
       "description_width": ""
      }
     },
     "6686e124dfb6444cb0dc386f2d8d8675": {
      "model_module": "@jupyter-widgets/base",
      "model_module_version": "1.2.0",
      "model_name": "LayoutModel",
      "state": {
       "_model_module": "@jupyter-widgets/base",
       "_model_module_version": "1.2.0",
       "_model_name": "LayoutModel",
       "_view_count": null,
       "_view_module": "@jupyter-widgets/base",
       "_view_module_version": "1.2.0",
       "_view_name": "LayoutView",
       "align_content": null,
       "align_items": null,
       "align_self": null,
       "border": null,
       "bottom": null,
       "display": null,
       "flex": null,
       "flex_flow": null,
       "grid_area": null,
       "grid_auto_columns": null,
       "grid_auto_flow": null,
       "grid_auto_rows": null,
       "grid_column": null,
       "grid_gap": null,
       "grid_row": null,
       "grid_template_areas": null,
       "grid_template_columns": null,
       "grid_template_rows": null,
       "height": null,
       "justify_content": null,
       "justify_items": null,
       "left": null,
       "margin": null,
       "max_height": null,
       "max_width": null,
       "min_height": null,
       "min_width": null,
       "object_fit": null,
       "object_position": null,
       "order": null,
       "overflow": null,
       "overflow_x": null,
       "overflow_y": null,
       "padding": null,
       "right": null,
       "top": null,
       "visibility": null,
       "width": null
      }
     },
     "6aa23fbcaedf4929bff1057669b04e08": {
      "model_module": "@jupyter-widgets/controls",
      "model_module_version": "1.5.0",
      "model_name": "ProgressStyleModel",
      "state": {
       "_model_module": "@jupyter-widgets/controls",
       "_model_module_version": "1.5.0",
       "_model_name": "ProgressStyleModel",
       "_view_count": null,
       "_view_module": "@jupyter-widgets/base",
       "_view_module_version": "1.2.0",
       "_view_name": "StyleView",
       "bar_color": null,
       "description_width": ""
      }
     },
     "6bd691f31f414540979ab843a8f7e7ee": {
      "model_module": "@jupyter-widgets/base",
      "model_module_version": "1.2.0",
      "model_name": "LayoutModel",
      "state": {
       "_model_module": "@jupyter-widgets/base",
       "_model_module_version": "1.2.0",
       "_model_name": "LayoutModel",
       "_view_count": null,
       "_view_module": "@jupyter-widgets/base",
       "_view_module_version": "1.2.0",
       "_view_name": "LayoutView",
       "align_content": null,
       "align_items": null,
       "align_self": null,
       "border": null,
       "bottom": null,
       "display": null,
       "flex": null,
       "flex_flow": null,
       "grid_area": null,
       "grid_auto_columns": null,
       "grid_auto_flow": null,
       "grid_auto_rows": null,
       "grid_column": null,
       "grid_gap": null,
       "grid_row": null,
       "grid_template_areas": null,
       "grid_template_columns": null,
       "grid_template_rows": null,
       "height": null,
       "justify_content": null,
       "justify_items": null,
       "left": null,
       "margin": null,
       "max_height": null,
       "max_width": null,
       "min_height": null,
       "min_width": null,
       "object_fit": null,
       "object_position": null,
       "order": null,
       "overflow": null,
       "overflow_x": null,
       "overflow_y": null,
       "padding": null,
       "right": null,
       "top": null,
       "visibility": null,
       "width": null
      }
     },
     "6c747c016f3a49b991062e778bd250a5": {
      "model_module": "@jupyter-widgets/controls",
      "model_module_version": "1.5.0",
      "model_name": "FloatProgressModel",
      "state": {
       "_dom_classes": [],
       "_model_module": "@jupyter-widgets/controls",
       "_model_module_version": "1.5.0",
       "_model_name": "FloatProgressModel",
       "_view_count": null,
       "_view_module": "@jupyter-widgets/controls",
       "_view_module_version": "1.5.0",
       "_view_name": "ProgressView",
       "bar_style": "success",
       "description": "",
       "description_tooltip": null,
       "layout": "IPY_MODEL_4395bab5dfb541cf80d3d1a81a48caa7",
       "max": 1270925.0,
       "min": 0.0,
       "orientation": "horizontal",
       "style": "IPY_MODEL_94d12b2755fe43328ccaab26b4121d0f",
       "value": 1270925.0
      }
     },
     "6e64a835ae874f5388f03bbe4e788d0f": {
      "model_module": "@jupyter-widgets/controls",
      "model_module_version": "1.5.0",
      "model_name": "HTMLModel",
      "state": {
       "_dom_classes": [],
       "_model_module": "@jupyter-widgets/controls",
       "_model_module_version": "1.5.0",
       "_model_name": "HTMLModel",
       "_view_count": null,
       "_view_module": "@jupyter-widgets/controls",
       "_view_module_version": "1.5.0",
       "_view_name": "HTMLView",
       "description": "",
       "description_tooltip": null,
       "layout": "IPY_MODEL_833466d07a0049bb849834f448e37845",
       "placeholder": "​",
       "style": "IPY_MODEL_01af63b7e318471aa56ab4be9ec19c60",
       "value": " 1.25k/1.25k [00:00&lt;00:00, 100kB/s]"
      }
     },
     "833466d07a0049bb849834f448e37845": {
      "model_module": "@jupyter-widgets/base",
      "model_module_version": "1.2.0",
      "model_name": "LayoutModel",
      "state": {
       "_model_module": "@jupyter-widgets/base",
       "_model_module_version": "1.2.0",
       "_model_name": "LayoutModel",
       "_view_count": null,
       "_view_module": "@jupyter-widgets/base",
       "_view_module_version": "1.2.0",
       "_view_name": "LayoutView",
       "align_content": null,
       "align_items": null,
       "align_self": null,
       "border": null,
       "bottom": null,
       "display": null,
       "flex": null,
       "flex_flow": null,
       "grid_area": null,
       "grid_auto_columns": null,
       "grid_auto_flow": null,
       "grid_auto_rows": null,
       "grid_column": null,
       "grid_gap": null,
       "grid_row": null,
       "grid_template_areas": null,
       "grid_template_columns": null,
       "grid_template_rows": null,
       "height": null,
       "justify_content": null,
       "justify_items": null,
       "left": null,
       "margin": null,
       "max_height": null,
       "max_width": null,
       "min_height": null,
       "min_width": null,
       "object_fit": null,
       "object_position": null,
       "order": null,
       "overflow": null,
       "overflow_x": null,
       "overflow_y": null,
       "padding": null,
       "right": null,
       "top": null,
       "visibility": null,
       "width": null
      }
     },
     "8ab941be07c34ee989f34c96fdf23522": {
      "model_module": "@jupyter-widgets/controls",
      "model_module_version": "1.5.0",
      "model_name": "HTMLModel",
      "state": {
       "_dom_classes": [],
       "_model_module": "@jupyter-widgets/controls",
       "_model_module_version": "1.5.0",
       "_model_name": "HTMLModel",
       "_view_count": null,
       "_view_module": "@jupyter-widgets/controls",
       "_view_module_version": "1.5.0",
       "_view_name": "HTMLView",
       "description": "",
       "description_tooltip": null,
       "layout": "IPY_MODEL_16cf37bc501d43578cdeb1ca6666c932",
       "placeholder": "​",
       "style": "IPY_MODEL_4066caf739f240c1b9b7f5877f333b9e",
       "value": " 1.27M/1.27M [00:00&lt;00:00, 6.56MB/s]"
      }
     },
     "8bcb3c6e504c4c1394779211e7091d94": {
      "model_module": "@jupyter-widgets/controls",
      "model_module_version": "1.5.0",
      "model_name": "FloatProgressModel",
      "state": {
       "_dom_classes": [],
       "_model_module": "@jupyter-widgets/controls",
       "_model_module_version": "1.5.0",
       "_model_name": "FloatProgressModel",
       "_view_count": null,
       "_view_module": "@jupyter-widgets/controls",
       "_view_module_version": "1.5.0",
       "_view_name": "ProgressView",
       "bar_style": "success",
       "description": "",
       "description_tooltip": null,
       "layout": "IPY_MODEL_6bd691f31f414540979ab843a8f7e7ee",
       "max": 1252.0,
       "min": 0.0,
       "orientation": "horizontal",
       "style": "IPY_MODEL_6aa23fbcaedf4929bff1057669b04e08",
       "value": 1252.0
      }
     },
     "8d501f4ddab24dfcbb4c430e5cdf9232": {
      "model_module": "@jupyter-widgets/controls",
      "model_module_version": "1.5.0",
      "model_name": "HTMLModel",
      "state": {
       "_dom_classes": [],
       "_model_module": "@jupyter-widgets/controls",
       "_model_module_version": "1.5.0",
       "_model_name": "HTMLModel",
       "_view_count": null,
       "_view_module": "@jupyter-widgets/controls",
       "_view_module_version": "1.5.0",
       "_view_name": "HTMLView",
       "description": "",
       "description_tooltip": null,
       "layout": "IPY_MODEL_59c2b2fc1f4b4044a0485d1899534a3b",
       "placeholder": "​",
       "style": "IPY_MODEL_056d252fab0747aaa58c4f1ea732cd01",
       "value": " 574/574 [00:00&lt;00:00, 49.7kB/s]"
      }
     },
     "94d12b2755fe43328ccaab26b4121d0f": {
      "model_module": "@jupyter-widgets/controls",
      "model_module_version": "1.5.0",
      "model_name": "ProgressStyleModel",
      "state": {
       "_model_module": "@jupyter-widgets/controls",
       "_model_module_version": "1.5.0",
       "_model_name": "ProgressStyleModel",
       "_view_count": null,
       "_view_module": "@jupyter-widgets/base",
       "_view_module_version": "1.2.0",
       "_view_name": "StyleView",
       "bar_color": null,
       "description_width": ""
      }
     },
     "95dcc6ad0ac6441499fea7a3903dc5f6": {
      "model_module": "@jupyter-widgets/controls",
      "model_module_version": "1.5.0",
      "model_name": "HBoxModel",
      "state": {
       "_dom_classes": [],
       "_model_module": "@jupyter-widgets/controls",
       "_model_module_version": "1.5.0",
       "_model_name": "HBoxModel",
       "_view_count": null,
       "_view_module": "@jupyter-widgets/controls",
       "_view_module_version": "1.5.0",
       "_view_name": "HBoxView",
       "box_style": "",
       "children": [
        "IPY_MODEL_9f694884857e48aeaf72bdf1ab864fb2",
        "IPY_MODEL_2f01510fd0de40ecbdc7880e68712be2",
        "IPY_MODEL_d667fbe6c3a74d54ac907fc40e7b53f0"
       ],
       "layout": "IPY_MODEL_eb9f9035b5d146eca2996a79e8391ac9"
      }
     },
     "99b795c89b83402198e241538cc0025e": {
      "model_module": "@jupyter-widgets/controls",
      "model_module_version": "1.5.0",
      "model_name": "ProgressStyleModel",
      "state": {
       "_model_module": "@jupyter-widgets/controls",
       "_model_module_version": "1.5.0",
       "_model_name": "ProgressStyleModel",
       "_view_count": null,
       "_view_module": "@jupyter-widgets/base",
       "_view_module_version": "1.2.0",
       "_view_name": "StyleView",
       "bar_color": null,
       "description_width": ""
      }
     },
     "99ddbd89dd614cb2bcf097eefbcac05f": {
      "model_module": "@jupyter-widgets/base",
      "model_module_version": "1.2.0",
      "model_name": "LayoutModel",
      "state": {
       "_model_module": "@jupyter-widgets/base",
       "_model_module_version": "1.2.0",
       "_model_name": "LayoutModel",
       "_view_count": null,
       "_view_module": "@jupyter-widgets/base",
       "_view_module_version": "1.2.0",
       "_view_name": "LayoutView",
       "align_content": null,
       "align_items": null,
       "align_self": null,
       "border": null,
       "bottom": null,
       "display": null,
       "flex": null,
       "flex_flow": null,
       "grid_area": null,
       "grid_auto_columns": null,
       "grid_auto_flow": null,
       "grid_auto_rows": null,
       "grid_column": null,
       "grid_gap": null,
       "grid_row": null,
       "grid_template_areas": null,
       "grid_template_columns": null,
       "grid_template_rows": null,
       "height": null,
       "justify_content": null,
       "justify_items": null,
       "left": null,
       "margin": null,
       "max_height": null,
       "max_width": null,
       "min_height": null,
       "min_width": null,
       "object_fit": null,
       "object_position": null,
       "order": null,
       "overflow": null,
       "overflow_x": null,
       "overflow_y": null,
       "padding": null,
       "right": null,
       "top": null,
       "visibility": null,
       "width": null
      }
     },
     "9c44bc16011c40fd9abf0883853fa0ab": {
      "model_module": "@jupyter-widgets/controls",
      "model_module_version": "1.5.0",
      "model_name": "ProgressStyleModel",
      "state": {
       "_model_module": "@jupyter-widgets/controls",
       "_model_module_version": "1.5.0",
       "_model_name": "ProgressStyleModel",
       "_view_count": null,
       "_view_module": "@jupyter-widgets/base",
       "_view_module_version": "1.2.0",
       "_view_name": "StyleView",
       "bar_color": null,
       "description_width": ""
      }
     },
     "9f694884857e48aeaf72bdf1ab864fb2": {
      "model_module": "@jupyter-widgets/controls",
      "model_module_version": "1.5.0",
      "model_name": "HTMLModel",
      "state": {
       "_dom_classes": [],
       "_model_module": "@jupyter-widgets/controls",
       "_model_module_version": "1.5.0",
       "_model_name": "HTMLModel",
       "_view_count": null,
       "_view_module": "@jupyter-widgets/controls",
       "_view_module_version": "1.5.0",
       "_view_name": "HTMLView",
       "description": "",
       "description_tooltip": null,
       "layout": "IPY_MODEL_56ac83de1a2e460e84b857aac8ec59cb",
       "placeholder": "​",
       "style": "IPY_MODEL_1f8d3c1ebdd94d5f8bb2263382413d65",
       "value": "config.json: 100%"
      }
     },
     "a3a6e2f004c6416d95c0ccd165630194": {
      "model_module": "@jupyter-widgets/base",
      "model_module_version": "1.2.0",
      "model_name": "LayoutModel",
      "state": {
       "_model_module": "@jupyter-widgets/base",
       "_model_module_version": "1.2.0",
       "_model_name": "LayoutModel",
       "_view_count": null,
       "_view_module": "@jupyter-widgets/base",
       "_view_module_version": "1.2.0",
       "_view_name": "LayoutView",
       "align_content": null,
       "align_items": null,
       "align_self": null,
       "border": null,
       "bottom": null,
       "display": null,
       "flex": null,
       "flex_flow": null,
       "grid_area": null,
       "grid_auto_columns": null,
       "grid_auto_flow": null,
       "grid_auto_rows": null,
       "grid_column": null,
       "grid_gap": null,
       "grid_row": null,
       "grid_template_areas": null,
       "grid_template_columns": null,
       "grid_template_rows": null,
       "height": null,
       "justify_content": null,
       "justify_items": null,
       "left": null,
       "margin": null,
       "max_height": null,
       "max_width": null,
       "min_height": null,
       "min_width": null,
       "object_fit": null,
       "object_position": null,
       "order": null,
       "overflow": null,
       "overflow_x": null,
       "overflow_y": null,
       "padding": null,
       "right": null,
       "top": null,
       "visibility": null,
       "width": null
      }
     },
     "a5551ec4329742a495610ec67f23f607": {
      "model_module": "@jupyter-widgets/controls",
      "model_module_version": "1.5.0",
      "model_name": "FloatProgressModel",
      "state": {
       "_dom_classes": [],
       "_model_module": "@jupyter-widgets/controls",
       "_model_module_version": "1.5.0",
       "_model_name": "FloatProgressModel",
       "_view_count": null,
       "_view_module": "@jupyter-widgets/controls",
       "_view_module_version": "1.5.0",
       "_view_name": "ProgressView",
       "bar_style": "success",
       "description": "",
       "description_tooltip": null,
       "layout": "IPY_MODEL_6686e124dfb6444cb0dc386f2d8d8675",
       "max": 1713123.0,
       "min": 0.0,
       "orientation": "horizontal",
       "style": "IPY_MODEL_3db622e2d6cf4658aa73ea5355b29d60",
       "value": 1713123.0
      }
     },
     "a9988d3d76c74a35bcf78afa12143a32": {
      "model_module": "@jupyter-widgets/controls",
      "model_module_version": "1.5.0",
      "model_name": "DescriptionStyleModel",
      "state": {
       "_model_module": "@jupyter-widgets/controls",
       "_model_module_version": "1.5.0",
       "_model_name": "DescriptionStyleModel",
       "_view_count": null,
       "_view_module": "@jupyter-widgets/base",
       "_view_module_version": "1.2.0",
       "_view_name": "StyleView",
       "description_width": ""
      }
     },
     "b08b2d299e0245f89a04882a8b6639c1": {
      "model_module": "@jupyter-widgets/controls",
      "model_module_version": "1.5.0",
      "model_name": "HBoxModel",
      "state": {
       "_dom_classes": [],
       "_model_module": "@jupyter-widgets/controls",
       "_model_module_version": "1.5.0",
       "_model_name": "HBoxModel",
       "_view_count": null,
       "_view_module": "@jupyter-widgets/controls",
       "_view_module_version": "1.5.0",
       "_view_name": "HBoxView",
       "box_style": "",
       "children": [
        "IPY_MODEL_292671bbb7ca4ad8b0c7b4facbbd21fe",
        "IPY_MODEL_a5551ec4329742a495610ec67f23f607",
        "IPY_MODEL_de10010973774aa6bbc9f05fd8ee073e"
       ],
       "layout": "IPY_MODEL_397ff2a06db340e8a517fb98ba509bfb"
      }
     },
     "b118a021f5e04c33b1fea2c2963fe367": {
      "model_module": "@jupyter-widgets/base",
      "model_module_version": "1.2.0",
      "model_name": "LayoutModel",
      "state": {
       "_model_module": "@jupyter-widgets/base",
       "_model_module_version": "1.2.0",
       "_model_name": "LayoutModel",
       "_view_count": null,
       "_view_module": "@jupyter-widgets/base",
       "_view_module_version": "1.2.0",
       "_view_name": "LayoutView",
       "align_content": null,
       "align_items": null,
       "align_self": null,
       "border": null,
       "bottom": null,
       "display": null,
       "flex": null,
       "flex_flow": null,
       "grid_area": null,
       "grid_auto_columns": null,
       "grid_auto_flow": null,
       "grid_auto_rows": null,
       "grid_column": null,
       "grid_gap": null,
       "grid_row": null,
       "grid_template_areas": null,
       "grid_template_columns": null,
       "grid_template_rows": null,
       "height": null,
       "justify_content": null,
       "justify_items": null,
       "left": null,
       "margin": null,
       "max_height": null,
       "max_width": null,
       "min_height": null,
       "min_width": null,
       "object_fit": null,
       "object_position": null,
       "order": null,
       "overflow": null,
       "overflow_x": null,
       "overflow_y": null,
       "padding": null,
       "right": null,
       "top": null,
       "visibility": null,
       "width": null
      }
     },
     "bd8452f48438448fbf28b2010cd845aa": {
      "model_module": "@jupyter-widgets/controls",
      "model_module_version": "1.5.0",
      "model_name": "HTMLModel",
      "state": {
       "_dom_classes": [],
       "_model_module": "@jupyter-widgets/controls",
       "_model_module_version": "1.5.0",
       "_model_name": "HTMLModel",
       "_view_count": null,
       "_view_module": "@jupyter-widgets/controls",
       "_view_module_version": "1.5.0",
       "_view_name": "HTMLView",
       "description": "",
       "description_tooltip": null,
       "layout": "IPY_MODEL_cc0801fac4164efe9960b07b982f97b8",
       "placeholder": "​",
       "style": "IPY_MODEL_61e61b27b43c4cf09cfe872507ffc0a9",
       "value": "pytorch_model.bin: 100%"
      }
     },
     "c77830264cfc458ba6ef3d38d193ac75": {
      "model_module": "@jupyter-widgets/controls",
      "model_module_version": "1.5.0",
      "model_name": "FloatProgressModel",
      "state": {
       "_dom_classes": [],
       "_model_module": "@jupyter-widgets/controls",
       "_model_module_version": "1.5.0",
       "_model_name": "FloatProgressModel",
       "_view_count": null,
       "_view_module": "@jupyter-widgets/controls",
       "_view_module_version": "1.5.0",
       "_view_name": "ProgressView",
       "bar_style": "success",
       "description": "",
       "description_tooltip": null,
       "layout": "IPY_MODEL_19d0b1192c4e4924937fbf13711a0c65",
       "max": 574.0,
       "min": 0.0,
       "orientation": "horizontal",
       "style": "IPY_MODEL_99b795c89b83402198e241538cc0025e",
       "value": 574.0
      }
     },
     "cc0801fac4164efe9960b07b982f97b8": {
      "model_module": "@jupyter-widgets/base",
      "model_module_version": "1.2.0",
      "model_name": "LayoutModel",
      "state": {
       "_model_module": "@jupyter-widgets/base",
       "_model_module_version": "1.2.0",
       "_model_name": "LayoutModel",
       "_view_count": null,
       "_view_module": "@jupyter-widgets/base",
       "_view_module_version": "1.2.0",
       "_view_name": "LayoutView",
       "align_content": null,
       "align_items": null,
       "align_self": null,
       "border": null,
       "bottom": null,
       "display": null,
       "flex": null,
       "flex_flow": null,
       "grid_area": null,
       "grid_auto_columns": null,
       "grid_auto_flow": null,
       "grid_auto_rows": null,
       "grid_column": null,
       "grid_gap": null,
       "grid_row": null,
       "grid_template_areas": null,
       "grid_template_columns": null,
       "grid_template_rows": null,
       "height": null,
       "justify_content": null,
       "justify_items": null,
       "left": null,
       "margin": null,
       "max_height": null,
       "max_width": null,
       "min_height": null,
       "min_width": null,
       "object_fit": null,
       "object_position": null,
       "order": null,
       "overflow": null,
       "overflow_x": null,
       "overflow_y": null,
       "padding": null,
       "right": null,
       "top": null,
       "visibility": null,
       "width": null
      }
     },
     "d1e8812d4e0c43d2a0bfad609a3a7e5f": {
      "model_module": "@jupyter-widgets/controls",
      "model_module_version": "1.5.0",
      "model_name": "HBoxModel",
      "state": {
       "_dom_classes": [],
       "_model_module": "@jupyter-widgets/controls",
       "_model_module_version": "1.5.0",
       "_model_name": "HBoxModel",
       "_view_count": null,
       "_view_module": "@jupyter-widgets/controls",
       "_view_module_version": "1.5.0",
       "_view_name": "HBoxView",
       "box_style": "",
       "children": [
        "IPY_MODEL_bd8452f48438448fbf28b2010cd845aa",
        "IPY_MODEL_1109f3446ce0481baa974e7c2046688d",
        "IPY_MODEL_da660ae4bc214350a4dc8f6334666b1c"
       ],
       "layout": "IPY_MODEL_248cb159d20a49308dad4ee7e2368823"
      }
     },
     "d667fbe6c3a74d54ac907fc40e7b53f0": {
      "model_module": "@jupyter-widgets/controls",
      "model_module_version": "1.5.0",
      "model_name": "HTMLModel",
      "state": {
       "_dom_classes": [],
       "_model_module": "@jupyter-widgets/controls",
       "_model_module_version": "1.5.0",
       "_model_name": "HTMLModel",
       "_view_count": null,
       "_view_module": "@jupyter-widgets/controls",
       "_view_module_version": "1.5.0",
       "_view_name": "HTMLView",
       "description": "",
       "description_tooltip": null,
       "layout": "IPY_MODEL_a3a6e2f004c6416d95c0ccd165630194",
       "placeholder": "​",
       "style": "IPY_MODEL_1be3379db6e64a839e727fd78ac5e343",
       "value": " 720/720 [00:00&lt;00:00, 64.1kB/s]"
      }
     },
     "da660ae4bc214350a4dc8f6334666b1c": {
      "model_module": "@jupyter-widgets/controls",
      "model_module_version": "1.5.0",
      "model_name": "HTMLModel",
      "state": {
       "_dom_classes": [],
       "_model_module": "@jupyter-widgets/controls",
       "_model_module_version": "1.5.0",
       "_model_name": "HTMLModel",
       "_view_count": null,
       "_view_module": "@jupyter-widgets/controls",
       "_view_module_version": "1.5.0",
       "_view_name": "HTMLView",
       "description": "",
       "description_tooltip": null,
       "layout": "IPY_MODEL_44e0a9acdf9b44faa9e9de547046e749",
       "placeholder": "​",
       "style": "IPY_MODEL_365c55fb978944f09e06fe3a125acf15",
       "value": " 551M/551M [00:08&lt;00:00, 60.6MB/s]"
      }
     },
     "de10010973774aa6bbc9f05fd8ee073e": {
      "model_module": "@jupyter-widgets/controls",
      "model_module_version": "1.5.0",
      "model_name": "HTMLModel",
      "state": {
       "_dom_classes": [],
       "_model_module": "@jupyter-widgets/controls",
       "_model_module_version": "1.5.0",
       "_model_name": "HTMLModel",
       "_view_count": null,
       "_view_module": "@jupyter-widgets/controls",
       "_view_module_version": "1.5.0",
       "_view_name": "HTMLView",
       "description": "",
       "description_tooltip": null,
       "layout": "IPY_MODEL_b118a021f5e04c33b1fea2c2963fe367",
       "placeholder": "​",
       "style": "IPY_MODEL_561ec2c1b0db49c094e9fec4432c45ff",
       "value": " 1.71M/1.71M [00:00&lt;00:00, 1.74MB/s]"
      }
     },
     "e459c077c13d43d79b91f96fe149a36f": {
      "model_module": "@jupyter-widgets/base",
      "model_module_version": "1.2.0",
      "model_name": "LayoutModel",
      "state": {
       "_model_module": "@jupyter-widgets/base",
       "_model_module_version": "1.2.0",
       "_model_name": "LayoutModel",
       "_view_count": null,
       "_view_module": "@jupyter-widgets/base",
       "_view_module_version": "1.2.0",
       "_view_name": "LayoutView",
       "align_content": null,
       "align_items": null,
       "align_self": null,
       "border": null,
       "bottom": null,
       "display": null,
       "flex": null,
       "flex_flow": null,
       "grid_area": null,
       "grid_auto_columns": null,
       "grid_auto_flow": null,
       "grid_auto_rows": null,
       "grid_column": null,
       "grid_gap": null,
       "grid_row": null,
       "grid_template_areas": null,
       "grid_template_columns": null,
       "grid_template_rows": null,
       "height": null,
       "justify_content": null,
       "justify_items": null,
       "left": null,
       "margin": null,
       "max_height": null,
       "max_width": null,
       "min_height": null,
       "min_width": null,
       "object_fit": null,
       "object_position": null,
       "order": null,
       "overflow": null,
       "overflow_x": null,
       "overflow_y": null,
       "padding": null,
       "right": null,
       "top": null,
       "visibility": null,
       "width": null
      }
     },
     "e75dfb6bfb9149aa9c6c38bc84466f16": {
      "model_module": "@jupyter-widgets/base",
      "model_module_version": "1.2.0",
      "model_name": "LayoutModel",
      "state": {
       "_model_module": "@jupyter-widgets/base",
       "_model_module_version": "1.2.0",
       "_model_name": "LayoutModel",
       "_view_count": null,
       "_view_module": "@jupyter-widgets/base",
       "_view_module_version": "1.2.0",
       "_view_name": "LayoutView",
       "align_content": null,
       "align_items": null,
       "align_self": null,
       "border": null,
       "bottom": null,
       "display": null,
       "flex": null,
       "flex_flow": null,
       "grid_area": null,
       "grid_auto_columns": null,
       "grid_auto_flow": null,
       "grid_auto_rows": null,
       "grid_column": null,
       "grid_gap": null,
       "grid_row": null,
       "grid_template_areas": null,
       "grid_template_columns": null,
       "grid_template_rows": null,
       "height": null,
       "justify_content": null,
       "justify_items": null,
       "left": null,
       "margin": null,
       "max_height": null,
       "max_width": null,
       "min_height": null,
       "min_width": null,
       "object_fit": null,
       "object_position": null,
       "order": null,
       "overflow": null,
       "overflow_x": null,
       "overflow_y": null,
       "padding": null,
       "right": null,
       "top": null,
       "visibility": null,
       "width": null
      }
     },
     "eb629edc67f94c778e0685cd09ace76f": {
      "model_module": "@jupyter-widgets/base",
      "model_module_version": "1.2.0",
      "model_name": "LayoutModel",
      "state": {
       "_model_module": "@jupyter-widgets/base",
       "_model_module_version": "1.2.0",
       "_model_name": "LayoutModel",
       "_view_count": null,
       "_view_module": "@jupyter-widgets/base",
       "_view_module_version": "1.2.0",
       "_view_name": "LayoutView",
       "align_content": null,
       "align_items": null,
       "align_self": null,
       "border": null,
       "bottom": null,
       "display": null,
       "flex": null,
       "flex_flow": null,
       "grid_area": null,
       "grid_auto_columns": null,
       "grid_auto_flow": null,
       "grid_auto_rows": null,
       "grid_column": null,
       "grid_gap": null,
       "grid_row": null,
       "grid_template_areas": null,
       "grid_template_columns": null,
       "grid_template_rows": null,
       "height": null,
       "justify_content": null,
       "justify_items": null,
       "left": null,
       "margin": null,
       "max_height": null,
       "max_width": null,
       "min_height": null,
       "min_width": null,
       "object_fit": null,
       "object_position": null,
       "order": null,
       "overflow": null,
       "overflow_x": null,
       "overflow_y": null,
       "padding": null,
       "right": null,
       "top": null,
       "visibility": null,
       "width": null
      }
     },
     "eb9f9035b5d146eca2996a79e8391ac9": {
      "model_module": "@jupyter-widgets/base",
      "model_module_version": "1.2.0",
      "model_name": "LayoutModel",
      "state": {
       "_model_module": "@jupyter-widgets/base",
       "_model_module_version": "1.2.0",
       "_model_name": "LayoutModel",
       "_view_count": null,
       "_view_module": "@jupyter-widgets/base",
       "_view_module_version": "1.2.0",
       "_view_name": "LayoutView",
       "align_content": null,
       "align_items": null,
       "align_self": null,
       "border": null,
       "bottom": null,
       "display": null,
       "flex": null,
       "flex_flow": null,
       "grid_area": null,
       "grid_auto_columns": null,
       "grid_auto_flow": null,
       "grid_auto_rows": null,
       "grid_column": null,
       "grid_gap": null,
       "grid_row": null,
       "grid_template_areas": null,
       "grid_template_columns": null,
       "grid_template_rows": null,
       "height": null,
       "justify_content": null,
       "justify_items": null,
       "left": null,
       "margin": null,
       "max_height": null,
       "max_width": null,
       "min_height": null,
       "min_width": null,
       "object_fit": null,
       "object_position": null,
       "order": null,
       "overflow": null,
       "overflow_x": null,
       "overflow_y": null,
       "padding": null,
       "right": null,
       "top": null,
       "visibility": null,
       "width": null
      }
     },
     "f1aaed789a30466d898d4093b2a8910e": {
      "model_module": "@jupyter-widgets/controls",
      "model_module_version": "1.5.0",
      "model_name": "HBoxModel",
      "state": {
       "_dom_classes": [],
       "_model_module": "@jupyter-widgets/controls",
       "_model_module_version": "1.5.0",
       "_model_name": "HBoxModel",
       "_view_count": null,
       "_view_module": "@jupyter-widgets/controls",
       "_view_module_version": "1.5.0",
       "_view_name": "HBoxView",
       "box_style": "",
       "children": [
        "IPY_MODEL_2932b75e68044ee8bc27f5c960eed6a5",
        "IPY_MODEL_c77830264cfc458ba6ef3d38d193ac75",
        "IPY_MODEL_8d501f4ddab24dfcbb4c430e5cdf9232"
       ],
       "layout": "IPY_MODEL_99ddbd89dd614cb2bcf097eefbcac05f"
      }
     },
     "ff228d4a8c284b5b936c13bfbb6c84ca": {
      "model_module": "@jupyter-widgets/controls",
      "model_module_version": "1.5.0",
      "model_name": "DescriptionStyleModel",
      "state": {
       "_model_module": "@jupyter-widgets/controls",
       "_model_module_version": "1.5.0",
       "_model_name": "DescriptionStyleModel",
       "_view_count": null,
       "_view_module": "@jupyter-widgets/base",
       "_view_module_version": "1.2.0",
       "_view_name": "StyleView",
       "description_width": ""
      }
     }
    },
    "version_major": 2,
    "version_minor": 0
   }
  }
 },
 "nbformat": 4,
 "nbformat_minor": 5
}
